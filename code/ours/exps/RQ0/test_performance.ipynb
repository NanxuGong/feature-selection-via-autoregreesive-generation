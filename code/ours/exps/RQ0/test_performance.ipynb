{
 "cells": [
  {
   "cell_type": "code",
   "execution_count": 1,
   "outputs": [
    {
     "name": "stdout",
     "output_type": "stream",
     "text": [
      "['/home/xiaomeng/jupyter_base', '/home/xiaomeng/miniconda3/envs/shaow/lib/python39.zip', '/home/xiaomeng/miniconda3/envs/shaow/lib/python3.9', '/home/xiaomeng/miniconda3/envs/shaow/lib/python3.9/lib-dynload', '', '/home/xiaomeng/.local/lib/python3.9/site-packages', '/home/xiaomeng/miniconda3/envs/shaow/lib/python3.9/site-packages', '/home/xiaomeng/jupyter_base/AutoFS/code']\n"
     ]
    }
   ],
   "source": [
    "import os\n",
    "import sys\n",
    "\n",
    "sys.path.append('/home/xiaomeng/jupyter_base/AutoFS/code')\n",
    "print(sys.path)"
   ],
   "metadata": {
    "collapsed": false,
    "pycharm": {
     "name": "#%%\n"
    }
   }
  },
  {
   "cell_type": "code",
   "execution_count": 2,
   "outputs": [
    {
     "name": "stderr",
     "output_type": "stream",
     "text": [
      "/home/xiaomeng/miniconda3/envs/shaow/lib/python3.9/site-packages/xgboost/compat.py:36: FutureWarning: pandas.Int64Index is deprecated and will be removed from pandas in a future version. Use pandas.Index with the appropriate dtype instead.\n",
      "  from pandas import MultiIndex, Int64Index\n"
     ]
    }
   ],
   "source": [
    "from feature_env import FeatureEvaluator\n",
    "import numpy as np\n",
    "\n",
    "import pandas as pd\n",
    "import matplotlib.pyplot as plt\n",
    "import tqdm"
   ],
   "metadata": {
    "collapsed": false,
    "pycharm": {
     "name": "#%%\n"
    }
   }
  },
  {
   "cell_type": "code",
   "execution_count": 8,
   "outputs": [],
   "source": [
    "name = 'openml_586'\n",
    "sample_times = 100"
   ],
   "metadata": {
    "collapsed": false,
    "pycharm": {
     "name": "#%%\n"
    }
   }
  },
  {
   "cell_type": "code",
   "execution_count": 11,
   "outputs": [
    {
     "name": "stderr",
     "output_type": "stream",
     "text": [
      "100%|██████████| 100/100 [06:24<00:00,  3.85s/it]\n"
     ]
    }
   ],
   "source": [
    "fe = FeatureEvaluator(name)\n",
    "data_size = fe.ds_size\n",
    "performances = []\n",
    "original_performance = fe.get_performance()\n",
    "for i in tqdm.tqdm(range(sample_times)):\n",
    "    gen_data = fe.generate_data(np.random.randint(2, size=data_size))\n",
    "    performance = fe.get_performance(gen_data)\n",
    "    performances.append(performance)\n",
    "ps = pd.DataFrame(performances)"
   ],
   "metadata": {
    "collapsed": false,
    "pycharm": {
     "name": "#%%\n"
    }
   }
  },
  {
   "cell_type": "code",
   "execution_count": 12,
   "outputs": [
    {
     "data": {
      "text/plain": "           0\n0   0.118427\n1   0.430022\n2   0.112213\n3  -0.139113\n4   0.273747\n..       ...\n95  0.100356\n96  0.122930\n97 -0.064865\n98 -0.254848\n99 -0.165622\n\n[100 rows x 1 columns]",
      "text/html": "<div>\n<style scoped>\n    .dataframe tbody tr th:only-of-type {\n        vertical-align: middle;\n    }\n\n    .dataframe tbody tr th {\n        vertical-align: top;\n    }\n\n    .dataframe thead th {\n        text-align: right;\n    }\n</style>\n<table border=\"1\" class=\"dataframe\">\n  <thead>\n    <tr style=\"text-align: right;\">\n      <th></th>\n      <th>0</th>\n    </tr>\n  </thead>\n  <tbody>\n    <tr>\n      <th>0</th>\n      <td>0.118427</td>\n    </tr>\n    <tr>\n      <th>1</th>\n      <td>0.430022</td>\n    </tr>\n    <tr>\n      <th>2</th>\n      <td>0.112213</td>\n    </tr>\n    <tr>\n      <th>3</th>\n      <td>-0.139113</td>\n    </tr>\n    <tr>\n      <th>4</th>\n      <td>0.273747</td>\n    </tr>\n    <tr>\n      <th>...</th>\n      <td>...</td>\n    </tr>\n    <tr>\n      <th>95</th>\n      <td>0.100356</td>\n    </tr>\n    <tr>\n      <th>96</th>\n      <td>0.122930</td>\n    </tr>\n    <tr>\n      <th>97</th>\n      <td>-0.064865</td>\n    </tr>\n    <tr>\n      <th>98</th>\n      <td>-0.254848</td>\n    </tr>\n    <tr>\n      <th>99</th>\n      <td>-0.165622</td>\n    </tr>\n  </tbody>\n</table>\n<p>100 rows × 1 columns</p>\n</div>"
     },
     "execution_count": 12,
     "metadata": {},
     "output_type": "execute_result"
    }
   ],
   "source": [
    "ps"
   ],
   "metadata": {
    "collapsed": false,
    "pycharm": {
     "name": "#%%\n"
    }
   }
  },
  {
   "cell_type": "code",
   "execution_count": 13,
   "outputs": [],
   "source": [
    "import matplotlib.pyplot as plt"
   ],
   "metadata": {
    "collapsed": false,
    "pycharm": {
     "name": "#%%\n"
    }
   }
  },
  {
   "cell_type": "code",
   "execution_count": 17,
   "outputs": [
    {
     "data": {
      "text/plain": "(array([3., 1., 1., 0., 0., 0., 0., 0., 0., 0., 0., 0., 2., 1., 0., 1., 2.,\n        0., 0., 0., 0., 1., 0., 4., 5., 2., 1., 2., 2., 1., 2., 2., 1., 0.,\n        0., 0., 0., 0., 0., 0., 0., 0., 0., 0., 0., 0., 0., 0., 0., 1., 2.,\n        1., 2., 5., 7., 5., 1., 1., 0., 1., 0., 1., 3., 2., 0., 0., 0., 0.,\n        1., 2., 0., 1., 2., 2., 0., 1., 4., 0., 1., 0., 3., 1., 2., 1., 0.,\n        0., 0., 0., 0., 0., 0., 0., 0., 0., 0., 0., 0., 4., 3., 6.]),\n array([-0.2548485 , -0.24792758, -0.24100667, -0.23408575, -0.22716484,\n        -0.22024392, -0.21332301, -0.20640209, -0.19948118, -0.19256026,\n        -0.18563935, -0.17871844, -0.17179752, -0.16487661, -0.15795569,\n        -0.15103478, -0.14411386, -0.13719295, -0.13027203, -0.12335112,\n        -0.1164302 , -0.10950929, -0.10258837, -0.09566746, -0.08874654,\n        -0.08182563, -0.07490471, -0.0679838 , -0.06106288, -0.05414197,\n        -0.04722105, -0.04030014, -0.03337922, -0.02645831, -0.01953739,\n        -0.01261648, -0.00569557,  0.00122535,  0.00814626,  0.01506718,\n         0.02198809,  0.02890901,  0.03582992,  0.04275084,  0.04967175,\n         0.05659267,  0.06351358,  0.0704345 ,  0.07735541,  0.08427633,\n         0.09119724,  0.09811816,  0.10503907,  0.11195999,  0.1188809 ,\n         0.12580182,  0.13272273,  0.13964365,  0.14656456,  0.15348548,\n         0.16040639,  0.16732731,  0.17424822,  0.18116913,  0.18809005,\n         0.19501096,  0.20193188,  0.20885279,  0.21577371,  0.22269462,\n         0.22961554,  0.23653645,  0.24345737,  0.25037828,  0.2572992 ,\n         0.26422011,  0.27114103,  0.27806194,  0.28498286,  0.29190377,\n         0.29882469,  0.3057456 ,  0.31266652,  0.31958743,  0.32650835,\n         0.33342926,  0.34035018,  0.34727109,  0.354192  ,  0.36111292,\n         0.36803383,  0.37495475,  0.38187566,  0.38879658,  0.39571749,\n         0.40263841,  0.40955932,  0.41648024,  0.42340115,  0.43032207,\n         0.43724298]),\n <BarContainer object of 100 artists>)"
     },
     "execution_count": 17,
     "metadata": {},
     "output_type": "execute_result"
    },
    {
     "data": {
      "text/plain": "<Figure size 432x288 with 1 Axes>",
      "image/png": "[encoded data removed]"
     },
     "metadata": {
      "needs_background": "light"
     },
     "output_type": "display_data"
    }
   ],
   "source": [
    "plt.hist(ps, bins=100)"
   ],
   "metadata": {
    "collapsed": false,
    "pycharm": {
     "name": "#%%\n"
    }
   }
  },
  {
   "cell_type": "code",
   "execution_count": 18,
   "outputs": [
    {
     "data": {
      "text/plain": "0.4119031358125893"
     },
     "execution_count": 18,
     "metadata": {},
     "output_type": "execute_result"
    }
   ],
   "source": [
    "original_performance"
   ],
   "metadata": {
    "collapsed": false,
    "pycharm": {
     "name": "#%%\n"
    }
   }
  },
  {
   "cell_type": "code",
   "execution_count": 49,
   "outputs": [
    {
     "name": "stderr",
     "output_type": "stream",
     "text": [
      "100%|██████████| 100/100 [01:52<00:00,  1.13s/it]\n"
     ]
    },
    {
     "data": {
      "text/plain": "(array([1., 0., 0., 1., 0., 0., 0., 0., 0., 0., 0., 0., 0., 0., 0., 0., 0.,\n        0., 0., 0., 1., 1., 0., 0., 0., 1., 0., 1., 1., 3., 3., 1., 0., 1.,\n        2., 1., 0., 1., 1., 2., 5., 0., 1., 0., 0., 7., 2., 0., 1., 3., 5.,\n        1., 0., 2., 2., 0., 2., 2., 1., 0., 2., 2., 3., 1., 1., 4., 1., 4.,\n        1., 1., 0., 0., 3., 3., 2., 3., 0., 1., 1., 0., 1., 2., 3., 1., 0.,\n        0., 0., 0., 0., 1., 0., 0., 0., 1., 0., 0., 0., 0., 1., 1.]),\n array([0.83870491, 0.83907765, 0.8394504 , 0.83982314, 0.84019588,\n        0.84056862, 0.84094136, 0.8413141 , 0.84168684, 0.84205958,\n        0.84243232, 0.84280506, 0.8431778 , 0.84355054, 0.84392329,\n        0.84429603, 0.84466877, 0.84504151, 0.84541425, 0.84578699,\n        0.84615973, 0.84653247, 0.84690521, 0.84727795, 0.84765069,\n        0.84802343, 0.84839618, 0.84876892, 0.84914166, 0.8495144 ,\n        0.84988714, 0.85025988, 0.85063262, 0.85100536, 0.8513781 ,\n        0.85175084, 0.85212358, 0.85249632, 0.85286906, 0.85324181,\n        0.85361455, 0.85398729, 0.85436003, 0.85473277, 0.85510551,\n        0.85547825, 0.85585099, 0.85622373, 0.85659647, 0.85696921,\n        0.85734195, 0.8577147 , 0.85808744, 0.85846018, 0.85883292,\n        0.85920566, 0.8595784 , 0.85995114, 0.86032388, 0.86069662,\n        0.86106936, 0.8614421 , 0.86181484, 0.86218759, 0.86256033,\n        0.86293307, 0.86330581, 0.86367855, 0.86405129, 0.86442403,\n        0.86479677, 0.86516951, 0.86554225, 0.86591499, 0.86628773,\n        0.86666048, 0.86703322, 0.86740596, 0.8677787 , 0.86815144,\n        0.86852418, 0.86889692, 0.86926966, 0.8696424 , 0.87001514,\n        0.87038788, 0.87076062, 0.87113336, 0.87150611, 0.87187885,\n        0.87225159, 0.87262433, 0.87299707, 0.87336981, 0.87374255,\n        0.87411529, 0.87448803, 0.87486077, 0.87523351, 0.87560625,\n        0.875979  ]),\n <BarContainer object of 100 artists>)"
     },
     "execution_count": 49,
     "metadata": {},
     "output_type": "execute_result"
    },
    {
     "data": {
      "text/plain": "<Figure size 432x288 with 1 Axes>",
      "image/png": "[encoded data removed]"
     },
     "metadata": {
      "needs_background": "light"
     },
     "output_type": "display_data"
    }
   ],
   "source": [
    "name = 'megawatt1'\n",
    "sample_times = 100\n",
    "fe = FeatureEvaluator(name)\n",
    "data_size = fe.ds_size\n",
    "performances = []\n",
    "original_performance = fe.get_performance()\n",
    "for i in tqdm.tqdm(range(sample_times)):\n",
    "    gen_data = fe.generate_data(np.random.randint(2, size=data_size))\n",
    "    performance = fe.get_performance(gen_data)\n",
    "    performances.append(performance)\n",
    "ps = pd.DataFrame(performances)\n",
    "plt.figure()\n",
    "plt.hist(ps, bins=100)"
   ],
   "metadata": {
    "collapsed": false,
    "pycharm": {
     "name": "#%%\n"
    }
   }
  },
  {
   "cell_type": "code",
   "execution_count": 50,
   "outputs": [],
   "source": [
    "import torch"
   ],
   "metadata": {
    "collapsed": false,
    "pycharm": {
     "name": "#%%\n"
    }
   }
  },
  {
   "cell_type": "code",
   "execution_count": 60,
   "outputs": [
    {
     "data": {
      "text/plain": "(array([  3.,   0.,   0.,   0.,   0.,   0.,   4.,   6.,   1.,   0.,   0.,\n          5.,  34.,  23.,   3.,   3.,   2.,   0.,   0.,   0.,   0.,   0.,\n          0.,   2.,   8.,  31., 128.,   7.,   4.,   2.,   5.,   1.,   1.,\n          6.,   5.,   6.,   3.,   8.,  13.,  11.,   2.,   0.,   0.,   0.,\n          0.,   0.,   8.,  16.,   4.,   2.]),\n array([-0.26063715, -0.24602738, -0.2314176 , -0.21680782, -0.20219805,\n        -0.18758827, -0.1729785 , -0.15836872, -0.14375895, -0.12914917,\n        -0.1145394 , -0.09992962, -0.08531985, -0.07071007, -0.0561003 ,\n        -0.04149052, -0.02688074, -0.01227097,  0.00233881,  0.01694858,\n         0.03155836,  0.04616813,  0.06077791,  0.07538768,  0.08999746,\n         0.10460723,  0.11921701,  0.13382678,  0.14843656,  0.16304633,\n         0.17765611,  0.19226589,  0.20687566,  0.22148544,  0.23609521,\n         0.25070499,  0.26531476,  0.27992454,  0.29453431,  0.30914409,\n         0.32375386,  0.33836364,  0.35297341,  0.36758319,  0.38219297,\n         0.39680274,  0.41141252,  0.42602229,  0.44063207,  0.45524184,\n         0.46985162]),\n <BarContainer object of 50 artists>)"
     },
     "execution_count": 60,
     "metadata": {},
     "output_type": "execute_result"
    },
    {
     "data": {
      "text/plain": "<Figure size 432x288 with 1 Axes>",
      "image/png": "[encoded data removed]"
     },
     "metadata": {
      "needs_background": "light"
     },
     "output_type": "display_data"
    }
   ],
   "source": [
    "c = torch.load('/home/xiaomeng/jupyter_base/AutoFS/data/history/openml_586/choice.original.padded.25.pt')\n",
    "p = torch.load('/home/xiaomeng/jupyter_base/AutoFS/data/history/openml_586/performance.original.padded.25.pt')\n",
    "ps = pd.DataFrame(p.numpy())\n",
    "plt.figure()\n",
    "plt.hist(ps, bins=50)"
   ],
   "metadata": {
    "collapsed": false,
    "pycharm": {
     "name": "#%%\n"
    }
   }
  },
  {
   "cell_type": "code",
   "execution_count": 59,
   "outputs": [
    {
     "data": {
      "text/plain": "(array([ 2.,  0.,  2.,  0.,  1.,  0.,  0.,  0.,  0.,  1.,  7.,  4.,  4.,\n         1.,  1.,  2.,  2.,  5.,  4.,  8.,  4.,  6., 16.,  3.,  7.,  9.,\n         7., 10., 23., 14., 26., 11., 31.,  8., 18., 34., 38.,  4., 11.,\n        10.,  4.,  7.,  2.,  2.,  1.,  2.,  0.,  3.,  1.,  1.]),\n array([0.83743662, 0.8381909 , 0.83894518, 0.83969946, 0.84045375,\n        0.84120803, 0.84196231, 0.84271659, 0.84347087, 0.84422516,\n        0.84497944, 0.84573372, 0.846488  , 0.84724229, 0.84799657,\n        0.84875085, 0.84950513, 0.85025941, 0.8510137 , 0.85176798,\n        0.85252226, 0.85327654, 0.85403082, 0.85478511, 0.85553939,\n        0.85629367, 0.85704795, 0.85780223, 0.85855652, 0.8593108 ,\n        0.86006508, 0.86081936, 0.86157365, 0.86232793, 0.86308221,\n        0.86383649, 0.86459077, 0.86534506, 0.86609934, 0.86685362,\n        0.8676079 , 0.86836218, 0.86911647, 0.86987075, 0.87062503,\n        0.87137931, 0.87213359, 0.87288788, 0.87364216, 0.87439644,\n        0.87515072]),\n <BarContainer object of 50 artists>)"
     },
     "execution_count": 59,
     "metadata": {},
     "output_type": "execute_result"
    },
    {
     "data": {
      "text/plain": "<Figure size 432x288 with 1 Axes>",
      "image/png": "[encoded data removed]"
     },
     "metadata": {
      "needs_background": "light"
     },
     "output_type": "display_data"
    }
   ],
   "source": [
    "\n",
    "p = torch.load('/home/xiaomeng/jupyter_base/AutoFS/data/history/megawatt1/performance.original.padded.25.pt')\n",
    "ps = pd.DataFrame(p.numpy())\n",
    "plt.figure()\n",
    "plt.hist(ps, bins=50)"
   ],
   "metadata": {
    "collapsed": false,
    "pycharm": {
     "name": "#%%\n"
    }
   }
  },
  {
   "cell_type": "code",
   "execution_count": 58,
   "outputs": [
    {
     "data": {
      "text/plain": "torch.Size([357])"
     },
     "execution_count": 58,
     "metadata": {},
     "output_type": "execute_result"
    }
   ],
   "source": [
    "p.shape"
   ],
   "metadata": {
    "collapsed": false,
    "pycharm": {
     "name": "#%%\n"
    }
   }
  },
  {
   "cell_type": "code",
   "execution_count": 64,
   "outputs": [
    {
     "data": {
      "text/plain": "tensor([ 0,  1,  2,  6,  7,  8, 13, 14, 15, 17, 18, 19,  0,  1,  2,  6,  7,  8,\n        13, 14, 15, 17, 18, 19,  0,  1,  2,  6,  7,  8, 13, 14, 15, 17, 18, 19,\n         0,  1,  2,  6,  7,  8, 13, 14, 15, 17, 18, 19,  1,  3,  4,  5,  6,  7,\n         8,  9, 13, 20, 22, 23,  0,  1,  2,  3,  4,  7,  8, 12, 13, 14, 15, 16,\n        18, 21, 22,  0,  1,  6,  7,  8, 12, 14, 15, 17, 18, 19,  0,  1,  4,  6,\n         7,  8, 11, 13, 14, 15, 17, 18, 19,  0])"
     },
     "execution_count": 64,
     "metadata": {},
     "output_type": "execute_result"
    }
   ],
   "source": [
    "c[0:100]\n"
   ],
   "metadata": {
    "collapsed": false,
    "pycharm": {
     "name": "#%%\n"
    }
   }
  },
  {
   "cell_type": "code",
   "execution_count": 65,
   "outputs": [],
   "source": [
    "import pickle"
   ],
   "metadata": {
    "collapsed": false,
    "pycharm": {
     "name": "#%%\n"
    }
   }
  },
  {
   "cell_type": "code",
   "execution_count": 67,
   "outputs": [],
   "source": [
    "with open('/home/xiaomeng/jupyter_base/AutoFS/data/history/openml_586/fe.pkl', 'rb') as f:\n",
    "    fe = pickle.load(f)"
   ],
   "metadata": {
    "collapsed": false,
    "pycharm": {
     "name": "#%%\n"
    }
   }
  },
  {
   "cell_type": "code",
   "execution_count": 77,
   "outputs": [],
   "source": [
    "r = fe.records.r_list.pop()"
   ],
   "metadata": {
    "collapsed": false,
    "pycharm": {
     "name": "#%%\n"
    }
   }
  },
  {
   "cell_type": "code",
   "execution_count": 82,
   "outputs": [
    {
     "data": {
      "text/plain": "tensor([[ 0.,  1.,  2.,  3.,  4.,  9., 13., 14., 18., -1., -1., -1., -1., -1.,\n         -1., -1., -1., -1., -1., -1., -1., -1., -1., -1., -1.],\n        [ 2.,  1.,  4.,  9., 18.,  3., 14., 13.,  0., -1., -1., -1., -1., -1.,\n         -1., -1., -1., -1., -1., -1., -1., -1., -1., -1., -1.],\n        [ 4., 18., 13.,  1.,  9.,  2.,  0.,  3., 14., -1., -1., -1., -1., -1.,\n         -1., -1., -1., -1., -1., -1., -1., -1., -1., -1., -1.],\n        [13., 14.,  3.,  9.,  0.,  2.,  4.,  1., 18., -1., -1., -1., -1., -1.,\n         -1., -1., -1., -1., -1., -1., -1., -1., -1., -1., -1.],\n        [13.,  4.,  2.,  0., 18.,  1.,  3., 14.,  9., -1., -1., -1., -1., -1.,\n         -1., -1., -1., -1., -1., -1., -1., -1., -1., -1., -1.],\n        [ 9., 14.,  2.,  0., 13.,  3.,  1.,  4., 18., -1., -1., -1., -1., -1.,\n         -1., -1., -1., -1., -1., -1., -1., -1., -1., -1., -1.],\n        [13.,  4.,  1.,  0., 14.,  2., 18.,  9.,  3., -1., -1., -1., -1., -1.,\n         -1., -1., -1., -1., -1., -1., -1., -1., -1., -1., -1.],\n        [ 9.,  0.,  4., 14., 18.,  1.,  2., 13.,  3., -1., -1., -1., -1., -1.,\n         -1., -1., -1., -1., -1., -1., -1., -1., -1., -1., -1.],\n        [ 3., 13., 18., 14.,  2.,  9.,  4.,  1.,  0., -1., -1., -1., -1., -1.,\n         -1., -1., -1., -1., -1., -1., -1., -1., -1., -1., -1.],\n        [ 2.,  1.,  9., 18., 13., 14.,  4.,  3.,  0., -1., -1., -1., -1., -1.,\n         -1., -1., -1., -1., -1., -1., -1., -1., -1., -1., -1.],\n        [ 1.,  4.,  3.,  9.,  0., 13., 14.,  2., 18., -1., -1., -1., -1., -1.,\n         -1., -1., -1., -1., -1., -1., -1., -1., -1., -1., -1.],\n        [ 3.,  4., 14.,  1., 18.,  0.,  9.,  2., 13., -1., -1., -1., -1., -1.,\n         -1., -1., -1., -1., -1., -1., -1., -1., -1., -1., -1.],\n        [ 4.,  1., 18.,  2.,  9., 14.,  3.,  0., 13., -1., -1., -1., -1., -1.,\n         -1., -1., -1., -1., -1., -1., -1., -1., -1., -1., -1.],\n        [ 3.,  4.,  1., 14.,  9., 18., 13.,  2.,  0., -1., -1., -1., -1., -1.,\n         -1., -1., -1., -1., -1., -1., -1., -1., -1., -1., -1.],\n        [ 2.,  3., 13.,  4.,  9.,  0., 14.,  1., 18., -1., -1., -1., -1., -1.,\n         -1., -1., -1., -1., -1., -1., -1., -1., -1., -1., -1.],\n        [ 4., 14., 13.,  2.,  1.,  0.,  9., 18.,  3., -1., -1., -1., -1., -1.,\n         -1., -1., -1., -1., -1., -1., -1., -1., -1., -1., -1.],\n        [ 1.,  4.,  3., 14., 18., 13.,  2.,  0.,  9., -1., -1., -1., -1., -1.,\n         -1., -1., -1., -1., -1., -1., -1., -1., -1., -1., -1.],\n        [ 3., 18., 14.,  2.,  9., 13.,  1.,  0.,  4., -1., -1., -1., -1., -1.,\n         -1., -1., -1., -1., -1., -1., -1., -1., -1., -1., -1.],\n        [18.,  9.,  0.,  1.,  2.,  3.,  4., 13., 14., -1., -1., -1., -1., -1.,\n         -1., -1., -1., -1., -1., -1., -1., -1., -1., -1., -1.],\n        [ 9.,  1.,  2.,  4., 18.,  3.,  0., 14., 13., -1., -1., -1., -1., -1.,\n         -1., -1., -1., -1., -1., -1., -1., -1., -1., -1., -1.],\n        [ 0.,  9., 14.,  2., 18.,  1.,  4.,  3., 13., -1., -1., -1., -1., -1.,\n         -1., -1., -1., -1., -1., -1., -1., -1., -1., -1., -1.],\n        [14.,  2., 13., 18.,  3.,  0.,  4.,  9.,  1., -1., -1., -1., -1., -1.,\n         -1., -1., -1., -1., -1., -1., -1., -1., -1., -1., -1.],\n        [ 1., 14.,  0.,  9.,  2., 18.,  3.,  4., 13., -1., -1., -1., -1., -1.,\n         -1., -1., -1., -1., -1., -1., -1., -1., -1., -1., -1.],\n        [ 2., 14.,  0., 13.,  4., 18.,  9.,  1.,  3., -1., -1., -1., -1., -1.,\n         -1., -1., -1., -1., -1., -1., -1., -1., -1., -1., -1.],\n        [ 0.,  9., 18., 14.,  4.,  3.,  1., 13.,  2., -1., -1., -1., -1., -1.,\n         -1., -1., -1., -1., -1., -1., -1., -1., -1., -1., -1.],\n        [18.,  3.,  2.,  1.,  0., 14., 13.,  4.,  9., -1., -1., -1., -1., -1.,\n         -1., -1., -1., -1., -1., -1., -1., -1., -1., -1., -1.]])"
     },
     "execution_count": 82,
     "metadata": {},
     "output_type": "execute_result"
    }
   ],
   "source": [
    "r.get_permutated()[0]"
   ],
   "metadata": {
    "collapsed": false,
    "pycharm": {
     "name": "#%%\n"
    }
   }
  },
  {
   "cell_type": "code",
   "execution_count": 85,
   "outputs": [
    {
     "data": {
      "text/plain": "(tensor([ 0,  1,  2,  ..., 17, 20, 22]),\n tensor([ 0.4510, -0.0635,  0.3221,  0.1295,  0.1264,  0.1295,  0.1295,  0.2535,\n         -0.0840,  0.1094, -0.0721,  0.4699, -0.0788,  0.1267,  0.1260, -0.0807,\n          0.4178,  0.1161,  0.1223,  0.1172, -0.1548,  0.1179,  0.2368,  0.1239,\n          0.2576,  0.4329, -0.0884,  0.2361,  0.1171, -0.0291,  0.4215,  0.1345,\n          0.1125, -0.0678,  0.1569, -0.0814,  0.2603,  0.1223,  0.4276,  0.4276,\n          0.4276,  0.4276,  0.4276,  0.2865,  0.2979,  0.3082, -0.2604,  0.1533,\n          0.1169,  0.1291,  0.1291,  0.1291, -0.0604,  0.1261,  0.1116,  0.1116,\n          0.1261,  0.1261,  0.1116,  0.1116,  0.1116,  0.1292,  0.1292,  0.1292,\n          0.1292, -0.0793, -0.0793,  0.1292,  0.1292,  0.2444,  0.1292,  0.4329,\n          0.1243,  0.1243,  0.1243,  0.1243,  0.2982,  0.2903,  0.1407,  0.4353,\n         -0.1646,  0.0930,  0.4255,  0.1229,  0.4268,  0.1851,  0.1303,  0.1303,\n         -0.0675,  0.2842,  0.0833,  0.1265,  0.1216,  0.1716, -0.0725,  0.4261,\n         -0.0565, -0.2606, -0.0766,  0.2997,  0.3168,  0.1141,  0.1280,  0.1280,\n          0.1280,  0.3057,  0.1450,  0.1122,  0.1301,  0.1301,  0.1301,  0.1301,\n          0.1301,  0.1301,  0.1103,  0.1165, -0.0678,  0.3074,  0.1203, -0.0641,\n          0.1196,  0.2231, -0.0725, -0.0725,  0.0986, -0.0639,  0.2654, -0.0154,\n          0.1590, -0.1531,  0.4578,  0.2542,  0.3190, -0.1472, -0.0664, -0.0807,\n         -0.0779, -0.0671, -0.0671, -0.0671,  0.1312,  0.1325,  0.1325,  0.1325,\n          0.1325,  0.1292,  0.1292,  0.1292,  0.1292,  0.1292,  0.1292,  0.1292,\n          0.1292,  0.1292,  0.1060,  0.1361,  0.2893, -0.0426, -0.0728, -0.1541,\n          0.1321, -0.2524,  0.0934,  0.3269,  0.2949,  0.1467,  0.2968,  0.1184,\n          0.1184, -0.0735,  0.2690,  0.2948, -0.0461,  0.2972,  0.1329,  0.1329,\n          0.1329,  0.1329,  0.1329,  0.2611,  0.2496,  0.2239,  0.3166, -0.0765,\n          0.1262, -0.0206,  0.1000, -0.1635,  0.1167,  0.1282,  0.4351,  0.1247,\n          0.1247, -0.0807,  0.1247,  0.1247,  0.1951,  0.1165, -0.0726,  0.2221,\n         -0.0747, -0.1665, -0.0728, -0.0728,  0.1250, -0.0826,  0.2286,  0.4353,\n          0.4201,  0.1172,  0.1324,  0.4302,  0.1187, -0.0848, -0.0801,  0.2811,\n          0.1216,  0.1216,  0.1216, -0.0931,  0.1162, -0.0375,  0.1260,  0.3103,\n         -0.0759,  0.1299, -0.0826, -0.0755,  0.1292,  0.1292,  0.1292,  0.1292,\n          0.1292,  0.1292,  0.1292,  0.1292,  0.1292,  0.1292,  0.1198,  0.1292,\n          0.1292,  0.1292,  0.1292,  0.1292,  0.1292,  0.1292,  0.1292, -0.0420,\n          0.1292,  0.4456, -0.0691,  0.1841,  0.1841,  0.1252,  0.1605,  0.1319,\n          0.3203,  0.3203,  0.3203,  0.3203,  0.1196,  0.1302,  0.1264,  0.1264,\n          0.1264,  0.1264,  0.0954,  0.0954, -0.0843, -0.0879,  0.1292,  0.1292,\n          0.1292,  0.1292,  0.1292,  0.1292,  0.1292,  0.1292,  0.1212,  0.1292,\n         -0.1322,  0.2910, -0.0644, -0.0937,  0.1260,  0.1260,  0.1260,  0.1730,\n         -0.1573,  0.1833,  0.4212,  0.4212,  0.2189,  0.3140,  0.4383,  0.1138,\n         -0.0702,  0.3129,  0.1295,  0.4422,  0.1138,  0.1147, -0.1540,  0.4374,\n          0.1381,  0.1381,  0.2802,  0.1869,  0.4221, -0.0856,  0.2605, -0.0747,\n         -0.0702, -0.0702, -0.0702, -0.0702, -0.0702, -0.0274,  0.1200,  0.1177,\n          0.2323,  0.1178, -0.0755,  0.1236,  0.1191,  0.1271,  0.1027,  0.1257,\n          0.1119, -0.1704,  0.2655, -0.0809, -0.0809,  0.2280,  0.0784,  0.2986,\n         -0.0792, -0.0744,  0.2829, -0.0657, -0.0683,  0.1232,  0.2432,  0.1250,\n          0.1250,  0.1250,  0.1250,  0.1250,  0.1292,  0.4252,  0.2989,  0.2989,\n         -0.0629,  0.3265], dtype=torch.float64))"
     },
     "execution_count": 85,
     "metadata": {},
     "output_type": "execute_result"
    }
   ],
   "source": [
    "fe.records.generate(padding=True)"
   ],
   "metadata": {
    "collapsed": false,
    "pycharm": {
     "name": "#%%\n"
    }
   }
  },
  {
   "cell_type": "code",
   "execution_count": 86,
   "outputs": [],
   "source": [
    "results = []\n",
    "labels = []\n",
    "for record in fe.records.r_list:\n",
    "    result, label = record.get_permutated(0, True, -1)\n",
    "    results.append(result)\n",
    "    labels.append(label)"
   ],
   "metadata": {
    "collapsed": false,
    "pycharm": {
     "name": "#%%\n"
    }
   }
  },
  {
   "cell_type": "code",
   "execution_count": 87,
   "outputs": [
    {
     "data": {
      "text/plain": "[tensor([[ 0.,  1.,  2.,  3.,  4.,  9., 13., 14., 18., -1., -1., -1., -1., -1.,\n          -1., -1., -1., -1., -1., -1., -1., -1., -1., -1., -1.]]),\n tensor([[ 4.,  6.,  8., 10., 11., 14., 15., 16., 17., 20., 21., 23., -1., -1.,\n          -1., -1., -1., -1., -1., -1., -1., -1., -1., -1., -1.]]),\n tensor([[ 0.,  1.,  2.,  5.,  6.,  9., 10., 11., 12., 17., 22., -1., -1., -1.,\n          -1., -1., -1., -1., -1., -1., -1., -1., -1., -1., -1.]]),\n tensor([[ 0.,  1.,  6.,  7.,  8., 11., 13., 14., 15., 17., 18., 19., -1., -1.,\n          -1., -1., -1., -1., -1., -1., -1., -1., -1., -1., -1.]]),\n tensor([[ 0.,  1.,  6.,  7.,  8., 11., 13., 14., 15., 17., 18., 19., 23., -1.,\n          -1., -1., -1., -1., -1., -1., -1., -1., -1., -1., -1.]]),\n tensor([[ 0.,  1.,  6.,  7.,  8., 11., 13., 14., 15., 17., 18., 19., -1., -1.,\n          -1., -1., -1., -1., -1., -1., -1., -1., -1., -1., -1.]]),\n tensor([[ 0.,  1.,  6.,  7.,  8., 11., 13., 14., 15., 17., 18., 19., -1., -1.,\n          -1., -1., -1., -1., -1., -1., -1., -1., -1., -1., -1.]]),\n tensor([[ 0.,  2.,  3.,  4.,  7.,  8.,  9., 12., 14., 15., 16., 18., 21., 22.,\n          -1., -1., -1., -1., -1., -1., -1., -1., -1., -1., -1.]]),\n tensor([[ 0.,  5.,  6.,  7.,  8., 13., 15., 17., 18., 19., -1., -1., -1., -1.,\n          -1., -1., -1., -1., -1., -1., -1., -1., -1., -1., -1.]]),\n tensor([[ 0.,  2.,  4.,  5.,  8.,  9., 11., 15., 16., 17., 19., 20., 22., 23.,\n          -1., -1., -1., -1., -1., -1., -1., -1., -1., -1., -1.]]),\n tensor([[ 1.,  6.,  7.,  8., 13., 14., 15., 18., 19., 24., -1., -1., -1., -1.,\n          -1., -1., -1., -1., -1., -1., -1., -1., -1., -1., -1.]]),\n tensor([[ 0.,  1.,  2.,  3.,  4.,  8., 13., -1., -1., -1., -1., -1., -1., -1.,\n          -1., -1., -1., -1., -1., -1., -1., -1., -1., -1., -1.]]),\n tensor([[ 4.,  6.,  8., 11., 14., 15., 16., 20., 21., 22., 23., 24., -1., -1.,\n          -1., -1., -1., -1., -1., -1., -1., -1., -1., -1., -1.]]),\n tensor([[ 0.,  1.,  6.,  7.,  8., 12., 14., 15., 17., 18., 19., -1., -1., -1.,\n          -1., -1., -1., -1., -1., -1., -1., -1., -1., -1., -1.]]),\n tensor([[ 0.,  1.,  6.,  7.,  8., 12., 13., 14., 17., 18., 19., -1., -1., -1.,\n          -1., -1., -1., -1., -1., -1., -1., -1., -1., -1., -1.]]),\n tensor([[ 1.,  6.,  7.,  8., 13., 14., 15., 17., 18., 19., 21., -1., -1., -1.,\n          -1., -1., -1., -1., -1., -1., -1., -1., -1., -1., -1.]]),\n tensor([[ 0.,  1.,  3.,  6.,  7.,  8., 12., 13., 14., 15., 17., 18., 22., -1.,\n          -1., -1., -1., -1., -1., -1., -1., -1., -1., -1., -1.]]),\n tensor([[ 0.,  1.,  6.,  7.,  8., 12., 14., 15., 17., 18., 19., 23., -1., -1.,\n          -1., -1., -1., -1., -1., -1., -1., -1., -1., -1., -1.]]),\n tensor([[ 0.,  1.,  5.,  6.,  7., 13., 14., 15., 17., 18., 19., 22., -1., -1.,\n          -1., -1., -1., -1., -1., -1., -1., -1., -1., -1., -1.]]),\n tensor([[ 0.,  1.,  8., 13., 14., 15., 17., 18., 19., -1., -1., -1., -1., -1.,\n          -1., -1., -1., -1., -1., -1., -1., -1., -1., -1., -1.]]),\n tensor([[ 2.,  6.,  8., 10., 11., 12., 13., 15., 17., 20., 22., 23., 24., -1.,\n          -1., -1., -1., -1., -1., -1., -1., -1., -1., -1., -1.]]),\n tensor([[ 0.,  1.,  6.,  7.,  8., 14., 15., 16., 17., 18., 19., -1., -1., -1.,\n          -1., -1., -1., -1., -1., -1., -1., -1., -1., -1., -1.]]),\n tensor([[ 0.,  3.,  4.,  5.,  6., 10., 12., 18., 19., 21., 22., -1., -1., -1.,\n          -1., -1., -1., -1., -1., -1., -1., -1., -1., -1., -1.]]),\n tensor([[ 0.,  1.,  6.,  7.,  8., 10., 13., 14., 15., 17., 18., 19., -1., -1.,\n          -1., -1., -1., -1., -1., -1., -1., -1., -1., -1., -1.]]),\n tensor([[ 0.,  2.,  3.,  4.,  6.,  8., 11., 14., 15., 19., 20., -1., -1., -1.,\n          -1., -1., -1., -1., -1., -1., -1., -1., -1., -1., -1.]]),\n tensor([[ 0.,  1.,  2.,  3.,  6.,  8., 13., 14., 15., 17., 18., 19., -1., -1.,\n          -1., -1., -1., -1., -1., -1., -1., -1., -1., -1., -1.]]),\n tensor([[ 2.,  4.,  5.,  6.,  8., 10., 11., 14., 15., 16., 18., 22., -1., -1.,\n          -1., -1., -1., -1., -1., -1., -1., -1., -1., -1., -1.]]),\n tensor([[ 0.,  3.,  4.,  6.,  7., 10., 12., 13., 15., 16., 17., 18., 21., 22.,\n          23., -1., -1., -1., -1., -1., -1., -1., -1., -1., -1.]]),\n tensor([[ 0.,  1.,  6.,  7.,  8., 13., 14., 15., 17., 18., 19., 23., 24., -1.,\n          -1., -1., -1., -1., -1., -1., -1., -1., -1., -1., -1.]]),\n tensor([[ 3.,  4.,  6.,  7.,  8., 10., 11., 17., 18., 21., 22., -1., -1., -1.,\n          -1., -1., -1., -1., -1., -1., -1., -1., -1., -1., -1.]]),\n tensor([[ 0.,  1.,  2.,  3.,  4.,  7.,  8., 12., 13., 14., 15., 16., 18., 21.,\n          22., -1., -1., -1., -1., -1., -1., -1., -1., -1., -1.]]),\n tensor([[ 0.,  1.,  6.,  7.,  8., 11., 13., 14., 15., 17., 18., 19., 20., -1.,\n          -1., -1., -1., -1., -1., -1., -1., -1., -1., -1., -1.]]),\n tensor([[ 0.,  2.,  4.,  5.,  6.,  9., 10., 11., 12., 14., 17., 19., 22., 23.,\n          24., -1., -1., -1., -1., -1., -1., -1., -1., -1., -1.]]),\n tensor([[ 4.,  6.,  8., 10., 14., 15., 16., 17., 18., 20., 21., 23., 24., -1.,\n          -1., -1., -1., -1., -1., -1., -1., -1., -1., -1., -1.]]),\n tensor([[ 1.,  4.,  5.,  7.,  8., 14., 16., 17., 18., 20., -1., -1., -1., -1.,\n          -1., -1., -1., -1., -1., -1., -1., -1., -1., -1., -1.]]),\n tensor([[ 2.,  4.,  5.,  6.,  8., 14., 15., 16., 17., 18., 20., 21., 22., 24.,\n          -1., -1., -1., -1., -1., -1., -1., -1., -1., -1., -1.]]),\n tensor([[ 1.,  3.,  4.,  5.,  6.,  7., 10., 14., 15., 16., 17., 18., 21., -1.,\n          -1., -1., -1., -1., -1., -1., -1., -1., -1., -1., -1.]]),\n tensor([[ 0.,  1.,  5.,  6.,  7.,  8., 13., 14., 15., 17., 18., 19., 23., -1.,\n          -1., -1., -1., -1., -1., -1., -1., -1., -1., -1., -1.]]),\n tensor([[ 0.,  1.,  3.,  6.,  7.,  8., 13., 14., 15., 17., 18., 19., -1., -1.,\n          -1., -1., -1., -1., -1., -1., -1., -1., -1., -1., -1.]]),\n tensor([[ 0.,  1.,  3.,  6.,  7.,  8., 13., 14., 15., 17., 18., 19., -1., -1.,\n          -1., -1., -1., -1., -1., -1., -1., -1., -1., -1., -1.]]),\n tensor([[ 0.,  1.,  3.,  6.,  7.,  8., 13., 14., 15., 17., 18., 19., -1., -1.,\n          -1., -1., -1., -1., -1., -1., -1., -1., -1., -1., -1.]]),\n tensor([[ 0.,  1.,  3.,  6.,  7.,  8., 13., 14., 15., 17., 18., 19., -1., -1.,\n          -1., -1., -1., -1., -1., -1., -1., -1., -1., -1., -1.]]),\n tensor([[ 0.,  1.,  3.,  6.,  7.,  8., 13., 14., 15., 17., 18., 19., -1., -1.,\n          -1., -1., -1., -1., -1., -1., -1., -1., -1., -1., -1.]]),\n tensor([[ 0.,  1.,  4.,  6.,  7.,  8., 13., 14., 15., 16., 17., 18., 19., 21.,\n          -1., -1., -1., -1., -1., -1., -1., -1., -1., -1., -1.]]),\n tensor([[ 0.,  1.,  4.,  6.,  7.,  8., 13., 14., 15., 18., 19., -1., -1., -1.,\n          -1., -1., -1., -1., -1., -1., -1., -1., -1., -1., -1.]]),\n tensor([[ 0.,  1.,  4.,  6.,  7.,  8., 13., 14., 15., 17., 19., -1., -1., -1.,\n          -1., -1., -1., -1., -1., -1., -1., -1., -1., -1., -1.]]),\n tensor([[ 3.,  8., 11., 14., 16., 18., 20., 21., 22., 23., 24., -1., -1., -1.,\n          -1., -1., -1., -1., -1., -1., -1., -1., -1., -1., -1.]]),\n tensor([[ 1.,  4.,  6.,  7.,  8.,  9., 11., 12., 13., 15., 16., 17., 23., 24.,\n          -1., -1., -1., -1., -1., -1., -1., -1., -1., -1., -1.]]),\n tensor([[ 0.,  1.,  6.,  7.,  8., 14., 15., 17., 18., 19., 21., -1., -1., -1.,\n          -1., -1., -1., -1., -1., -1., -1., -1., -1., -1., -1.]]),\n tensor([[ 0.,  1.,  6.,  7.,  8., 13., 14., 15., 17., 18., -1., -1., -1., -1.,\n          -1., -1., -1., -1., -1., -1., -1., -1., -1., -1., -1.]]),\n tensor([[ 0.,  1.,  6.,  7.,  8., 13., 14., 15., 17., 18., -1., -1., -1., -1.,\n          -1., -1., -1., -1., -1., -1., -1., -1., -1., -1., -1.]]),\n tensor([[ 0.,  1.,  6.,  7.,  8., 13., 14., 15., 17., 18., -1., -1., -1., -1.,\n          -1., -1., -1., -1., -1., -1., -1., -1., -1., -1., -1.]]),\n tensor([[ 1.,  6.,  9., 10., 11., 15., 17., 20., -1., -1., -1., -1., -1., -1.,\n          -1., -1., -1., -1., -1., -1., -1., -1., -1., -1., -1.]]),\n tensor([[ 0.,  1.,  6.,  7.,  8., 13., 14., 15., 17., 18., 19., 24., -1., -1.,\n          -1., -1., -1., -1., -1., -1., -1., -1., -1., -1., -1.]]),\n tensor([[ 0.,  1.,  7.,  8., 13., 14., 15., 17., 18., 19., -1., -1., -1., -1.,\n          -1., -1., -1., -1., -1., -1., -1., -1., -1., -1., -1.]]),\n tensor([[ 0.,  1.,  7.,  8., 13., 14., 15., 17., 18., 19., -1., -1., -1., -1.,\n          -1., -1., -1., -1., -1., -1., -1., -1., -1., -1., -1.]]),\n tensor([[ 0.,  1.,  6.,  7.,  8., 13., 14., 15., 17., 18., 19., 24., -1., -1.,\n          -1., -1., -1., -1., -1., -1., -1., -1., -1., -1., -1.]]),\n tensor([[ 0.,  1.,  6.,  7.,  8., 13., 14., 15., 17., 18., 19., 24., -1., -1.,\n          -1., -1., -1., -1., -1., -1., -1., -1., -1., -1., -1.]]),\n tensor([[ 0.,  1.,  7.,  8., 13., 14., 15., 17., 18., 19., -1., -1., -1., -1.,\n          -1., -1., -1., -1., -1., -1., -1., -1., -1., -1., -1.]]),\n tensor([[ 0.,  1.,  7.,  8., 13., 14., 15., 17., 18., 19., -1., -1., -1., -1.,\n          -1., -1., -1., -1., -1., -1., -1., -1., -1., -1., -1.]]),\n tensor([[ 0.,  1.,  7.,  8., 13., 14., 15., 17., 18., 19., -1., -1., -1., -1.,\n          -1., -1., -1., -1., -1., -1., -1., -1., -1., -1., -1.]]),\n tensor([[ 0.,  1.,  6.,  7.,  8., 13., 14., 15., 17., 18., 19., -1., -1., -1.,\n          -1., -1., -1., -1., -1., -1., -1., -1., -1., -1., -1.]]),\n tensor([[ 0.,  1.,  6.,  7.,  8., 13., 14., 15., 17., 18., 19., -1., -1., -1.,\n          -1., -1., -1., -1., -1., -1., -1., -1., -1., -1., -1.]]),\n tensor([[ 0.,  1.,  6.,  7.,  8., 13., 14., 15., 17., 18., 19., -1., -1., -1.,\n          -1., -1., -1., -1., -1., -1., -1., -1., -1., -1., -1.]]),\n tensor([[ 0.,  1.,  6.,  7.,  8., 13., 14., 15., 17., 18., 19., -1., -1., -1.,\n          -1., -1., -1., -1., -1., -1., -1., -1., -1., -1., -1.]]),\n tensor([[ 4.,  6.,  8., 11., 14., 15., 16., 17., 20., 21., 22., 23., 24., -1.,\n          -1., -1., -1., -1., -1., -1., -1., -1., -1., -1., -1.]]),\n tensor([[ 4.,  6.,  8., 11., 14., 15., 16., 17., 20., 21., 22., 23., 24., -1.,\n          -1., -1., -1., -1., -1., -1., -1., -1., -1., -1., -1.]]),\n tensor([[ 0.,  1.,  6.,  7.,  8., 13., 14., 15., 17., 18., 19., -1., -1., -1.,\n          -1., -1., -1., -1., -1., -1., -1., -1., -1., -1., -1.]]),\n tensor([[ 0.,  1.,  6.,  7.,  8., 13., 14., 15., 17., 18., 19., -1., -1., -1.,\n          -1., -1., -1., -1., -1., -1., -1., -1., -1., -1., -1.]]),\n tensor([[ 0.,  2.,  3.,  4.,  6.,  8., 10., 11., 12., 14., 18., 21., 22., -1.,\n          -1., -1., -1., -1., -1., -1., -1., -1., -1., -1., -1.]]),\n tensor([[ 0.,  1.,  6.,  7.,  8., 13., 14., 15., 17., 18., 19., -1., -1., -1.,\n          -1., -1., -1., -1., -1., -1., -1., -1., -1., -1., -1.]]),\n tensor([[ 0.,  1.,  2.,  3.,  5.,  7.,  8.,  9., 11., 14., 16., 20., 22., 24.,\n          -1., -1., -1., -1., -1., -1., -1., -1., -1., -1., -1.]]),\n tensor([[ 0.,  1.,  6.,  7., 13., 14., 15., 17., 18., 19., -1., -1., -1., -1.,\n          -1., -1., -1., -1., -1., -1., -1., -1., -1., -1., -1.]]),\n tensor([[ 0.,  1.,  6.,  7., 13., 14., 15., 17., 18., 19., -1., -1., -1., -1.,\n          -1., -1., -1., -1., -1., -1., -1., -1., -1., -1., -1.]]),\n tensor([[ 0.,  1.,  6.,  7., 13., 14., 15., 17., 18., 19., -1., -1., -1., -1.,\n          -1., -1., -1., -1., -1., -1., -1., -1., -1., -1., -1.]]),\n tensor([[ 0.,  1.,  6.,  7., 13., 14., 15., 17., 18., 19., -1., -1., -1., -1.,\n          -1., -1., -1., -1., -1., -1., -1., -1., -1., -1., -1.]]),\n tensor([[ 0.,  1.,  4.,  5.,  6.,  9., 11., 12., 13., 16., 17., 23., -1., -1.,\n          -1., -1., -1., -1., -1., -1., -1., -1., -1., -1., -1.]]),\n tensor([[ 0.,  1.,  4.,  6.,  7.,  8., 13., 14., 15., 17., 18., 19., 22., -1.,\n          -1., -1., -1., -1., -1., -1., -1., -1., -1., -1., -1.]]),\n tensor([[ 0.,  1.,  6.,  7.,  8., 11., 13., 14., 15., 18., 19., -1., -1., -1.,\n          -1., -1., -1., -1., -1., -1., -1., -1., -1., -1., -1.]]),\n tensor([[ 0.,  1.,  3.,  7.,  8., 15., 16., 17., 20., 22., 23., -1., -1., -1.,\n          -1., -1., -1., -1., -1., -1., -1., -1., -1., -1., -1.]]),\n tensor([[ 2.,  3.,  6.,  9., 10., 12., 14., 15., 16., 17., 18., 21., 23., 24.,\n          -1., -1., -1., -1., -1., -1., -1., -1., -1., -1., -1.]]),\n tensor([[ 0.,  4.,  6.,  8., 11., 14., 15., 16., 17., 20., 21., 22., 23., 24.,\n          -1., -1., -1., -1., -1., -1., -1., -1., -1., -1., -1.]]),\n tensor([[ 0.,  1.,  3.,  6.,  7., 13., 14., 15., 17., 18., 19., 21., -1., -1.,\n          -1., -1., -1., -1., -1., -1., -1., -1., -1., -1., -1.]]),\n tensor([[ 0.,  1.,  6.,  8., 13., 14., 15., 17., 18., 19., 23., -1., -1., -1.,\n          -1., -1., -1., -1., -1., -1., -1., -1., -1., -1., -1.]]),\n tensor([[ 0.,  1.,  2.,  3.,  4.,  6.,  7.,  9., 10., 12., 14., 18., 21., 24.,\n          -1., -1., -1., -1., -1., -1., -1., -1., -1., -1., -1.]]),\n tensor([[ 0.,  3.,  6.,  7.,  8., 13., 14., 15., 17., 19., 20., -1., -1., -1.,\n          -1., -1., -1., -1., -1., -1., -1., -1., -1., -1., -1.]]),\n tensor([[ 0.,  1.,  6.,  7.,  8., 12., 13., 14., 15., 17., 18., 19., -1., -1.,\n          -1., -1., -1., -1., -1., -1., -1., -1., -1., -1., -1.]]),\n tensor([[ 0.,  1.,  6.,  7.,  8., 12., 13., 14., 15., 17., 18., 19., -1., -1.,\n          -1., -1., -1., -1., -1., -1., -1., -1., -1., -1., -1.]]),\n tensor([[ 4.,  6.,  8., 10., 11., 14., 15., 16., 17., 18., 20., 23., 24., -1.,\n          -1., -1., -1., -1., -1., -1., -1., -1., -1., -1., -1.]]),\n tensor([[ 0.,  1.,  4.,  5., 10., 12., 14., 18., 19., 22., -1., -1., -1., -1.,\n          -1., -1., -1., -1., -1., -1., -1., -1., -1., -1., -1.]]),\n tensor([[ 0.,  4.,  6.,  7.,  8., 10., 11., 12., 13., 18., 19., 21., 22., -1.,\n          -1., -1., -1., -1., -1., -1., -1., -1., -1., -1., -1.]]),\n tensor([[ 0.,  2.,  6.,  7.,  8., 13., 14., 15., 17., 18., 19., 22., -1., -1.,\n          -1., -1., -1., -1., -1., -1., -1., -1., -1., -1., -1.]]),\n tensor([[ 0.,  1.,  6.,  8., 13., 14., 17., 18., 19., 21., -1., -1., -1., -1.,\n          -1., -1., -1., -1., -1., -1., -1., -1., -1., -1., -1.]]),\n tensor([[ 1.,  4.,  6.,  9., 10., 11., 13., 15., 17., 20., -1., -1., -1., -1.,\n          -1., -1., -1., -1., -1., -1., -1., -1., -1., -1., -1.]]),\n tensor([[ 2.,  4.,  6.,  8., 10., 14., 15., 16., 17., 18., 20., 21., 24., -1.,\n          -1., -1., -1., -1., -1., -1., -1., -1., -1., -1., -1.]]),\n tensor([[ 0.,  1.,  3.,  4.,  7.,  8., 14., 15., 16., 18., 19., 21., -1., -1.,\n          -1., -1., -1., -1., -1., -1., -1., -1., -1., -1., -1.]]),\n tensor([[ 3.,  4.,  6.,  8., 11., 14., 15., 16., 17., 18., 20., 21., 23., 24.,\n          -1., -1., -1., -1., -1., -1., -1., -1., -1., -1., -1.]]),\n tensor([[ 3.,  7.,  8., 13., 15., 16., 18., 20., 21., 23., 24., -1., -1., -1.,\n          -1., -1., -1., -1., -1., -1., -1., -1., -1., -1., -1.]]),\n tensor([[ 1.,  6.,  7., 11., 15., 16., 17., 20., -1., -1., -1., -1., -1., -1.,\n          -1., -1., -1., -1., -1., -1., -1., -1., -1., -1., -1.]]),\n tensor([[ 0.,  1.,  4.,  6.,  8., 10., 13., 14., 15., 18., 19., -1., -1., -1.,\n          -1., -1., -1., -1., -1., -1., -1., -1., -1., -1., -1.]]),\n tensor([[ 0.,  1.,  2.,  6.,  7.,  8., 13., 14., 15., 17., 18., 19., 21., -1.,\n          -1., -1., -1., -1., -1., -1., -1., -1., -1., -1., -1.]]),\n tensor([[ 0.,  1.,  7.,  8., 11., 13., 14., 15., 17., 18., 19., -1., -1., -1.,\n          -1., -1., -1., -1., -1., -1., -1., -1., -1., -1., -1.]]),\n tensor([[ 0.,  1.,  6.,  7.,  8., 13., 15., 17., 18., 19., -1., -1., -1., -1.,\n          -1., -1., -1., -1., -1., -1., -1., -1., -1., -1., -1.]]),\n tensor([[ 0.,  1.,  6.,  7.,  8., 13., 15., 17., 18., 19., -1., -1., -1., -1.,\n          -1., -1., -1., -1., -1., -1., -1., -1., -1., -1., -1.]]),\n tensor([[ 0.,  1.,  6.,  7.,  8., 13., 15., 17., 18., 19., -1., -1., -1., -1.,\n          -1., -1., -1., -1., -1., -1., -1., -1., -1., -1., -1.]]),\n tensor([[ 0.,  1.,  4.,  6.,  7.,  8., 13., 15., 17., 19., 20., -1., -1., -1.,\n          -1., -1., -1., -1., -1., -1., -1., -1., -1., -1., -1.]]),\n tensor([[ 1.,  4.,  6., 10., 11., 14., 15., 16., 17., 18., 21., 23., -1., -1.,\n          -1., -1., -1., -1., -1., -1., -1., -1., -1., -1., -1.]]),\n tensor([[ 0.,  1.,  6.,  7.,  8., 13., 15., 17., 18., 21., 23., -1., -1., -1.,\n          -1., -1., -1., -1., -1., -1., -1., -1., -1., -1., -1.]]),\n tensor([[ 0.,  1.,  6.,  7.,  8., 13., 14., 15., 17., 18., 19., 20., -1., -1.,\n          -1., -1., -1., -1., -1., -1., -1., -1., -1., -1., -1.]]),\n tensor([[ 0.,  1.,  6.,  7.,  8., 13., 14., 15., 17., 18., 19., 20., -1., -1.,\n          -1., -1., -1., -1., -1., -1., -1., -1., -1., -1., -1.]]),\n tensor([[ 0.,  1.,  6.,  7.,  8., 13., 14., 15., 17., 18., 19., 20., -1., -1.,\n          -1., -1., -1., -1., -1., -1., -1., -1., -1., -1., -1.]]),\n tensor([[ 0.,  1.,  6.,  7.,  8., 13., 14., 15., 17., 18., 19., 20., -1., -1.,\n          -1., -1., -1., -1., -1., -1., -1., -1., -1., -1., -1.]]),\n tensor([[ 0.,  1.,  6.,  7.,  8., 13., 14., 15., 17., 18., 19., 20., -1., -1.,\n          -1., -1., -1., -1., -1., -1., -1., -1., -1., -1., -1.]]),\n tensor([[ 0.,  1.,  6.,  7.,  8., 13., 14., 15., 17., 18., 19., 20., -1., -1.,\n          -1., -1., -1., -1., -1., -1., -1., -1., -1., -1., -1.]]),\n tensor([[ 0.,  2.,  4.,  5.,  8.,  9., 14., 16., 19., 20., 21., 22., 24., -1.,\n          -1., -1., -1., -1., -1., -1., -1., -1., -1., -1., -1.]]),\n tensor([[ 0.,  1.,  6.,  7.,  8.,  9., 13., 14., 15., 17., 18., 19., 23., -1.,\n          -1., -1., -1., -1., -1., -1., -1., -1., -1., -1., -1.]]),\n tensor([[ 1.,  6.,  7.,  9., 10., 11., 13., 17., 20., -1., -1., -1., -1., -1.,\n          -1., -1., -1., -1., -1., -1., -1., -1., -1., -1., -1.]]),\n tensor([[ 0.,  1.,  2.,  5.,  6.,  9., 10., 11., 12., 14., 17., 19., 22., 23.,\n          24., -1., -1., -1., -1., -1., -1., -1., -1., -1., -1.]]),\n tensor([[ 0.,  1.,  6.,  7., 10., 13., 14., 15., 17., 18., 19., -1., -1., -1.,\n          -1., -1., -1., -1., -1., -1., -1., -1., -1., -1., -1.]]),\n tensor([[ 4.,  6.,  8., 12., 14., 15., 16., 17., 18., 20., 21., 23., 24., -1.,\n          -1., -1., -1., -1., -1., -1., -1., -1., -1., -1., -1.]]),\n tensor([[ 0.,  2.,  4.,  5.,  6.,  7., 10., 12., 13., 19., -1., -1., -1., -1.,\n          -1., -1., -1., -1., -1., -1., -1., -1., -1., -1., -1.]]),\n tensor([[ 0.,  2.,  3.,  5., 10., 18., 19., 21., 22., 24., -1., -1., -1., -1.,\n          -1., -1., -1., -1., -1., -1., -1., -1., -1., -1., -1.]]),\n tensor([[ 4.,  6.,  8., 10., 11., 14., 15., 16., 17., 18., 20., 23., -1., -1.,\n          -1., -1., -1., -1., -1., -1., -1., -1., -1., -1., -1.]]),\n tensor([[ 4.,  6.,  8., 10., 11., 14., 15., 16., 17., 18., 20., 23., -1., -1.,\n          -1., -1., -1., -1., -1., -1., -1., -1., -1., -1., -1.]]),\n tensor([[ 0.,  4.,  6.,  7.,  8.,  9., 13., 14., 15., 17., 18., 19., -1., -1.,\n          -1., -1., -1., -1., -1., -1., -1., -1., -1., -1., -1.]]),\n tensor([[ 4.,  6.,  8., 11., 14., 15., 16., 17., 18., 20., 21., 23., -1., -1.,\n          -1., -1., -1., -1., -1., -1., -1., -1., -1., -1., -1.]]),\n tensor([[ 1.,  2.,  3.,  4.,  5.,  6.,  9., 10., 11., 12., 14., 16., 18., 19.,\n          20., 22., 24., -1., -1., -1., -1., -1., -1., -1., -1.]]),\n tensor([[ 2.,  3.,  4.,  7.,  8., 10., 13., 14., 20., 21., 22., -1., -1., -1.,\n          -1., -1., -1., -1., -1., -1., -1., -1., -1., -1., -1.]]),\n tensor([[ 1.,  4.,  6.,  9., 10., 11., 13., 15., 17., 18., 20., 22., -1., -1.,\n          -1., -1., -1., -1., -1., -1., -1., -1., -1., -1., -1.]]),\n tensor([[ 5., 11., 13., 14., 16., 17., 19., 22., 23., 24., -1., -1., -1., -1.,\n          -1., -1., -1., -1., -1., -1., -1., -1., -1., -1., -1.]]),\n tensor([[ 0.,  1.,  2.,  3.,  4.,  6.,  8., 13., 23., -1., -1., -1., -1., -1.,\n          -1., -1., -1., -1., -1., -1., -1., -1., -1., -1., -1.]]),\n tensor([[ 0.,  2.,  3.,  4., 12., 13., 14., 16., 18., 19., 21., 23., 24., -1.,\n          -1., -1., -1., -1., -1., -1., -1., -1., -1., -1., -1.]]),\n tensor([[ 0.,  1.,  2.,  5.,  8.,  9., 11., 14., 16., 20., 23., 24., -1., -1.,\n          -1., -1., -1., -1., -1., -1., -1., -1., -1., -1., -1.]]),\n tensor([[ 6.,  7., 10., 12., 13., 14., 15., 16., 17., 18., 21., 22., 23., 24.,\n          -1., -1., -1., -1., -1., -1., -1., -1., -1., -1., -1.]]),\n tensor([[ 0.,  6.,  8., 13., 14., 15., 17., 18., 19., 21., -1., -1., -1., -1.,\n          -1., -1., -1., -1., -1., -1., -1., -1., -1., -1., -1.]]),\n tensor([[ 1.,  5.,  6.,  7.,  8.,  9., 13., 14., 15., 17., 18., 19., -1., -1.,\n          -1., -1., -1., -1., -1., -1., -1., -1., -1., -1., -1.]]),\n tensor([[ 2.,  4.,  6.,  8., 11., 14., 15., 16., 17., 18., 20., 21., 24., -1.,\n          -1., -1., -1., -1., -1., -1., -1., -1., -1., -1., -1.]]),\n tensor([[ 0.,  6.,  7.,  8., 13., 14., 15., 17., 18., 19., -1., -1., -1., -1.,\n          -1., -1., -1., -1., -1., -1., -1., -1., -1., -1., -1.]]),\n tensor([[ 0.,  6.,  7.,  8., 13., 14., 15., 17., 18., 19., -1., -1., -1., -1.,\n          -1., -1., -1., -1., -1., -1., -1., -1., -1., -1., -1.]]),\n tensor([[ 0.,  6.,  7.,  8., 13., 14., 15., 17., 18., 19., -1., -1., -1., -1.,\n          -1., -1., -1., -1., -1., -1., -1., -1., -1., -1., -1.]]),\n tensor([[ 0.,  2.,  4.,  8., 11., 12., 13., 15., 17., 20., 21., 22., 23., 24.,\n          -1., -1., -1., -1., -1., -1., -1., -1., -1., -1., -1.]]),\n tensor([[ 0.,  1.,  6.,  7.,  8., 13., 14., 17., 18., 19., -1., -1., -1., -1.,\n          -1., -1., -1., -1., -1., -1., -1., -1., -1., -1., -1.]]),\n tensor([[ 0.,  1.,  6.,  7.,  8., 13., 14., 17., 18., 19., -1., -1., -1., -1.,\n          -1., -1., -1., -1., -1., -1., -1., -1., -1., -1., -1.]]),\n tensor([[ 0.,  1.,  6.,  7.,  8., 13., 14., 17., 18., 19., -1., -1., -1., -1.,\n          -1., -1., -1., -1., -1., -1., -1., -1., -1., -1., -1.]]),\n tensor([[ 0.,  1.,  6.,  7.,  8., 13., 14., 17., 18., 19., -1., -1., -1., -1.,\n          -1., -1., -1., -1., -1., -1., -1., -1., -1., -1., -1.]]),\n tensor([[ 0.,  1.,  6.,  7.,  8., 13., 14., 15., 17., 18., 19., -1., -1., -1.,\n          -1., -1., -1., -1., -1., -1., -1., -1., -1., -1., -1.]]),\n tensor([[ 0.,  1.,  6.,  7.,  8., 13., 14., 15., 17., 18., 19., -1., -1., -1.,\n          -1., -1., -1., -1., -1., -1., -1., -1., -1., -1., -1.]]),\n tensor([[ 0.,  1.,  6.,  7.,  8., 13., 14., 15., 17., 18., 19., -1., -1., -1.,\n          -1., -1., -1., -1., -1., -1., -1., -1., -1., -1., -1.]]),\n tensor([[ 0.,  1.,  6.,  7.,  8., 13., 14., 15., 17., 18., 19., -1., -1., -1.,\n          -1., -1., -1., -1., -1., -1., -1., -1., -1., -1., -1.]]),\n tensor([[ 0.,  1.,  6.,  7.,  8., 13., 14., 15., 17., 18., 19., -1., -1., -1.,\n          -1., -1., -1., -1., -1., -1., -1., -1., -1., -1., -1.]]),\n tensor([[ 0.,  1.,  6.,  7.,  8., 13., 14., 15., 17., 18., 19., -1., -1., -1.,\n          -1., -1., -1., -1., -1., -1., -1., -1., -1., -1., -1.]]),\n tensor([[ 0.,  1.,  6.,  7.,  8., 13., 14., 15., 17., 18., 19., -1., -1., -1.,\n          -1., -1., -1., -1., -1., -1., -1., -1., -1., -1., -1.]]),\n tensor([[ 0.,  1.,  6.,  7.,  8., 13., 14., 15., 17., 18., 19., -1., -1., -1.,\n          -1., -1., -1., -1., -1., -1., -1., -1., -1., -1., -1.]]),\n tensor([[ 0.,  1.,  6.,  7.,  8., 13., 14., 15., 17., 18., 19., -1., -1., -1.,\n          -1., -1., -1., -1., -1., -1., -1., -1., -1., -1., -1.]]),\n tensor([[ 0.,  1.,  7.,  8., 13., 14., 15., 16., 17., 18., 19., -1., -1., -1.,\n          -1., -1., -1., -1., -1., -1., -1., -1., -1., -1., -1.]]),\n tensor([[ 0.,  1.,  5.,  6.,  7.,  8., 13., 14., 15., 18., 19., -1., -1., -1.,\n          -1., -1., -1., -1., -1., -1., -1., -1., -1., -1., -1.]]),\n tensor([[ 0.,  1.,  4.,  6.,  7.,  8., 10., 13., 14., 15., 17., 18., 19., 21.,\n          -1., -1., -1., -1., -1., -1., -1., -1., -1., -1., -1.]]),\n tensor([[ 2.,  3.,  4.,  8.,  9., 11., 12., 15., 16., 20., 21., 22., 23., 24.,\n          -1., -1., -1., -1., -1., -1., -1., -1., -1., -1., -1.]]),\n tensor([[ 1.,  6.,  7.,  8., 13., 14., 15., 18., -1., -1., -1., -1., -1., -1.,\n          -1., -1., -1., -1., -1., -1., -1., -1., -1., -1., -1.]]),\n tensor([[ 2.,  3.,  7.,  8., 10., 14., 18., 20., 21., 22., -1., -1., -1., -1.,\n          -1., -1., -1., -1., -1., -1., -1., -1., -1., -1., -1.]]),\n tensor([[ 1.,  2.,  5.,  8.,  9., 13., 14., 15., 16., 20., 23., 24., -1., -1.,\n          -1., -1., -1., -1., -1., -1., -1., -1., -1., -1., -1.]]),\n tensor([[ 3.,  7.,  8., 13., 14., 15., 16., 18., 20., 21., 23., 24., -1., -1.,\n          -1., -1., -1., -1., -1., -1., -1., -1., -1., -1., -1.]]),\n tensor([[ 0.,  4.,  7., 10., 12., 13., 15., 17., 18., 19., 21., 22., -1., -1.,\n          -1., -1., -1., -1., -1., -1., -1., -1., -1., -1., -1.]]),\n tensor([[ 0.,  1.,  2.,  5.,  8., 14., 19., 21., 24., -1., -1., -1., -1., -1.,\n          -1., -1., -1., -1., -1., -1., -1., -1., -1., -1., -1.]]),\n tensor([[ 0.,  1.,  4.,  6.,  7.,  8., 11., 13., 14., 15., 17., 18., 19., -1.,\n          -1., -1., -1., -1., -1., -1., -1., -1., -1., -1., -1.]]),\n tensor([[ 1.,  2.,  5.,  6.,  9., 11., 13., 14., 19., 20., 24., -1., -1., -1.,\n          -1., -1., -1., -1., -1., -1., -1., -1., -1., -1., -1.]]),\n tensor([[ 0.,  1.,  4.,  6.,  7.,  8., 12., 13., 14., 15., 16., 17., 18., -1.,\n          -1., -1., -1., -1., -1., -1., -1., -1., -1., -1., -1.]]),\n tensor([[ 0.,  1.,  6.,  7.,  8., 13., 14., 15., 17., 18., 19., 22., 23., -1.,\n          -1., -1., -1., -1., -1., -1., -1., -1., -1., -1., -1.]]),\n tensor([[ 0.,  1.,  6.,  7.,  8., 13., 14., 15., 17., 18., 19., 22., 23., -1.,\n          -1., -1., -1., -1., -1., -1., -1., -1., -1., -1., -1.]]),\n tensor([[ 4.,  6.,  8., 10., 11., 14., 15., 16., 17., 18., 20., 21., 22., 23.,\n          24., -1., -1., -1., -1., -1., -1., -1., -1., -1., -1.]]),\n tensor([[ 1.,  3.,  4.,  6.,  7.,  8.,  9., 13., 15., 16., 17., 20., 21., 24.,\n          -1., -1., -1., -1., -1., -1., -1., -1., -1., -1., -1.]]),\n tensor([[ 0.,  1.,  4.,  5.,  6.,  7., 13., 17., 18., 19., 20., 23., -1., -1.,\n          -1., -1., -1., -1., -1., -1., -1., -1., -1., -1., -1.]]),\n tensor([[ 2.,  3.,  4.,  5.,  6.,  7.,  8., 10., 11., 12., 19., 20., 22., 24.,\n          -1., -1., -1., -1., -1., -1., -1., -1., -1., -1., -1.]]),\n tensor([[ 0.,  1.,  4.,  5.,  7.,  8., 14., 16., 17., 19., 20., -1., -1., -1.,\n          -1., -1., -1., -1., -1., -1., -1., -1., -1., -1., -1.]]),\n tensor([[ 0.,  1.,  6.,  7.,  8., 13., 14., 15., 17., 19., -1., -1., -1., -1.,\n          -1., -1., -1., -1., -1., -1., -1., -1., -1., -1., -1.]]),\n tensor([[ 0.,  1.,  6.,  7.,  8., 13., 14., 15., 17., 19., -1., -1., -1., -1.,\n          -1., -1., -1., -1., -1., -1., -1., -1., -1., -1., -1.]]),\n tensor([[ 0.,  1.,  6.,  7.,  8., 13., 14., 15., 17., 19., -1., -1., -1., -1.,\n          -1., -1., -1., -1., -1., -1., -1., -1., -1., -1., -1.]]),\n tensor([[ 0.,  1.,  6.,  7.,  8., 13., 14., 15., 17., 19., -1., -1., -1., -1.,\n          -1., -1., -1., -1., -1., -1., -1., -1., -1., -1., -1.]]),\n tensor([[ 0.,  1.,  6.,  7.,  8., 13., 14., 15., 17., 19., -1., -1., -1., -1.,\n          -1., -1., -1., -1., -1., -1., -1., -1., -1., -1., -1.]]),\n tensor([[ 0.,  2.,  3.,  4.,  5., 10., 12., 14., 16., 22., 23., -1., -1., -1.,\n          -1., -1., -1., -1., -1., -1., -1., -1., -1., -1., -1.]]),\n tensor([[ 0.,  3.,  4.,  7.,  8.,  9., 10., 11., 12., 15., 17., 19., 20., 21.,\n          23., 24., -1., -1., -1., -1., -1., -1., -1., -1., -1.]]),\n tensor([[ 0.,  2.,  3.,  5.,  8.,  9., 10., 12., 13., 18., 19., 20., 21., 22.,\n          -1., -1., -1., -1., -1., -1., -1., -1., -1., -1., -1.]]),\n tensor([[ 0.,  1.,  2.,  5.,  6.,  9., 11., 12., 13., 15., 18., 19., 23., 24.,\n          -1., -1., -1., -1., -1., -1., -1., -1., -1., -1., -1.]]),\n tensor([[ 2.,  4.,  8.,  9., 10., 11., 12., 13., 14., 20., 21., 22., 23., 24.,\n          -1., -1., -1., -1., -1., -1., -1., -1., -1., -1., -1.]]),\n tensor([[ 0.,  1.,  5.,  6.,  7.,  8., 12., 13., 14., 15., 17., 18., 19., -1.,\n          -1., -1., -1., -1., -1., -1., -1., -1., -1., -1., -1.]]),\n tensor([[ 3.,  4.,  7.,  8., 10., 16., 17., 18., 21., 22., -1., -1., -1., -1.,\n          -1., -1., -1., -1., -1., -1., -1., -1., -1., -1., -1.]]),\n tensor([[ 0.,  4.,  6.,  8., 10., 11., 14., 15., 16., 17., 20., 21., 23., -1.,\n          -1., -1., -1., -1., -1., -1., -1., -1., -1., -1., -1.]]),\n tensor([[ 2.,  3.,  8., 14., 16., 21., 22., 23., 24., -1., -1., -1., -1., -1.,\n          -1., -1., -1., -1., -1., -1., -1., -1., -1., -1., -1.]]),\n tensor([[ 0.,  2.,  5.,  8., 10., 11., 12., 14., 18., 19., 22., 23., 24., -1.,\n          -1., -1., -1., -1., -1., -1., -1., -1., -1., -1., -1.]]),\n tensor([[ 0.,  1.,  6.,  7.,  8., 13., 14., 15., 17., 18., 19., 22., -1., -1.,\n          -1., -1., -1., -1., -1., -1., -1., -1., -1., -1., -1.]]),\n tensor([[ 0.,  1.,  3.,  4.,  5.,  7.,  8., 15., 16., 19., 21., 22., -1., -1.,\n          -1., -1., -1., -1., -1., -1., -1., -1., -1., -1., -1.]]),\n tensor([[ 0.,  1.,  6.,  7.,  8., 13., 14., 15., 16., 17., 18., 19., -1., -1.,\n          -1., -1., -1., -1., -1., -1., -1., -1., -1., -1., -1.]]),\n tensor([[ 0.,  1.,  6.,  7.,  8., 13., 14., 15., 16., 17., 18., 19., -1., -1.,\n          -1., -1., -1., -1., -1., -1., -1., -1., -1., -1., -1.]]),\n tensor([[ 1.,  5.,  6.,  7.,  9., 11., 12., 14., 15., 20., 21., 22., 23., -1.,\n          -1., -1., -1., -1., -1., -1., -1., -1., -1., -1., -1.]]),\n tensor([[ 0.,  1.,  6.,  7.,  8., 13., 14., 15., 16., 17., 18., 19., -1., -1.,\n          -1., -1., -1., -1., -1., -1., -1., -1., -1., -1., -1.]]),\n tensor([[ 0.,  1.,  6.,  7.,  8., 13., 14., 15., 16., 17., 18., 19., -1., -1.,\n          -1., -1., -1., -1., -1., -1., -1., -1., -1., -1., -1.]]),\n tensor([[ 1.,  2.,  4.,  5.,  7.,  8., 11., 14., 19., 20., 22., -1., -1., -1.,\n          -1., -1., -1., -1., -1., -1., -1., -1., -1., -1., -1.]]),\n tensor([[ 0.,  2.,  5., 10., 11., 14., 18., 19., 21., 22., 24., -1., -1., -1.,\n          -1., -1., -1., -1., -1., -1., -1., -1., -1., -1., -1.]]),\n tensor([[ 4.,  6.,  8., 14., 15., 16., 17., 20., 21., 23., 24., -1., -1., -1.,\n          -1., -1., -1., -1., -1., -1., -1., -1., -1., -1., -1.]]),\n tensor([[ 0.,  2.,  3.,  6., 10., 11., 15., 18., 19., 21., 22., 23., 24., -1.,\n          -1., -1., -1., -1., -1., -1., -1., -1., -1., -1., -1.]]),\n tensor([[ 2.,  4.,  6.,  8., 10., 11., 14., 15., 16., 17., 18., 20., 21., -1.,\n          -1., -1., -1., -1., -1., -1., -1., -1., -1., -1., -1.]]),\n tensor([[ 2.,  3.,  8., 11., 18., 20., 21., 22., 24., -1., -1., -1., -1., -1.,\n          -1., -1., -1., -1., -1., -1., -1., -1., -1., -1., -1.]]),\n tensor([[ 2.,  4.,  6.,  8., 10., 11., 14., 15., 16., 17., 18., 21., 23., -1.,\n          -1., -1., -1., -1., -1., -1., -1., -1., -1., -1., -1.]]),\n tensor([[ 2.,  4.,  6.,  8., 10., 11., 14., 15., 16., 17., 18., 21., 23., -1.,\n          -1., -1., -1., -1., -1., -1., -1., -1., -1., -1., -1.]]),\n tensor([[ 0.,  1.,  6.,  7.,  8., 14., 17., 18., 19., -1., -1., -1., -1., -1.,\n          -1., -1., -1., -1., -1., -1., -1., -1., -1., -1., -1.]]),\n tensor([[ 4.,  5., 13., 14., 15., 16., 17., 19., 21., 22., 24., -1., -1., -1.,\n          -1., -1., -1., -1., -1., -1., -1., -1., -1., -1., -1.]]),\n tensor([[ 0.,  3.,  4.,  5.,  6.,  7.,  8., 12., 14., 15., 16., 18., 19., 21.,\n          22., 24., -1., -1., -1., -1., -1., -1., -1., -1., -1.]]),\n tensor([[ 0.,  1.,  2.,  3.,  6.,  8.,  9., 14., 15., 16., 17., 23., 24., -1.,\n          -1., -1., -1., -1., -1., -1., -1., -1., -1., -1., -1.]]),\n tensor([[ 0.,  1.,  2.,  3.,  4.,  8., 12., 13., 14., 15., 16., 17., 18., 21.,\n          22., 23., -1., -1., -1., -1., -1., -1., -1., -1., -1.]]),\n tensor([[ 0.,  1.,  6.,  8., 13., 14., 15., 17., 18., 19., 23., 24., -1., -1.,\n          -1., -1., -1., -1., -1., -1., -1., -1., -1., -1., -1.]]),\n tensor([[ 0.,  1.,  6.,  7.,  8., 13., 14., 15., 17., 18., 19., 20., 22., -1.,\n          -1., -1., -1., -1., -1., -1., -1., -1., -1., -1., -1.]]),\n tensor([[ 0.,  1.,  2.,  3.,  7.,  8., 12., 13., 17., 18., 20., 23., -1., -1.,\n          -1., -1., -1., -1., -1., -1., -1., -1., -1., -1., -1.]]),\n tensor([[ 0.,  2.,  4.,  6.,  8., 10., 11., 14., 15., 16., 20., 22., 23., -1.,\n          -1., -1., -1., -1., -1., -1., -1., -1., -1., -1., -1.]]),\n tensor([[ 2.,  4.,  5.,  6.,  8., 10., 11., 14., 15., 16., 17., 18., 21., -1.,\n          -1., -1., -1., -1., -1., -1., -1., -1., -1., -1., -1.]]),\n tensor([[ 1.,  6.,  7.,  8., 13., 14., 15., 17., 18., -1., -1., -1., -1., -1.,\n          -1., -1., -1., -1., -1., -1., -1., -1., -1., -1., -1.]]),\n tensor([[ 1.,  3.,  4.,  5.,  6.,  7.,  8.,  9., 13., 20., 22., 23., -1., -1.,\n          -1., -1., -1., -1., -1., -1., -1., -1., -1., -1., -1.]]),\n tensor([[ 0.,  1.,  6.,  7.,  8., 13., 14., 15., 17., 18., 19., 23., -1., -1.,\n          -1., -1., -1., -1., -1., -1., -1., -1., -1., -1., -1.]]),\n tensor([[ 0.,  1.,  6.,  7.,  8., 13., 14., 15., 17., 18., 19., 23., -1., -1.,\n          -1., -1., -1., -1., -1., -1., -1., -1., -1., -1., -1.]]),\n tensor([[ 0.,  1.,  6.,  7.,  8., 13., 14., 15., 17., 18., 19., 23., -1., -1.,\n          -1., -1., -1., -1., -1., -1., -1., -1., -1., -1., -1.]]),\n tensor([[ 4.,  6.,  9., 10., 11., 12., 13., 17., 20., 23., 24., -1., -1., -1.,\n          -1., -1., -1., -1., -1., -1., -1., -1., -1., -1., -1.]]),\n tensor([[ 0.,  1.,  5.,  6.,  7.,  9., 13., 14., 15., 16., 17., 18., 19., 20.,\n          23., -1., -1., -1., -1., -1., -1., -1., -1., -1., -1.]]),\n tensor([[ 2.,  3.,  4.,  5.,  7.,  8., 10., 14., 16., 18., 20., 21., 22., -1.,\n          -1., -1., -1., -1., -1., -1., -1., -1., -1., -1., -1.]]),\n tensor([[ 0.,  1.,  5.,  6.,  7.,  8., 11., 13., 14., 15., 17., 18., 19., -1.,\n          -1., -1., -1., -1., -1., -1., -1., -1., -1., -1., -1.]]),\n tensor([[ 0.,  1.,  2.,  4.,  5.,  7., 10., 12., 14., 18., 19., 22., -1., -1.,\n          -1., -1., -1., -1., -1., -1., -1., -1., -1., -1., -1.]]),\n tensor([[ 1.,  6.,  7.,  8., 14., 15., 18., 19., -1., -1., -1., -1., -1., -1.,\n          -1., -1., -1., -1., -1., -1., -1., -1., -1., -1., -1.]]),\n tensor([[ 0.,  1.,  6.,  8., 13., 14., 15., 17., 18., 19., 22., 24., -1., -1.,\n          -1., -1., -1., -1., -1., -1., -1., -1., -1., -1., -1.]]),\n tensor([[ 2.,  4.,  6.,  8., 10., 14., 15., 16., 18., 20., 21., 24., -1., -1.,\n          -1., -1., -1., -1., -1., -1., -1., -1., -1., -1., -1.]]),\n tensor([[ 4.,  7.,  8.,  9., 13., 14., 15., 16., 17., 20., 23., -1., -1., -1.,\n          -1., -1., -1., -1., -1., -1., -1., -1., -1., -1., -1.]]),\n tensor([[ 0.,  1.,  6.,  7.,  8., 13., 14., 15., 17., 18., 19., -1., -1., -1.,\n          -1., -1., -1., -1., -1., -1., -1., -1., -1., -1., -1.]]),\n tensor([[ 0.,  1.,  6.,  7.,  8., 13., 14., 15., 17., 18., 19., -1., -1., -1.,\n          -1., -1., -1., -1., -1., -1., -1., -1., -1., -1., -1.]]),\n tensor([[ 0.,  1.,  6.,  7.,  8., 13., 14., 15., 17., 18., 19., -1., -1., -1.,\n          -1., -1., -1., -1., -1., -1., -1., -1., -1., -1., -1.]]),\n tensor([[ 0.,  1.,  6.,  7.,  8., 13., 14., 15., 17., 18., 19., -1., -1., -1.,\n          -1., -1., -1., -1., -1., -1., -1., -1., -1., -1., -1.]]),\n tensor([[ 0.,  1.,  6.,  7.,  8., 13., 14., 15., 17., 18., 19., -1., -1., -1.,\n          -1., -1., -1., -1., -1., -1., -1., -1., -1., -1., -1.]]),\n tensor([[ 0.,  1.,  6.,  7.,  8., 13., 14., 15., 17., 18., 19., -1., -1., -1.,\n          -1., -1., -1., -1., -1., -1., -1., -1., -1., -1., -1.]]),\n tensor([[ 0.,  1.,  6.,  7.,  8., 13., 14., 15., 17., 18., 19., -1., -1., -1.,\n          -1., -1., -1., -1., -1., -1., -1., -1., -1., -1., -1.]]),\n tensor([[ 0.,  1.,  6.,  7.,  8., 13., 14., 15., 17., 18., 19., -1., -1., -1.,\n          -1., -1., -1., -1., -1., -1., -1., -1., -1., -1., -1.]]),\n tensor([[ 0.,  1.,  6.,  7.,  8., 13., 14., 15., 17., 18., 19., -1., -1., -1.,\n          -1., -1., -1., -1., -1., -1., -1., -1., -1., -1., -1.]]),\n tensor([[ 0.,  1.,  6.,  7.,  8., 13., 14., 15., 17., 18., 19., -1., -1., -1.,\n          -1., -1., -1., -1., -1., -1., -1., -1., -1., -1., -1.]]),\n tensor([[ 0.,  1.,  6.,  7.,  8., 13., 14., 15., 16., 17., 18., 19., 24., -1.,\n          -1., -1., -1., -1., -1., -1., -1., -1., -1., -1., -1.]]),\n tensor([[ 0.,  1.,  6.,  7.,  8., 13., 14., 15., 17., 18., 19., -1., -1., -1.,\n          -1., -1., -1., -1., -1., -1., -1., -1., -1., -1., -1.]]),\n tensor([[ 0.,  1.,  6.,  7.,  8., 13., 14., 15., 17., 18., 19., -1., -1., -1.,\n          -1., -1., -1., -1., -1., -1., -1., -1., -1., -1., -1.]]),\n tensor([[ 0.,  1.,  6.,  7.,  8., 13., 14., 15., 17., 18., 19., -1., -1., -1.,\n          -1., -1., -1., -1., -1., -1., -1., -1., -1., -1., -1.]]),\n tensor([[ 0.,  1.,  6.,  7.,  8., 13., 14., 15., 17., 18., 19., -1., -1., -1.,\n          -1., -1., -1., -1., -1., -1., -1., -1., -1., -1., -1.]]),\n tensor([[ 0.,  1.,  6.,  7.,  8., 13., 14., 15., 17., 18., 19., -1., -1., -1.,\n          -1., -1., -1., -1., -1., -1., -1., -1., -1., -1., -1.]]),\n tensor([[ 0.,  1.,  6.,  7.,  8., 13., 14., 15., 17., 18., 19., -1., -1., -1.,\n          -1., -1., -1., -1., -1., -1., -1., -1., -1., -1., -1.]]),\n tensor([[ 0.,  1.,  6.,  7.,  8., 13., 14., 15., 17., 18., 19., -1., -1., -1.,\n          -1., -1., -1., -1., -1., -1., -1., -1., -1., -1., -1.]]),\n tensor([[ 0.,  1.,  6.,  7.,  8., 13., 14., 15., 17., 18., 19., -1., -1., -1.,\n          -1., -1., -1., -1., -1., -1., -1., -1., -1., -1., -1.]]),\n tensor([[ 3.,  4.,  6.,  8., 11., 14., 15., 16., 17., 20., 21., 23., 24., -1.,\n          -1., -1., -1., -1., -1., -1., -1., -1., -1., -1., -1.]]),\n tensor([[ 0.,  1.,  6.,  7.,  8., 13., 14., 15., 17., 18., 19., -1., -1., -1.,\n          -1., -1., -1., -1., -1., -1., -1., -1., -1., -1., -1.]]),\n tensor([[ 0.,  1.,  3.,  6., 13., 14., 17., 18., 19., -1., -1., -1., -1., -1.,\n          -1., -1., -1., -1., -1., -1., -1., -1., -1., -1., -1.]]),\n tensor([[ 4.,  6.,  8., 10., 11., 14., 15., 16., 18., 20., 21., 22., 23., 24.,\n          -1., -1., -1., -1., -1., -1., -1., -1., -1., -1., -1.]]),\n tensor([[ 1.,  2.,  4.,  5.,  6.,  7.,  8.,  9., 10., 13., 19., 21., 22., -1.,\n          -1., -1., -1., -1., -1., -1., -1., -1., -1., -1., -1.]]),\n tensor([[ 1.,  2.,  4.,  5.,  6.,  7.,  8.,  9., 10., 13., 19., 21., 22., -1.,\n          -1., -1., -1., -1., -1., -1., -1., -1., -1., -1., -1.]]),\n tensor([[ 0.,  1.,  6.,  7.,  8.,  9., 13., 14., 15., 17., 18., 22., -1., -1.,\n          -1., -1., -1., -1., -1., -1., -1., -1., -1., -1., -1.]]),\n tensor([[ 1.,  4.,  5.,  6.,  7.,  8., 13., 15., 18., -1., -1., -1., -1., -1.,\n          -1., -1., -1., -1., -1., -1., -1., -1., -1., -1., -1.]]),\n tensor([[ 0.,  1.,  6.,  7.,  8., 14., 15., 18., 19., -1., -1., -1., -1., -1.,\n          -1., -1., -1., -1., -1., -1., -1., -1., -1., -1., -1.]]),\n tensor([[ 0.,  1.,  2.,  6.,  7.,  8., 13., 14., 15., 17., 18., 19., -1., -1.,\n          -1., -1., -1., -1., -1., -1., -1., -1., -1., -1., -1.]]),\n tensor([[ 0.,  1.,  2.,  6.,  7.,  8., 13., 14., 15., 17., 18., 19., -1., -1.,\n          -1., -1., -1., -1., -1., -1., -1., -1., -1., -1., -1.]]),\n tensor([[ 0.,  1.,  2.,  6.,  7.,  8., 13., 14., 15., 17., 18., 19., -1., -1.,\n          -1., -1., -1., -1., -1., -1., -1., -1., -1., -1., -1.]]),\n tensor([[ 0.,  1.,  2.,  6.,  7.,  8., 13., 14., 15., 17., 18., 19., -1., -1.,\n          -1., -1., -1., -1., -1., -1., -1., -1., -1., -1., -1.]]),\n tensor([[ 0.,  1.,  6.,  7.,  8., 13., 15., 17., 18., 19., 23., -1., -1., -1.,\n          -1., -1., -1., -1., -1., -1., -1., -1., -1., -1., -1.]]),\n tensor([[ 0.,  1.,  5.,  6.,  8., 13., 14., 15., 17., 18., 19., -1., -1., -1.,\n          -1., -1., -1., -1., -1., -1., -1., -1., -1., -1., -1.]]),\n tensor([[ 0.,  1.,  5.,  6.,  7.,  8., 13., 14., 15., 17., 18., 19., -1., -1.,\n          -1., -1., -1., -1., -1., -1., -1., -1., -1., -1., -1.]]),\n tensor([[ 0.,  1.,  5.,  6.,  7.,  8., 13., 14., 15., 17., 18., 19., -1., -1.,\n          -1., -1., -1., -1., -1., -1., -1., -1., -1., -1., -1.]]),\n tensor([[ 0.,  1.,  5.,  6.,  7.,  8., 13., 14., 15., 17., 18., 19., -1., -1.,\n          -1., -1., -1., -1., -1., -1., -1., -1., -1., -1., -1.]]),\n tensor([[ 0.,  1.,  5.,  6.,  7.,  8., 13., 14., 15., 17., 18., 19., -1., -1.,\n          -1., -1., -1., -1., -1., -1., -1., -1., -1., -1., -1.]]),\n tensor([[ 0.,  4.,  6.,  8., 11., 14., 15., 16., 17., 20., 21., 23., 24., -1.,\n          -1., -1., -1., -1., -1., -1., -1., -1., -1., -1., -1.]]),\n tensor([[ 0.,  4.,  6.,  8., 11., 14., 15., 16., 17., 20., 21., 23., 24., -1.,\n          -1., -1., -1., -1., -1., -1., -1., -1., -1., -1., -1.]]),\n tensor([[ 0.,  6.,  7., 13., 14., 15., 17., 18., 19., -1., -1., -1., -1., -1.,\n          -1., -1., -1., -1., -1., -1., -1., -1., -1., -1., -1.]]),\n tensor([[ 0.,  6.,  7.,  8., 12., 14., 15., 17., 18., 19., -1., -1., -1., -1.,\n          -1., -1., -1., -1., -1., -1., -1., -1., -1., -1., -1.]]),\n tensor([[ 0.,  1.,  6.,  7.,  8., 13., 14., 15., 17., 18., 19., -1., -1., -1.,\n          -1., -1., -1., -1., -1., -1., -1., -1., -1., -1., -1.]]),\n tensor([[ 0.,  1.,  6.,  7.,  8., 13., 14., 15., 17., 18., 19., -1., -1., -1.,\n          -1., -1., -1., -1., -1., -1., -1., -1., -1., -1., -1.]]),\n tensor([[ 0.,  1.,  6.,  7.,  8., 13., 14., 15., 17., 18., 19., -1., -1., -1.,\n          -1., -1., -1., -1., -1., -1., -1., -1., -1., -1., -1.]]),\n tensor([[ 0.,  1.,  6.,  7.,  8., 13., 14., 15., 17., 18., 19., -1., -1., -1.,\n          -1., -1., -1., -1., -1., -1., -1., -1., -1., -1., -1.]]),\n tensor([[ 0.,  1.,  6.,  7.,  8., 13., 14., 15., 17., 18., 19., -1., -1., -1.,\n          -1., -1., -1., -1., -1., -1., -1., -1., -1., -1., -1.]]),\n tensor([[ 0.,  1.,  6.,  7.,  8., 13., 14., 15., 17., 18., 19., -1., -1., -1.,\n          -1., -1., -1., -1., -1., -1., -1., -1., -1., -1., -1.]]),\n tensor([[ 0.,  1.,  6.,  7.,  8., 13., 14., 15., 17., 18., 19., -1., -1., -1.,\n          -1., -1., -1., -1., -1., -1., -1., -1., -1., -1., -1.]]),\n tensor([[ 0.,  1.,  6.,  7.,  8., 13., 14., 15., 17., 18., 19., -1., -1., -1.,\n          -1., -1., -1., -1., -1., -1., -1., -1., -1., -1., -1.]]),\n tensor([[ 0.,  1.,  6.,  7.,  8., 13., 14., 15., 16., 17., 18., 19., 21., -1.,\n          -1., -1., -1., -1., -1., -1., -1., -1., -1., -1., -1.]]),\n tensor([[ 0.,  1.,  6.,  7.,  8., 13., 14., 15., 17., 18., 19., -1., -1., -1.,\n          -1., -1., -1., -1., -1., -1., -1., -1., -1., -1., -1.]]),\n tensor([[ 6.,  8.,  9., 11., 12., 13., 15., 16., 17., 21., 23., 24., -1., -1.,\n          -1., -1., -1., -1., -1., -1., -1., -1., -1., -1., -1.]]),\n tensor([[ 0.,  1.,  4.,  5.,  6.,  7.,  8., 10., 12., 13., 15., 17., 19., 24.,\n          -1., -1., -1., -1., -1., -1., -1., -1., -1., -1., -1.]]),\n tensor([[ 0.,  6.,  7.,  8., 13., 14., 15., 18., 19., -1., -1., -1., -1., -1.,\n          -1., -1., -1., -1., -1., -1., -1., -1., -1., -1., -1.]]),\n tensor([[ 0.,  6.,  7.,  8., 11., 12., 13., 15., 16., 17., 18., 21., 23., 24.,\n          -1., -1., -1., -1., -1., -1., -1., -1., -1., -1., -1.]]),\n tensor([[ 0.,  1.,  6.,  7.,  8., 13., 14., 15., 17., 18., 19., 21., -1., -1.,\n          -1., -1., -1., -1., -1., -1., -1., -1., -1., -1., -1.]]),\n tensor([[ 0.,  1.,  6.,  7.,  8., 13., 14., 15., 17., 18., 19., 21., -1., -1.,\n          -1., -1., -1., -1., -1., -1., -1., -1., -1., -1., -1.]]),\n tensor([[ 0.,  1.,  6.,  7.,  8., 13., 14., 15., 17., 18., 19., 21., -1., -1.,\n          -1., -1., -1., -1., -1., -1., -1., -1., -1., -1., -1.]]),\n tensor([[ 1.,  2.,  4.,  5.,  6.,  8., 10., 11., 14., 15., 16., 18., 20., 21.,\n          23., -1., -1., -1., -1., -1., -1., -1., -1., -1., -1.]]),\n tensor([[ 6.,  7.,  9., 11., 12., 13., 15., 16., 17., 19., 23., 24., -1., -1.,\n          -1., -1., -1., -1., -1., -1., -1., -1., -1., -1., -1.]]),\n tensor([[ 0.,  3.,  6.,  7.,  8., 13., 14., 15., 17., 18., 19., -1., -1., -1.,\n          -1., -1., -1., -1., -1., -1., -1., -1., -1., -1., -1.]]),\n tensor([[ 0.,  1.,  3.,  6.,  7.,  8., 13., 14., 15., 17., 18., 19., 22., -1.,\n          -1., -1., -1., -1., -1., -1., -1., -1., -1., -1., -1.]]),\n tensor([[ 0.,  1.,  3.,  6.,  7.,  8., 13., 14., 15., 17., 18., 19., 22., -1.,\n          -1., -1., -1., -1., -1., -1., -1., -1., -1., -1., -1.]]),\n tensor([[ 1.,  3.,  6.,  7., 15., 16., 18., 20., -1., -1., -1., -1., -1., -1.,\n          -1., -1., -1., -1., -1., -1., -1., -1., -1., -1., -1.]]),\n tensor([[ 0.,  1.,  2.,  6.,  7.,  8., 13., 14., 15., 17., 18., 19., 22., 24.,\n          -1., -1., -1., -1., -1., -1., -1., -1., -1., -1., -1.]]),\n tensor([[ 0.,  1.,  3.,  6.,  7., 10., 11., 12., 18., 20., -1., -1., -1., -1.,\n          -1., -1., -1., -1., -1., -1., -1., -1., -1., -1., -1.]]),\n tensor([[ 0.,  1.,  7.,  8., 12., 13., 14., 15., 17., 18., 19., -1., -1., -1.,\n          -1., -1., -1., -1., -1., -1., -1., -1., -1., -1., -1.]]),\n tensor([[ 4.,  6.,  8., 11., 14., 15., 16., 17., 20., 21., 23., 24., -1., -1.,\n          -1., -1., -1., -1., -1., -1., -1., -1., -1., -1., -1.]]),\n tensor([[ 0.,  1.,  2.,  5.,  6.,  9., 10., 11., 12., 13., 15., 18., 19., 22.,\n          23., 24., -1., -1., -1., -1., -1., -1., -1., -1., -1.]]),\n tensor([[ 0.,  1.,  6.,  7.,  8., 10., 13., 14., 15., 18., 19., -1., -1., -1.,\n          -1., -1., -1., -1., -1., -1., -1., -1., -1., -1., -1.]]),\n tensor([[ 0.,  1.,  2.,  3.,  4.,  8.,  9., 10., 14., 15., 20., 24., -1., -1.,\n          -1., -1., -1., -1., -1., -1., -1., -1., -1., -1., -1.]]),\n tensor([[ 0.,  2.,  4.,  5.,  6., 10., 11., 12., 14., 17., 19., 21., 22., 23.,\n          24., -1., -1., -1., -1., -1., -1., -1., -1., -1., -1.]]),\n tensor([[ 0.,  2.,  4.,  5.,  8.,  9., 10., 14., 16., 17., 19., 20., 22., 24.,\n          -1., -1., -1., -1., -1., -1., -1., -1., -1., -1., -1.]]),\n tensor([[ 2.,  7.,  8., 11., 12., 13., 14., 17., 19., 20., 22., 23., -1., -1.,\n          -1., -1., -1., -1., -1., -1., -1., -1., -1., -1., -1.]]),\n tensor([[ 0.,  1.,  2.,  3.,  6.,  7., 10., 12., 18., 21., -1., -1., -1., -1.,\n          -1., -1., -1., -1., -1., -1., -1., -1., -1., -1., -1.]]),\n tensor([[ 0.,  1.,  6.,  7.,  8., 13., 14., 15., 18., 19., -1., -1., -1., -1.,\n          -1., -1., -1., -1., -1., -1., -1., -1., -1., -1., -1.]]),\n tensor([[ 0.,  1.,  6.,  7.,  8., 13., 14., 15., 18., 19., -1., -1., -1., -1.,\n          -1., -1., -1., -1., -1., -1., -1., -1., -1., -1., -1.]]),\n tensor([[ 1.,  2.,  3.,  4.,  5.,  7.,  8.,  9., 11., 14., 19., 20., -1., -1.,\n          -1., -1., -1., -1., -1., -1., -1., -1., -1., -1., -1.]]),\n tensor([[ 1.,  2.,  4.,  6.,  8., 10., 11., 14., 15., 16., 17., 18., 20., 21.,\n          -1., -1., -1., -1., -1., -1., -1., -1., -1., -1., -1.]]),\n tensor([[ 0.,  1.,  3.,  5.,  6.,  7.,  8., 13., 14., 15., 17., 18., 19., -1.,\n          -1., -1., -1., -1., -1., -1., -1., -1., -1., -1., -1.]]),\n tensor([[ 1.,  5.,  7.,  9., 13., 14., 15., 16., 20., 23., 24., -1., -1., -1.,\n          -1., -1., -1., -1., -1., -1., -1., -1., -1., -1., -1.]]),\n tensor([[ 1.,  3.,  4.,  5.,  6.,  7.,  9., 13., 15., 16., 17., 20., 21., -1.,\n          -1., -1., -1., -1., -1., -1., -1., -1., -1., -1., -1.]]),\n tensor([[ 2.,  4.,  5.,  6.,  8., 10., 14., 15., 16., 17., 18., 20., 21., 24.,\n          -1., -1., -1., -1., -1., -1., -1., -1., -1., -1., -1.]]),\n tensor([[ 4.,  6.,  8., 10., 11., 14., 15., 16., 17., 18., 21., 23., -1., -1.,\n          -1., -1., -1., -1., -1., -1., -1., -1., -1., -1., -1.]]),\n tensor([[ 4.,  6.,  8., 10., 11., 14., 15., 16., 17., 18., 21., 23., -1., -1.,\n          -1., -1., -1., -1., -1., -1., -1., -1., -1., -1., -1.]]),\n tensor([[ 4.,  6.,  8., 10., 11., 14., 15., 16., 17., 18., 21., 23., -1., -1.,\n          -1., -1., -1., -1., -1., -1., -1., -1., -1., -1., -1.]]),\n tensor([[ 4.,  6.,  8., 10., 11., 14., 15., 16., 17., 18., 21., 23., -1., -1.,\n          -1., -1., -1., -1., -1., -1., -1., -1., -1., -1., -1.]]),\n tensor([[ 4.,  6.,  8., 10., 11., 14., 15., 16., 17., 18., 21., 23., -1., -1.,\n          -1., -1., -1., -1., -1., -1., -1., -1., -1., -1., -1.]]),\n tensor([[ 3.,  4.,  6.,  7.,  8., 10., 16., 17., 18., 21., 22., -1., -1., -1.,\n          -1., -1., -1., -1., -1., -1., -1., -1., -1., -1., -1.]]),\n tensor([[ 0.,  1.,  5.,  6.,  9., 11., 12., 13., 14., 15., 18., 19., 23., 24.,\n          -1., -1., -1., -1., -1., -1., -1., -1., -1., -1., -1.]]),\n tensor([[ 0.,  1.,  6.,  7.,  8., 12., 13., 14., 15., 17., 18., 21., 23., -1.,\n          -1., -1., -1., -1., -1., -1., -1., -1., -1., -1., -1.]]),\n tensor([[ 0.,  2.,  3.,  6.,  7., 10., 12., 18., 21., 22., 24., -1., -1., -1.,\n          -1., -1., -1., -1., -1., -1., -1., -1., -1., -1., -1.]]),\n tensor([[ 0.,  1.,  7.,  8., 13., 14., 15., 17., 19., -1., -1., -1., -1., -1.,\n          -1., -1., -1., -1., -1., -1., -1., -1., -1., -1., -1.]]),\n tensor([[ 2.,  4.,  6.,  8., 10., 11., 14., 15., 16., 17., 18., 20., 23., -1.,\n          -1., -1., -1., -1., -1., -1., -1., -1., -1., -1., -1.]]),\n tensor([[ 0.,  1.,  6.,  7.,  8.,  9., 13., 14., 15., 17., 18., 19., -1., -1.,\n          -1., -1., -1., -1., -1., -1., -1., -1., -1., -1., -1.]]),\n tensor([[ 0.,  1.,  6.,  7.,  8., 13., 15., 17., 18., 19., 24., -1., -1., -1.,\n          -1., -1., -1., -1., -1., -1., -1., -1., -1., -1., -1.]]),\n tensor([[ 0.,  1.,  6.,  7.,  8.,  9., 13., 14., 15., 17., -1., -1., -1., -1.,\n          -1., -1., -1., -1., -1., -1., -1., -1., -1., -1., -1.]]),\n tensor([[ 0.,  1.,  6.,  9., 10., 11., 13., 14., 15., 16., 17., 21., 22., 23.,\n          -1., -1., -1., -1., -1., -1., -1., -1., -1., -1., -1.]]),\n tensor([[ 0.,  1.,  6.,  8., 12., 13., 14., 15., 16., 17., 18., 19., -1., -1.,\n          -1., -1., -1., -1., -1., -1., -1., -1., -1., -1., -1.]]),\n tensor([[ 0.,  1.,  6.,  8.,  9., 12., 13., 14., 15., 16., 17., 18., 23., 24.,\n          -1., -1., -1., -1., -1., -1., -1., -1., -1., -1., -1.]]),\n tensor([[ 2.,  3.,  5.,  6.,  8., 10., 11., 12., 13., 15., 20., 22., 23., 24.,\n          -1., -1., -1., -1., -1., -1., -1., -1., -1., -1., -1.]]),\n tensor([[ 1.,  2.,  3.,  4.,  6., 10., 14., 15., 16., 18., 21., 24., -1., -1.,\n          -1., -1., -1., -1., -1., -1., -1., -1., -1., -1., -1.]]),\n tensor([[ 1.,  7.,  8., 13., 14., 15., 17., 18., 19., -1., -1., -1., -1., -1.,\n          -1., -1., -1., -1., -1., -1., -1., -1., -1., -1., -1.]]),\n tensor([[ 1.,  7.,  8., 13., 14., 15., 17., 18., 19., -1., -1., -1., -1., -1.,\n          -1., -1., -1., -1., -1., -1., -1., -1., -1., -1., -1.]]),\n tensor([[ 0.,  2.,  3.,  5.,  6.,  8., 12., 14., 18., 19., 21., 22., 23., 24.,\n          -1., -1., -1., -1., -1., -1., -1., -1., -1., -1., -1.]]),\n tensor([[ 0.,  4.,  6.,  8., 10., 11., 14., 15., 16., 17., 20., 21., 22., 24.,\n          -1., -1., -1., -1., -1., -1., -1., -1., -1., -1., -1.]]),\n tensor([[ 1.,  2.,  3.,  4.,  9., 10., -1., -1., -1., -1., -1., -1., -1., -1.,\n          -1., -1., -1., -1., -1., -1., -1., -1., -1., -1., -1.]]),\n tensor([[ 1.,  6.,  7.,  8., 14., 15., 17., 18., 19., -1., -1., -1., -1., -1.,\n          -1., -1., -1., -1., -1., -1., -1., -1., -1., -1., -1.]]),\n tensor([[ 4.,  7.,  8., 13., 14., 16., 17., 18., 20., 21., 23., -1., -1., -1.,\n          -1., -1., -1., -1., -1., -1., -1., -1., -1., -1., -1.]]),\n tensor([[ 0.,  1.,  4.,  5.,  7.,  8., 11., 13., 14., 15., 16., 17., 19., 20.,\n          22., 23., -1., -1., -1., -1., -1., -1., -1., -1., -1.]]),\n tensor([[ 4.,  6.,  8., 11., 14., 15., 16., 17., 20., 21., 23., -1., -1., -1.,\n          -1., -1., -1., -1., -1., -1., -1., -1., -1., -1., -1.]]),\n tensor([[ 4.,  6.,  8., 11., 14., 15., 16., 17., 18., 20., 21., 23., 24., -1.,\n          -1., -1., -1., -1., -1., -1., -1., -1., -1., -1., -1.]]),\n tensor([[ 0.,  1.,  6.,  7.,  8., 13., 17., 18., 19., -1., -1., -1., -1., -1.,\n          -1., -1., -1., -1., -1., -1., -1., -1., -1., -1., -1.]]),\n tensor([[ 0.,  2.,  3.,  4.,  5.,  7.,  8., 10., 12., 14., 15., 16., 18., 19.,\n          21., 22., 23., 24., -1., -1., -1., -1., -1., -1., -1.]]),\n tensor([[ 0.,  1.,  6.,  7.,  8., 14., 15., 17., 18., 19., -1., -1., -1., -1.,\n          -1., -1., -1., -1., -1., -1., -1., -1., -1., -1., -1.]]),\n tensor([[ 0.,  1.,  6.,  7.,  8., 14., 15., 17., 18., 19., -1., -1., -1., -1.,\n          -1., -1., -1., -1., -1., -1., -1., -1., -1., -1., -1.]]),\n tensor([[ 0.,  1.,  6.,  7.,  8., 14., 15., 17., 18., 19., -1., -1., -1., -1.,\n          -1., -1., -1., -1., -1., -1., -1., -1., -1., -1., -1.]]),\n tensor([[ 0.,  1.,  6.,  7.,  8., 14., 15., 17., 18., 19., -1., -1., -1., -1.,\n          -1., -1., -1., -1., -1., -1., -1., -1., -1., -1., -1.]]),\n tensor([[ 0.,  1.,  6.,  7.,  8., 14., 15., 17., 18., 19., -1., -1., -1., -1.,\n          -1., -1., -1., -1., -1., -1., -1., -1., -1., -1., -1.]]),\n tensor([[ 0.,  1.,  6.,  7.,  8., 13., 14., 15., 17., 18., 19., -1., -1., -1.,\n          -1., -1., -1., -1., -1., -1., -1., -1., -1., -1., -1.]]),\n tensor([[ 0.,  1.,  3.,  6.,  8., 12., 13., 14., 15., 17., 18., 19., -1., -1.,\n          -1., -1., -1., -1., -1., -1., -1., -1., -1., -1., -1.]]),\n tensor([[ 0.,  1.,  4.,  6.,  7.,  8., 13., 14., 15., 17., 18., 19., -1., -1.,\n          -1., -1., -1., -1., -1., -1., -1., -1., -1., -1., -1.]]),\n tensor([[ 0.,  1.,  4.,  6.,  7.,  8., 13., 14., 15., 17., 18., 19., -1., -1.,\n          -1., -1., -1., -1., -1., -1., -1., -1., -1., -1., -1.]]),\n tensor([[ 1.,  6.,  9., 10., 11., 12., 13., 17., 20., 23., 24., -1., -1., -1.,\n          -1., -1., -1., -1., -1., -1., -1., -1., -1., -1., -1.]]),\n tensor([[ 0.,  1.,  2.,  6.,  9., 10., 11., 17., 20., 22., -1., -1., -1., -1.,\n          -1., -1., -1., -1., -1., -1., -1., -1., -1., -1., -1.]])]"
     },
     "execution_count": 87,
     "metadata": {},
     "output_type": "execute_result"
    }
   ],
   "source": [
    "results"
   ],
   "metadata": {
    "collapsed": false,
    "pycharm": {
     "name": "#%%\n"
    }
   }
  },
  {
   "cell_type": "code",
   "execution_count": 88,
   "outputs": [
    {
     "data": {
      "text/plain": "tensor([[ 0.,  1.,  2.,  ..., -1., -1., -1.],\n        [ 4.,  6.,  8.,  ..., -1., -1., -1.],\n        [ 0.,  1.,  2.,  ..., -1., -1., -1.],\n        ...,\n        [ 0.,  1.,  4.,  ..., -1., -1., -1.],\n        [ 1.,  6.,  9.,  ..., -1., -1., -1.],\n        [ 0.,  1.,  2.,  ..., -1., -1., -1.]])"
     },
     "execution_count": 88,
     "metadata": {},
     "output_type": "execute_result"
    }
   ],
   "source": [
    "torch.cat(results, 0)"
   ],
   "metadata": {
    "collapsed": false,
    "pycharm": {
     "name": "#%%\n"
    }
   }
  },
  {
   "cell_type": "code",
   "execution_count": 89,
   "outputs": [
    {
     "data": {
      "text/plain": "tensor([[ 0.,  1.,  2.,  ..., -1., -1., -1.]])"
     },
     "execution_count": 89,
     "metadata": {},
     "output_type": "execute_result"
    }
   ],
   "source": [
    "torch.cat(results, 1)"
   ],
   "metadata": {
    "collapsed": false,
    "pycharm": {
     "name": "#%%\n"
    }
   }
  },
  {
   "cell_type": "code",
   "execution_count": 21,
   "outputs": [],
   "source": [
    "import pickle\n",
    "baseline_name = [\n",
    "    'kbest',\n",
    "    'mrmr',\n",
    "    'lasso',\n",
    "    'rfe',\n",
    "    # 'gfs',\n",
    "    'lassonet',\n",
    "    'sarlfs',\n",
    "    'marlfs',\n",
    "\n",
    "]\n",
    "names = ['spectf', 'svmguide3', 'german_credit', 'uci_credit_card', 'spam_base',\n",
    "                   'megawatt1','ionosphere','openml_586', 'openml_589', 'openml_607', 'openml_616',\n",
    "                    'openml_618', 'openml_620',\n",
    "                  'openml_637', 'mice_protein', 'coil-20' ]\n",
    "base_path = '/home/xiaomeng/jupyter_base/AutoFS/data'"
   ],
   "metadata": {
    "collapsed": false,
    "pycharm": {
     "name": "#%%\n"
    }
   }
  },
  {
   "cell_type": "code",
   "execution_count": null,
   "outputs": [],
   "source": [
    "for name in names:\n",
    "    out = f'{base_path}/opt_ds/{name}.hdf'\n",
    "    with open(f'{base_path}/history/{name}/fe-.pkl', 'rb') as f:\n",
    "        fe: FeatureEvaluator = pickle.load(f)\n",
    "        fe.train.to_hdf(out, key=f'raw_train')\n",
    "        fe.test.to_hdf(out, key=f'raw_test')\n",
    "        fe.original.to_hdf(out, key=f'raw')\n",
    "    for method in baseline_name:\n",
    "        opt_path = f'{base_path}/history/{name}/best-{method}-.hdf'\n",
    "        opt_train_path = f'{base_path}/history/{name}/best-{method}-train.hdf'\n",
    "        opt_test_path = f'{base_path}/history/{name}/best-{method}-test.hdf'\n",
    "        overall = pd.read_hdf(opt_path, 'xm')\n",
    "        test = pd.read_hdf(opt_train_path, 'xm')\n",
    "        train = pd.read_hdf(opt_test_path, 'xm')\n",
    "        test.to_hdf(out, key=f'test_{method}')\n",
    "        train.to_hdf(out, key=f'train_{method}')"
   ],
   "metadata": {
    "collapsed": false,
    "pycharm": {
     "name": "#%%\n"
    }
   }
  },
  {
   "cell_type": "code",
   "execution_count": 27,
   "outputs": [
    {
     "name": "stdout",
     "output_type": "stream",
     "text": [
      "INFO:  initialize the train and test dataset\n",
      "higgs ['69.57', '71.21', '70.41', '71.25', '71.19', '71.03', '70.01', '69.47', '70.20']\n",
      "INFO:  initialize the train and test dataset\n",
      "spectf ['75.96', '75.87', '76.39', '74.88', '78.35', '77.73', '74.28', '78.56', '76.29']\n",
      "INFO:  initialize the train and test dataset\n",
      "svmguide3 ['77.81', '81.77', '83.28', '83.12', '83.19', '84.27', '80.15', '80.00', '82.89']\n",
      "INFO:  initialize the train and test dataset\n",
      "german_credit ['64.88', '74.25', '75.66', '70.14', '74.34', '76.26', '65.34', '76.59', '75.92']\n",
      "INFO:  initialize the train and test dataset\n",
      "uci_credit_card ['80.19', '79.08', '79.10', '77.30', '78.48', '78.83', '74.37', '79.15', '79.34']\n",
      "INFO:  initialize the train and test dataset\n",
      "spam_base ['92.68', '94.71', '95.10', '93.19', '94.66', '94.61', '92.10', '94.38', '94.26']\n",
      "INFO:  initialize the train and test dataset\n",
      "megawatt1 ['81.60', '86.02', '84.87', '85.80', '86.20', '89.10', '85.55', '88.64', '85.93']\n",
      "INFO:  initialize the train and test dataset\n",
      "ionosphere ['92.85', '91.76', '92.07', '92.42', '91.73', '92.33', '88.37', '93.46', '92.41']\n",
      "INFO:  initialize the train and test dataset\n",
      "openml_586 ['54.95', '70.15', '69.94', '71.43', '69.85', '73.06', '69.96', '51.19', '69.71']\n",
      "INFO:  initialize the train and test dataset\n",
      "openml_589 ['50.95', '68.85', '68.94', '71.54', '68.79', '72.40', '68.93', '61.36', '68.78']\n",
      "INFO:  initialize the train and test dataset\n",
      "openml_607 ['51.73', '66.52', '66.58', '68.42', '66.23', '73.41', '66.18', '59.19', '66.39']\n",
      "INFO:  initialize the train and test dataset\n",
      "openml_616 ['15.63', '59.95', '59.95', '61.87', '60.20', '67.67', '49.22', '58.20', '60.01']\n",
      "INFO:  initialize the train and test dataset\n",
      "openml_618 ['46.89', '67.20', '67.20', '54.12', '67.07', '71.98', '66.82', '65.28', '67.26']\n",
      "INFO:  initialize the train and test dataset\n",
      "openml_620 ['51.01', '63.35', '63.39', '66.10', '64.35', '69.68', '64.45', '47.93', '64.80']\n",
      "INFO:  initialize the train and test dataset\n",
      "openml_637 ['14.95', '57.05', '57.36', '57.85', '58.12', '65.26', '46.80', '56.05', '57.80']\n"
     ]
    }
   ],
   "source": [
    "for name in names:\n",
    "    fe = FeatureEvaluator(name)\n",
    "    ps = []\n",
    "    raw_test = pd.read_hdf(f'{base_path}/opt_ds/{name}.hdf', key='raw_test')\n",
    "    ps.append('{:.2f}'.format(fe.get_performance(raw_test) * 100))\n",
    "    for method in baseline_name:\n",
    "        spe_test = pd.read_hdf(f'{base_path}/opt_ds/{name}.hdf', key=f'test_{method}')\n",
    "        ps.append('{:.2f}'.format(fe.get_performance(spe_test) * 100))\n",
    "    print(name, ps)"
   ],
   "metadata": {
    "collapsed": false,
    "pycharm": {
     "name": "#%%\n"
    }
   }
  },
  {
   "cell_type": "code",
   "execution_count": 28,
   "outputs": [
    {
     "name": "stdout",
     "output_type": "stream",
     "text": [
      "INFO:  initialize the train and test dataset\n",
      "higgs ['69.57', '71.21', '70.41', '71.25', '71.19', '71.03', '70.01', '69.47', '70.20']\n"
     ]
    }
   ],
   "source": [
    "name = 'higgs'\n",
    "fe = FeatureEvaluator(name)\n",
    "ps = []\n",
    "raw_test = pd.read_hdf(f'{base_path}/opt_ds/{name}.hdf', key='raw_test')\n",
    "ps.append('{:.2f}'.format(fe.get_performance(raw_test) * 100))\n",
    "for method in baseline_name:\n",
    "    spe_test = pd.read_hdf(f'{base_path}/opt_ds/{name}.hdf', key=f'test_{method}')\n",
    "    ps.append('{:.2f}'.format(fe.get_performance(spe_test) * 100))\n",
    "print(name, ps)"
   ],
   "metadata": {
    "collapsed": false,
    "pycharm": {
     "name": "#%%\n"
    }
   }
  },
  {
   "cell_type": "code",
   "execution_count": 36,
   "outputs": [
    {
     "name": "stdout",
     "output_type": "stream",
     "text": [
      "INFO:  initialize the train and test dataset\n",
      "INFO:  initialize the train and test dataset\n",
      "INFO:  initialize the train and test dataset\n",
      "INFO:  initialize the train and test dataset\n",
      "INFO:  initialize the train and test dataset\n",
      "INFO:  initialize the train and test dataset\n",
      "INFO:  initialize the train and test dataset\n",
      "INFO:  initialize the train and test dataset\n",
      "INFO:  initialize the train and test dataset\n",
      "INFO:  initialize the train and test dataset\n",
      "INFO:  initialize the train and test dataset\n",
      "INFO:  initialize the train and test dataset\n",
      "INFO:  initialize the train and test dataset\n",
      "INFO:  initialize the train and test dataset\n",
      "INFO:  initialize the train and test dataset\n"
     ]
    }
   ],
   "source": [
    "ps_ours = []\n",
    "for name in names:\n",
    "    fe = FeatureEvaluator(name)\n",
    "    # if os.path.exists(f'{base_path}/history/{name}/best-ours-test.-.hdf'):\n",
    "    #     test = pd.read_hdf(f'{base_path}/history/{name}/best-ours-test.-.hdf')\n",
    "    # else:\n",
    "    #     test = pd.read_hdf(f'{base_path}/history/{name}/best-ours-suboptimal-test.-.hdf')\n",
    "    test = pd.read_hdf(f'{base_path}/history/{name}/best-ours-suboptimal-test.-.hdf')\n",
    "    ps_ours.append('{:.2f}'.format(fe.get_performance(test) * 100))"
   ],
   "metadata": {
    "collapsed": false,
    "pycharm": {
     "name": "#%%\n"
    }
   }
  },
  {
   "cell_type": "code",
   "execution_count": 34,
   "outputs": [
    {
     "name": "stdout",
     "output_type": "stream",
     "text": [
      "['69.38', '83.49', '83.10', '64.91', '80.48', '91.60', '84.03', '95.56', '61.09', '58.87', '61.00', '51.00', '60.15', '60.86', '39.61']\n"
     ]
    }
   ],
   "source": [
    "print(ps_ours)"
   ],
   "metadata": {
    "collapsed": false,
    "pycharm": {
     "name": "#%%\n"
    }
   }
  },
  {
   "cell_type": "markdown",
   "source": [],
   "metadata": {
    "collapsed": false,
    "pycharm": {
     "name": "#%% md\n"
    }
   }
  },
  {
   "cell_type": "markdown",
   "source": [
    "INFO:  initialize the train and test dataset\n",
    "higgs ['69.57', '71.21', '70.41', '71.25', '71.19', '71.03', '70.01', '69.47', '70.20'] x\n",
    "INFO:  initialize the train and test dataset\n",
    "spectf ['75.96', '75.87', '76.39', '74.88', '78.35', '77.73', '74.28', '78.56', '76.29'] v\n",
    "INFO:  initialize the train and test dataset\n",
    "svmguide3 ['77.81', '81.77', '83.28', '83.12', '83.19', '84.27', '80.15', '80.00', '82.89'] x\n",
    "INFO:  initialize the train and test dataset\n",
    "german_credit ['64.88', '74.25', '75.66', '70.14', '74.34', '76.26', '65.34', '76.59', '75.92'] x\n",
    "INFO:  initialize the train and test dataset\n",
    "uci_credit_card ['80.19', '79.08', '79.10', '77.30', '78.48', '78.83', '74.37', '79.15', '79.34'] vx\n",
    "INFO:  initialize the train and test dataset\n",
    "spam_base ['92.68', '94.71', '95.10', '93.19', '94.66', '94.61', '92.10', '94.38', '94.26'] x\n",
    "INFO:  initialize the train and test dataset\n",
    "megawatt1 ['81.60', '86.02', '84.87', '85.80', '86.20', '89.10', '85.55', '88.64', '85.93'] x\n",
    "INFO:  initialize the train and test dataset\n",
    "ionosphere ['92.85', '91.76', '92.07', '92.42', '91.73', '92.33', '88.37', '93.46', '92.41'] v\n",
    "INFO:  initialize the train and test dataset\n",
    "openml_586 ['54.95', '70.15', '69.94', '71.43', '69.85', '73.06', '69.96', '51.19', '69.71'] x\n",
    "INFO:  initialize the train and test dataset\n",
    "openml_589 ['50.95', '68.85', '68.94', '71.54', '68.79', '72.40', '68.93', '61.36', '68.78'] x\n",
    "INFO:  initialize the train and test dataset\n",
    "openml_607 ['51.73', '66.52', '66.58', '68.42', '66.23', '73.41', '66.18', '59.19', '66.39'] x\n",
    "INFO:  initialize the train and test dataset\n",
    "openml_616 ['15.63', '59.95', '59.95', '61.87', '60.20', '67.67', '49.22', '58.20', '60.01'] x\n",
    "INFO:  initialize the train and test dataset\n",
    "openml_618 ['46.89', '67.20', '67.20', '54.12', '67.07', '71.98', '66.82', '65.28', '67.26'] x\n",
    "INFO:  initialize the train and test dataset\n",
    "openml_620 ['51.01', '63.35', '63.39', '66.10', '64.35', '69.68', '64.45', '47.93', '64.80'] x\n",
    "INFO:  initialize the train and test dataset\n",
    "openml_637 ['14.95', '57.05', '57.36', '57.85', '58.12', '65.26', '46.80', '56.05', '57.80'] x"
   ],
   "metadata": {
    "collapsed": false,
    "pycharm": {
     "name": "#%% md\n"
    }
   }
  },
  {
   "cell_type": "code",
   "execution_count": 2,
   "outputs": [],
   "source": [
    "import pandas as pd\n",
    "import tables as tb"
   ],
   "metadata": {
    "collapsed": false,
    "pycharm": {
     "name": "#%%\n"
    }
   }
  },
  {
   "cell_type": "code",
   "execution_count": 20,
   "outputs": [
    {
     "name": "stdout",
     "output_type": "stream",
     "text": [
      "/home/xiaomeng/jupyter_base/AutoFS/data/history/spectf.hdf (File) ''\n",
      "Last modif.: '2022-12-01T10:33:30+00:00'\n",
      "Object Tree: \n",
      "/ (RootGroup) ''\n",
      "/kbest_test (Group) ''\n",
      "/kbest_test/axis0 (Array(28,)) ''\n",
      "/kbest_test/axis1 (Array(54,)) ''\n",
      "/kbest_test/block0_items (Array(28,)) ''\n",
      "/kbest_test/block0_values (Array(54, 28)) ''\n",
      "/kbest_train (Group) ''\n",
      "/kbest_train/axis0 (Array(28,)) ''\n",
      "/kbest_train/axis1 (Array(213,)) ''\n",
      "/kbest_train/block0_items (Array(28,)) ''\n",
      "/kbest_train/block0_values (Array(213, 28)) ''\n",
      "/lasso_test (Group) ''\n",
      "/lasso_test/axis0 (Array(28,)) ''\n",
      "/lasso_test/axis1 (Array(54,)) ''\n",
      "/lasso_test/block0_items (Array(28,)) ''\n",
      "/lasso_test/block0_values (Array(54, 28)) ''\n",
      "/lasso_train (Group) ''\n",
      "/lasso_train/axis0 (Array(28,)) ''\n",
      "/lasso_train/axis1 (Array(213,)) ''\n",
      "/lasso_train/block0_items (Array(28,)) ''\n",
      "/lasso_train/block0_values (Array(213, 28)) ''\n",
      "/lassonet_test (Group) ''\n",
      "/lassonet_test/axis0 (Array(28,)) ''\n",
      "/lassonet_test/axis1 (Array(54,)) ''\n",
      "/lassonet_test/block0_items (Array(28,)) ''\n",
      "/lassonet_test/block0_values (Array(54, 28)) ''\n",
      "/lassonet_train (Group) ''\n",
      "/lassonet_train/axis0 (Array(28,)) ''\n",
      "/lassonet_train/axis1 (Array(213,)) ''\n",
      "/lassonet_train/block0_items (Array(28,)) ''\n",
      "/lassonet_train/block0_values (Array(213, 28)) ''\n",
      "/marlfs_test (Group) ''\n",
      "/marlfs_test/axis0 (Array(28,)) ''\n",
      "/marlfs_test/axis1 (Array(54,)) ''\n",
      "/marlfs_test/block0_items (Array(28,)) ''\n",
      "/marlfs_test/block0_values (Array(54, 28)) ''\n",
      "/marlfs_train (Group) ''\n",
      "/marlfs_train/axis0 (Array(28,)) ''\n",
      "/marlfs_train/axis1 (Array(213,)) ''\n",
      "/marlfs_train/block0_items (Array(28,)) ''\n",
      "/marlfs_train/block0_values (Array(213, 28)) ''\n",
      "/mrmr_test (Group) ''\n",
      "/mrmr_test/axis0 (Array(28,)) ''\n",
      "/mrmr_test/axis1 (Array(54,)) ''\n",
      "/mrmr_test/block0_items (Array(28,)) ''\n",
      "/mrmr_test/block0_values (Array(54, 28)) ''\n",
      "/mrmr_train (Group) ''\n",
      "/mrmr_train/axis0 (Array(28,)) ''\n",
      "/mrmr_train/axis1 (Array(213,)) ''\n",
      "/mrmr_train/block0_items (Array(28,)) ''\n",
      "/mrmr_train/block0_values (Array(213, 28)) ''\n",
      "/our_test (Group) ''\n",
      "/our_test/axis0 (Array(8,)) ''\n",
      "/our_test/axis1 (Array(54,)) ''\n",
      "/our_test/block0_items (Array(8,)) ''\n",
      "/our_test/block0_values (Array(54, 8)) ''\n",
      "/our_train (Group) ''\n",
      "/our_train/axis0 (Array(8,)) ''\n",
      "/our_train/axis1 (Array(213,)) ''\n",
      "/our_train/block0_items (Array(8,)) ''\n",
      "/our_train/block0_values (Array(213, 8)) ''\n",
      "/raw_test (Group) ''\n",
      "/raw_test/axis0 (Array(45,)) ''\n",
      "/raw_test/axis1 (Array(54,)) ''\n",
      "/raw_test/block0_items (Array(45,)) ''\n",
      "/raw_test/block0_values (Array(54, 45)) ''\n",
      "/raw_train (Group) ''\n",
      "/raw_train/axis0 (Array(45,)) ''\n",
      "/raw_train/axis1 (Array(213,)) ''\n",
      "/raw_train/block0_items (Array(45,)) ''\n",
      "/raw_train/block0_values (Array(213, 45)) ''\n",
      "/rfe_test (Group) ''\n",
      "/rfe_test/axis0 (Array(28,)) ''\n",
      "/rfe_test/axis1 (Array(54,)) ''\n",
      "/rfe_test/block0_items (Array(28,)) ''\n",
      "/rfe_test/block0_values (Array(54, 28)) ''\n",
      "/rfe_train (Group) ''\n",
      "/rfe_train/axis0 (Array(28,)) ''\n",
      "/rfe_train/axis1 (Array(213,)) ''\n",
      "/rfe_train/block0_items (Array(28,)) ''\n",
      "/rfe_train/block0_values (Array(213, 28)) ''\n",
      "/sarlfs_test (Group) ''\n",
      "/sarlfs_test/axis0 (Array(18,)) ''\n",
      "/sarlfs_test/axis1 (Array(54,)) ''\n",
      "/sarlfs_test/block0_items (Array(18,)) ''\n",
      "/sarlfs_test/block0_values (Array(54, 18)) ''\n",
      "/sarlfs_train (Group) ''\n",
      "/sarlfs_train/axis0 (Array(18,)) ''\n",
      "/sarlfs_train/axis1 (Array(213,)) ''\n",
      "/sarlfs_train/block0_items (Array(18,)) ''\n",
      "/sarlfs_train/block0_values (Array(213, 18)) ''\n",
      "\n",
      "/home/xiaomeng/jupyter_base/AutoFS/data/history/svmguide3.hdf (File) ''\n",
      "Last modif.: '2022-12-01T10:33:30+00:00'\n",
      "Object Tree: \n",
      "/ (RootGroup) ''\n",
      "/kbest_test (Group) ''\n",
      "/kbest_test/axis0 (Array(14,)) ''\n",
      "/kbest_test/axis1 (Array(249,)) ''\n",
      "/kbest_test/block0_items (Array(14,)) ''\n",
      "/kbest_test/block0_values (Array(249, 14)) ''\n",
      "/kbest_train (Group) ''\n",
      "/kbest_train/axis0 (Array(14,)) ''\n",
      "/kbest_train/axis1 (Array(994,)) ''\n",
      "/kbest_train/block0_items (Array(14,)) ''\n",
      "/kbest_train/block0_values (Array(994, 14)) ''\n",
      "/lasso_test (Group) ''\n",
      "/lasso_test/axis0 (Array(14,)) ''\n",
      "/lasso_test/axis1 (Array(249,)) ''\n",
      "/lasso_test/block0_items (Array(14,)) ''\n",
      "/lasso_test/block0_values (Array(249, 14)) ''\n",
      "/lasso_train (Group) ''\n",
      "/lasso_train/axis0 (Array(14,)) ''\n",
      "/lasso_train/axis1 (Array(994,)) ''\n",
      "/lasso_train/block0_items (Array(14,)) ''\n",
      "/lasso_train/block0_values (Array(994, 14)) ''\n",
      "/lassonet_test (Group) ''\n",
      "/lassonet_test/axis0 (Array(14,)) ''\n",
      "/lassonet_test/axis1 (Array(249,)) ''\n",
      "/lassonet_test/block0_items (Array(14,)) ''\n",
      "/lassonet_test/block0_values (Array(249, 14)) ''\n",
      "/lassonet_train (Group) ''\n",
      "/lassonet_train/axis0 (Array(14,)) ''\n",
      "/lassonet_train/axis1 (Array(994,)) ''\n",
      "/lassonet_train/block0_items (Array(14,)) ''\n",
      "/lassonet_train/block0_values (Array(994, 14)) ''\n",
      "/marlfs_test (Group) ''\n",
      "/marlfs_test/axis0 (Array(14,)) ''\n",
      "/marlfs_test/axis1 (Array(249,)) ''\n",
      "/marlfs_test/block0_items (Array(14,)) ''\n",
      "/marlfs_test/block0_values (Array(249, 14)) ''\n",
      "/marlfs_train (Group) ''\n",
      "/marlfs_train/axis0 (Array(14,)) ''\n",
      "/marlfs_train/axis1 (Array(994,)) ''\n",
      "/marlfs_train/block0_items (Array(14,)) ''\n",
      "/marlfs_train/block0_values (Array(994, 14)) ''\n",
      "/mrmr_test (Group) ''\n",
      "/mrmr_test/axis0 (Array(14,)) ''\n",
      "/mrmr_test/axis1 (Array(249,)) ''\n",
      "/mrmr_test/block0_items (Array(14,)) ''\n",
      "/mrmr_test/block0_values (Array(249, 14)) ''\n",
      "/mrmr_train (Group) ''\n",
      "/mrmr_train/axis0 (Array(14,)) ''\n",
      "/mrmr_train/axis1 (Array(994,)) ''\n",
      "/mrmr_train/block0_items (Array(14,)) ''\n",
      "/mrmr_train/block0_values (Array(994, 14)) ''\n",
      "/our_test (Group) ''\n",
      "/our_test/axis0 (Array(10,)) ''\n",
      "/our_test/axis1 (Array(249,)) ''\n",
      "/our_test/block0_items (Array(10,)) ''\n",
      "/our_test/block0_values (Array(249, 10)) ''\n",
      "/our_train (Group) ''\n",
      "/our_train/axis0 (Array(10,)) ''\n",
      "/our_train/axis1 (Array(994,)) ''\n",
      "/our_train/block0_items (Array(10,)) ''\n",
      "/our_train/block0_values (Array(994, 10)) ''\n",
      "/raw_test (Group) ''\n",
      "/raw_test/axis0 (Array(22,)) ''\n",
      "/raw_test/axis1 (Array(249,)) ''\n",
      "/raw_test/block0_items (Array(22,)) ''\n",
      "/raw_test/block0_values (Array(249, 22)) ''\n",
      "/raw_train (Group) ''\n",
      "/raw_train/axis0 (Array(22,)) ''\n",
      "/raw_train/axis1 (Array(994,)) ''\n",
      "/raw_train/block0_items (Array(22,)) ''\n",
      "/raw_train/block0_values (Array(994, 22)) ''\n",
      "/rfe_test (Group) ''\n",
      "/rfe_test/axis0 (Array(14,)) ''\n",
      "/rfe_test/axis1 (Array(249,)) ''\n",
      "/rfe_test/block0_items (Array(14,)) ''\n",
      "/rfe_test/block0_values (Array(249, 14)) ''\n",
      "/rfe_train (Group) ''\n",
      "/rfe_train/axis0 (Array(14,)) ''\n",
      "/rfe_train/axis1 (Array(994,)) ''\n",
      "/rfe_train/block0_items (Array(14,)) ''\n",
      "/rfe_train/block0_values (Array(994, 14)) ''\n",
      "/sarlfs_test (Group) ''\n",
      "/sarlfs_test/axis0 (Array(9,)) ''\n",
      "/sarlfs_test/axis1 (Array(249,)) ''\n",
      "/sarlfs_test/block0_items (Array(9,)) ''\n",
      "/sarlfs_test/block0_values (Array(249, 9)) ''\n",
      "/sarlfs_train (Group) ''\n",
      "/sarlfs_train/axis0 (Array(9,)) ''\n",
      "/sarlfs_train/axis1 (Array(994,)) ''\n",
      "/sarlfs_train/block0_items (Array(9,)) ''\n",
      "/sarlfs_train/block0_values (Array(994, 9)) ''\n",
      "\n",
      "/home/xiaomeng/jupyter_base/AutoFS/data/history/german_credit.hdf (File) ''\n",
      "Last modif.: '2022-12-01T10:33:30+00:00'\n",
      "Object Tree: \n",
      "/ (RootGroup) ''\n",
      "/kbest_test (Group) ''\n",
      "/kbest_test/axis0 (Array(14,)) ''\n",
      "/kbest_test/axis1 (Array(200,)) ''\n",
      "/kbest_test/block0_items (Array(14,)) ''\n",
      "/kbest_test/block0_values (Array(200, 14)) ''\n",
      "/kbest_train (Group) ''\n",
      "/kbest_train/axis0 (Array(14,)) ''\n",
      "/kbest_train/axis1 (Array(800,)) ''\n",
      "/kbest_train/block0_items (Array(14,)) ''\n",
      "/kbest_train/block0_values (Array(800, 14)) ''\n",
      "/lasso_test (Group) ''\n",
      "/lasso_test/axis0 (Array(14,)) ''\n",
      "/lasso_test/axis1 (Array(200,)) ''\n",
      "/lasso_test/block0_items (Array(14,)) ''\n",
      "/lasso_test/block0_values (Array(200, 14)) ''\n",
      "/lasso_train (Group) ''\n",
      "/lasso_train/axis0 (Array(14,)) ''\n",
      "/lasso_train/axis1 (Array(800,)) ''\n",
      "/lasso_train/block0_items (Array(14,)) ''\n",
      "/lasso_train/block0_values (Array(800, 14)) ''\n",
      "/lassonet_test (Group) ''\n",
      "/lassonet_test/axis0 (Array(14,)) ''\n",
      "/lassonet_test/axis1 (Array(200,)) ''\n",
      "/lassonet_test/block0_items (Array(14,)) ''\n",
      "/lassonet_test/block0_values (Array(200, 14)) ''\n",
      "/lassonet_train (Group) ''\n",
      "/lassonet_train/axis0 (Array(14,)) ''\n",
      "/lassonet_train/axis1 (Array(800,)) ''\n",
      "/lassonet_train/block0_items (Array(14,)) ''\n",
      "/lassonet_train/block0_values (Array(800, 14)) ''\n",
      "/marlfs_test (Group) ''\n",
      "/marlfs_test/axis0 (Array(14,)) ''\n",
      "/marlfs_test/axis1 (Array(200,)) ''\n",
      "/marlfs_test/block0_items (Array(14,)) ''\n",
      "/marlfs_test/block0_values (Array(200, 14)) ''\n",
      "/marlfs_train (Group) ''\n",
      "/marlfs_train/axis0 (Array(14,)) ''\n",
      "/marlfs_train/axis1 (Array(800,)) ''\n",
      "/marlfs_train/block0_items (Array(14,)) ''\n",
      "/marlfs_train/block0_values (Array(800, 14)) ''\n",
      "/mrmr_test (Group) ''\n",
      "/mrmr_test/axis0 (Array(14,)) ''\n",
      "/mrmr_test/axis1 (Array(200,)) ''\n",
      "/mrmr_test/block0_items (Array(14,)) ''\n",
      "/mrmr_test/block0_values (Array(200, 14)) ''\n",
      "/mrmr_train (Group) ''\n",
      "/mrmr_train/axis0 (Array(14,)) ''\n",
      "/mrmr_train/axis1 (Array(800,)) ''\n",
      "/mrmr_train/block0_items (Array(14,)) ''\n",
      "/mrmr_train/block0_values (Array(800, 14)) ''\n",
      "/our_test (Group) ''\n",
      "/our_test/axis0 (Array(10,)) ''\n",
      "/our_test/axis1 (Array(200,)) ''\n",
      "/our_test/block0_items (Array(10,)) ''\n",
      "/our_test/block0_values (Array(200, 10)) ''\n",
      "/our_train (Group) ''\n",
      "/our_train/axis0 (Array(10,)) ''\n",
      "/our_train/axis1 (Array(800,)) ''\n",
      "/our_train/block0_items (Array(10,)) ''\n",
      "/our_train/block0_values (Array(800, 10)) ''\n",
      "/raw_test (Group) ''\n",
      "/raw_test/axis0 (Array(25,)) ''\n",
      "/raw_test/axis1 (Array(200,)) ''\n",
      "/raw_test/block0_items (Array(25,)) ''\n",
      "/raw_test/block0_values (Array(200, 25)) ''\n",
      "/raw_train (Group) ''\n",
      "/raw_train/axis0 (Array(25,)) ''\n",
      "/raw_train/axis1 (Array(800,)) ''\n",
      "/raw_train/block0_items (Array(25,)) ''\n",
      "/raw_train/block0_values (Array(800, 25)) ''\n",
      "/rfe_test (Group) ''\n",
      "/rfe_test/axis0 (Array(14,)) ''\n",
      "/rfe_test/axis1 (Array(200,)) ''\n",
      "/rfe_test/block0_items (Array(14,)) ''\n",
      "/rfe_test/block0_values (Array(200, 14)) ''\n",
      "/rfe_train (Group) ''\n",
      "/rfe_train/axis0 (Array(14,)) ''\n",
      "/rfe_train/axis1 (Array(800,)) ''\n",
      "/rfe_train/block0_items (Array(14,)) ''\n",
      "/rfe_train/block0_values (Array(800, 14)) ''\n",
      "/sarlfs_test (Group) ''\n",
      "/sarlfs_test/axis0 (Array(12,)) ''\n",
      "/sarlfs_test/axis1 (Array(200,)) ''\n",
      "/sarlfs_test/block0_items (Array(12,)) ''\n",
      "/sarlfs_test/block0_values (Array(200, 12)) ''\n",
      "/sarlfs_train (Group) ''\n",
      "/sarlfs_train/axis0 (Array(12,)) ''\n",
      "/sarlfs_train/axis1 (Array(800,)) ''\n",
      "/sarlfs_train/block0_items (Array(12,)) ''\n",
      "/sarlfs_train/block0_values (Array(800, 12)) ''\n",
      "\n",
      "/home/xiaomeng/jupyter_base/AutoFS/data/history/uci_credit_card.hdf (File) ''\n",
      "Last modif.: '2022-12-01T10:33:30+00:00'\n",
      "Object Tree: \n",
      "/ (RootGroup) ''\n",
      "/kbest_test (Group) ''\n",
      "/kbest_test/axis0 (Array(17,)) ''\n",
      "/kbest_test/axis1 (Array(6000,)) ''\n",
      "/kbest_test/block0_items (Array(17,)) ''\n",
      "/kbest_test/block0_values (Array(6000, 17)) ''\n",
      "/kbest_train (Group) ''\n",
      "/kbest_train/axis0 (Array(17,)) ''\n",
      "/kbest_train/axis1 (Array(24000,)) ''\n",
      "/kbest_train/block0_items (Array(17,)) ''\n",
      "/kbest_train/block0_values (Array(24000, 17)) ''\n",
      "/lasso_test (Group) ''\n",
      "/lasso_test/axis0 (Array(11,)) ''\n",
      "/lasso_test/axis1 (Array(6000,)) ''\n",
      "/lasso_test/block0_items (Array(11,)) ''\n",
      "/lasso_test/block0_values (Array(6000, 11)) ''\n",
      "/lasso_train (Group) ''\n",
      "/lasso_train/axis0 (Array(11,)) ''\n",
      "/lasso_train/axis1 (Array(24000,)) ''\n",
      "/lasso_train/block0_items (Array(11,)) ''\n",
      "/lasso_train/block0_values (Array(24000, 11)) ''\n",
      "/lassonet_test (Group) ''\n",
      "/lassonet_test/axis0 (Array(17,)) ''\n",
      "/lassonet_test/axis1 (Array(6000,)) ''\n",
      "/lassonet_test/block0_items (Array(17,)) ''\n",
      "/lassonet_test/block0_values (Array(6000, 17)) ''\n",
      "/lassonet_train (Group) ''\n",
      "/lassonet_train/axis0 (Array(17,)) ''\n",
      "/lassonet_train/axis1 (Array(24000,)) ''\n",
      "/lassonet_train/block0_items (Array(17,)) ''\n",
      "/lassonet_train/block0_values (Array(24000, 17)) ''\n",
      "/marlfs_test (Group) ''\n",
      "/marlfs_test/axis0 (Array(17,)) ''\n",
      "/marlfs_test/axis1 (Array(6000,)) ''\n",
      "/marlfs_test/block0_items (Array(17,)) ''\n",
      "/marlfs_test/block0_values (Array(6000, 17)) ''\n",
      "/marlfs_train (Group) ''\n",
      "/marlfs_train/axis0 (Array(17,)) ''\n",
      "/marlfs_train/axis1 (Array(24000,)) ''\n",
      "/marlfs_train/block0_items (Array(17,)) ''\n",
      "/marlfs_train/block0_values (Array(24000, 17)) ''\n",
      "/mrmr_test (Group) ''\n",
      "/mrmr_test/axis0 (Array(17,)) ''\n",
      "/mrmr_test/axis1 (Array(6000,)) ''\n",
      "/mrmr_test/block0_items (Array(17,)) ''\n",
      "/mrmr_test/block0_values (Array(6000, 17)) ''\n",
      "/mrmr_train (Group) ''\n",
      "/mrmr_train/axis0 (Array(17,)) ''\n",
      "/mrmr_train/axis1 (Array(24000,)) ''\n",
      "/mrmr_train/block0_items (Array(17,)) ''\n",
      "/mrmr_train/block0_values (Array(24000, 17)) ''\n",
      "/our_test (Group) ''\n",
      "/our_test/axis0 (Array(13,)) ''\n",
      "/our_test/axis1 (Array(6000,)) ''\n",
      "/our_test/block0_items (Array(13,)) ''\n",
      "/our_test/block0_values (Array(6000, 13)) ''\n",
      "/our_train (Group) ''\n",
      "/our_train/axis0 (Array(13,)) ''\n",
      "/our_train/axis1 (Array(24000,)) ''\n",
      "/our_train/block0_items (Array(13,)) ''\n",
      "/our_train/block0_values (Array(24000, 13)) ''\n",
      "/raw_test (Group) ''\n",
      "/raw_test/axis0 (Array(25,)) ''\n",
      "/raw_test/axis1 (Array(6000,)) ''\n",
      "/raw_test/block0_items (Array(13,)) ''\n",
      "/raw_test/block0_values (Array(6000, 13)) ''\n",
      "/raw_test/block1_items (Array(12,)) ''\n",
      "/raw_test/block1_values (Array(6000, 12)) ''\n",
      "/raw_train (Group) ''\n",
      "/raw_train/axis0 (Array(25,)) ''\n",
      "/raw_train/axis1 (Array(24000,)) ''\n",
      "/raw_train/block0_items (Array(13,)) ''\n",
      "/raw_train/block0_values (Array(24000, 13)) ''\n",
      "/raw_train/block1_items (Array(12,)) ''\n",
      "/raw_train/block1_values (Array(24000, 12)) ''\n",
      "/rfe_test (Group) ''\n",
      "/rfe_test/axis0 (Array(17,)) ''\n",
      "/rfe_test/axis1 (Array(6000,)) ''\n",
      "/rfe_test/block0_items (Array(17,)) ''\n",
      "/rfe_test/block0_values (Array(6000, 17)) ''\n",
      "/rfe_train (Group) ''\n",
      "/rfe_train/axis0 (Array(17,)) ''\n",
      "/rfe_train/axis1 (Array(24000,)) ''\n",
      "/rfe_train/block0_items (Array(17,)) ''\n",
      "/rfe_train/block0_values (Array(24000, 17)) ''\n",
      "/sarlfs_test (Group) ''\n",
      "/sarlfs_test/axis0 (Array(14,)) ''\n",
      "/sarlfs_test/axis1 (Array(6000,)) ''\n",
      "/sarlfs_test/block0_items (Array(14,)) ''\n",
      "/sarlfs_test/block0_values (Array(6000, 14)) ''\n",
      "/sarlfs_train (Group) ''\n",
      "/sarlfs_train/axis0 (Array(14,)) ''\n",
      "/sarlfs_train/axis1 (Array(24000,)) ''\n",
      "/sarlfs_train/block0_items (Array(14,)) ''\n",
      "/sarlfs_train/block0_values (Array(24000, 14)) ''\n",
      "\n",
      "/home/xiaomeng/jupyter_base/AutoFS/data/history/spam_base.hdf (File) ''\n",
      "Last modif.: '2022-12-01T10:33:30+00:00'\n",
      "Object Tree: \n",
      "/ (RootGroup) ''\n",
      "/kbest_test (Group) ''\n",
      "/kbest_test/axis0 (Array(33,)) ''\n",
      "/kbest_test/axis1 (Array(921,)) ''\n",
      "/kbest_test/block0_items (Array(33,)) ''\n",
      "/kbest_test/block0_values (Array(921, 33)) ''\n",
      "/kbest_train (Group) ''\n",
      "/kbest_train/axis0 (Array(33,)) ''\n",
      "/kbest_train/axis1 (Array(3680,)) ''\n",
      "/kbest_train/block0_items (Array(33,)) ''\n",
      "/kbest_train/block0_values (Array(3680, 33)) ''\n",
      "/lasso_test (Group) ''\n",
      "/lasso_test/axis0 (Array(33,)) ''\n",
      "/lasso_test/axis1 (Array(921,)) ''\n",
      "/lasso_test/block0_items (Array(33,)) ''\n",
      "/lasso_test/block0_values (Array(921, 33)) ''\n",
      "/lasso_train (Group) ''\n",
      "/lasso_train/axis0 (Array(33,)) ''\n",
      "/lasso_train/axis1 (Array(3680,)) ''\n",
      "/lasso_train/block0_items (Array(33,)) ''\n",
      "/lasso_train/block0_values (Array(3680, 33)) ''\n",
      "/lassonet_test (Group) ''\n",
      "/lassonet_test/axis0 (Array(33,)) ''\n",
      "/lassonet_test/axis1 (Array(921,)) ''\n",
      "/lassonet_test/block0_items (Array(33,)) ''\n",
      "/lassonet_test/block0_values (Array(921, 33)) ''\n",
      "/lassonet_train (Group) ''\n",
      "/lassonet_train/axis0 (Array(33,)) ''\n",
      "/lassonet_train/axis1 (Array(3680,)) ''\n",
      "/lassonet_train/block0_items (Array(33,)) ''\n",
      "/lassonet_train/block0_values (Array(3680, 33)) ''\n",
      "/marlfs_test (Group) ''\n",
      "/marlfs_test/axis0 (Array(33,)) ''\n",
      "/marlfs_test/axis1 (Array(921,)) ''\n",
      "/marlfs_test/block0_items (Array(33,)) ''\n",
      "/marlfs_test/block0_values (Array(921, 33)) ''\n",
      "/marlfs_train (Group) ''\n",
      "/marlfs_train/axis0 (Array(33,)) ''\n",
      "/marlfs_train/axis1 (Array(3680,)) ''\n",
      "/marlfs_train/block0_items (Array(33,)) ''\n",
      "/marlfs_train/block0_values (Array(3680, 33)) ''\n",
      "/mrmr_test (Group) ''\n",
      "/mrmr_test/axis0 (Array(33,)) ''\n",
      "/mrmr_test/axis1 (Array(921,)) ''\n",
      "/mrmr_test/block0_items (Array(33,)) ''\n",
      "/mrmr_test/block0_values (Array(921, 33)) ''\n",
      "/mrmr_train (Group) ''\n",
      "/mrmr_train/axis0 (Array(33,)) ''\n",
      "/mrmr_train/axis1 (Array(3680,)) ''\n",
      "/mrmr_train/block0_items (Array(33,)) ''\n",
      "/mrmr_train/block0_values (Array(3680, 33)) ''\n",
      "/our_test (Group) ''\n",
      "/our_test/axis0 (Array(29,)) ''\n",
      "/our_test/axis1 (Array(921,)) ''\n",
      "/our_test/block0_items (Array(29,)) ''\n",
      "/our_test/block0_values (Array(921, 29)) ''\n",
      "/our_train (Group) ''\n",
      "/our_train/axis0 (Array(29,)) ''\n",
      "/our_train/axis1 (Array(3680,)) ''\n",
      "/our_train/block0_items (Array(29,)) ''\n",
      "/our_train/block0_values (Array(3680, 29)) ''\n",
      "/raw_test (Group) ''\n",
      "/raw_test/axis0 (Array(58,)) ''\n",
      "/raw_test/axis1 (Array(921,)) ''\n",
      "/raw_test/block0_items (Array(55,)) ''\n",
      "/raw_test/block0_values (Array(921, 55)) ''\n",
      "/raw_test/block1_items (Array(3,)) ''\n",
      "/raw_test/block1_values (Array(921, 3)) ''\n",
      "/raw_train (Group) ''\n",
      "/raw_train/axis0 (Array(58,)) ''\n",
      "/raw_train/axis1 (Array(3680,)) ''\n",
      "/raw_train/block0_items (Array(55,)) ''\n",
      "/raw_train/block0_values (Array(3680, 55)) ''\n",
      "/raw_train/block1_items (Array(3,)) ''\n",
      "/raw_train/block1_values (Array(3680, 3)) ''\n",
      "/rfe_test (Group) ''\n",
      "/rfe_test/axis0 (Array(33,)) ''\n",
      "/rfe_test/axis1 (Array(921,)) ''\n",
      "/rfe_test/block0_items (Array(33,)) ''\n",
      "/rfe_test/block0_values (Array(921, 33)) ''\n",
      "/rfe_train (Group) ''\n",
      "/rfe_train/axis0 (Array(33,)) ''\n",
      "/rfe_train/axis1 (Array(3680,)) ''\n",
      "/rfe_train/block0_items (Array(33,)) ''\n",
      "/rfe_train/block0_values (Array(3680, 33)) ''\n",
      "/sarlfs_test (Group) ''\n",
      "/sarlfs_test/axis0 (Array(36,)) ''\n",
      "/sarlfs_test/axis1 (Array(921,)) ''\n",
      "/sarlfs_test/block0_items (Array(36,)) ''\n",
      "/sarlfs_test/block0_values (Array(921, 36)) ''\n",
      "/sarlfs_train (Group) ''\n",
      "/sarlfs_train/axis0 (Array(36,)) ''\n",
      "/sarlfs_train/axis1 (Array(3680,)) ''\n",
      "/sarlfs_train/block0_items (Array(36,)) ''\n",
      "/sarlfs_train/block0_values (Array(3680, 36)) ''\n",
      "\n",
      "/home/xiaomeng/jupyter_base/AutoFS/data/history/megawatt1.hdf (File) ''\n",
      "Last modif.: '2022-12-01T10:33:30+00:00'\n",
      "Object Tree: \n",
      "/ (RootGroup) ''\n",
      "/kbest_test (Group) ''\n",
      "/kbest_test/axis0 (Array(21,)) ''\n",
      "/kbest_test/axis1 (Array(51,)) ''\n",
      "/kbest_test/block0_items (Array(21,)) ''\n",
      "/kbest_test/block0_values (Array(51, 21)) ''\n",
      "/kbest_train (Group) ''\n",
      "/kbest_train/axis0 (Array(21,)) ''\n",
      "/kbest_train/axis1 (Array(202,)) ''\n",
      "/kbest_train/block0_items (Array(21,)) ''\n",
      "/kbest_train/block0_values (Array(202, 21)) ''\n",
      "/lasso_test (Group) ''\n",
      "/lasso_test/axis0 (Array(21,)) ''\n",
      "/lasso_test/axis1 (Array(51,)) ''\n",
      "/lasso_test/block0_items (Array(21,)) ''\n",
      "/lasso_test/block0_values (Array(51, 21)) ''\n",
      "/lasso_train (Group) ''\n",
      "/lasso_train/axis0 (Array(21,)) ''\n",
      "/lasso_train/axis1 (Array(202,)) ''\n",
      "/lasso_train/block0_items (Array(21,)) ''\n",
      "/lasso_train/block0_values (Array(202, 21)) ''\n",
      "/lassonet_test (Group) ''\n",
      "/lassonet_test/axis0 (Array(21,)) ''\n",
      "/lassonet_test/axis1 (Array(51,)) ''\n",
      "/lassonet_test/block0_items (Array(21,)) ''\n",
      "/lassonet_test/block0_values (Array(51, 21)) ''\n",
      "/lassonet_train (Group) ''\n",
      "/lassonet_train/axis0 (Array(21,)) ''\n",
      "/lassonet_train/axis1 (Array(202,)) ''\n",
      "/lassonet_train/block0_items (Array(21,)) ''\n",
      "/lassonet_train/block0_values (Array(202, 21)) ''\n",
      "/marlfs_test (Group) ''\n",
      "/marlfs_test/axis0 (Array(21,)) ''\n",
      "/marlfs_test/axis1 (Array(51,)) ''\n",
      "/marlfs_test/block0_items (Array(21,)) ''\n",
      "/marlfs_test/block0_values (Array(51, 21)) ''\n",
      "/marlfs_train (Group) ''\n",
      "/marlfs_train/axis0 (Array(21,)) ''\n",
      "/marlfs_train/axis1 (Array(202,)) ''\n",
      "/marlfs_train/block0_items (Array(21,)) ''\n",
      "/marlfs_train/block0_values (Array(202, 21)) ''\n",
      "/mrmr_test (Group) ''\n",
      "/mrmr_test/axis0 (Array(21,)) ''\n",
      "/mrmr_test/axis1 (Array(51,)) ''\n",
      "/mrmr_test/block0_items (Array(21,)) ''\n",
      "/mrmr_test/block0_values (Array(51, 21)) ''\n",
      "/mrmr_train (Group) ''\n",
      "/mrmr_train/axis0 (Array(21,)) ''\n",
      "/mrmr_train/axis1 (Array(202,)) ''\n",
      "/mrmr_train/block0_items (Array(21,)) ''\n",
      "/mrmr_train/block0_values (Array(202, 21)) ''\n",
      "/our_test (Group) ''\n",
      "/our_test/axis0 (Array(7,)) ''\n",
      "/our_test/axis1 (Array(51,)) ''\n",
      "/our_test/block0_items (Array(7,)) ''\n",
      "/our_test/block0_values (Array(51, 7)) ''\n",
      "/our_train (Group) ''\n",
      "/our_train/axis0 (Array(7,)) ''\n",
      "/our_train/axis1 (Array(202,)) ''\n",
      "/our_train/block0_items (Array(7,)) ''\n",
      "/our_train/block0_values (Array(202, 7)) ''\n",
      "/raw_test (Group) ''\n",
      "/raw_test/axis0 (Array(38,)) ''\n",
      "/raw_test/axis1 (Array(51,)) ''\n",
      "/raw_test/block0_items (Array(38,)) ''\n",
      "/raw_test/block0_values (Array(51, 38)) ''\n",
      "/raw_train (Group) ''\n",
      "/raw_train/axis0 (Array(38,)) ''\n",
      "/raw_train/axis1 (Array(202,)) ''\n",
      "/raw_train/block0_items (Array(38,)) ''\n",
      "/raw_train/block0_values (Array(202, 38)) ''\n",
      "/rfe_test (Group) ''\n",
      "/rfe_test/axis0 (Array(21,)) ''\n",
      "/rfe_test/axis1 (Array(51,)) ''\n",
      "/rfe_test/block0_items (Array(21,)) ''\n",
      "/rfe_test/block0_values (Array(51, 21)) ''\n",
      "/rfe_train (Group) ''\n",
      "/rfe_train/axis0 (Array(21,)) ''\n",
      "/rfe_train/axis1 (Array(202,)) ''\n",
      "/rfe_train/block0_items (Array(21,)) ''\n",
      "/rfe_train/block0_values (Array(202, 21)) ''\n",
      "/sarlfs_test (Group) ''\n",
      "/sarlfs_test/axis0 (Array(18,)) ''\n",
      "/sarlfs_test/axis1 (Array(51,)) ''\n",
      "/sarlfs_test/block0_items (Array(18,)) ''\n",
      "/sarlfs_test/block0_values (Array(51, 18)) ''\n",
      "/sarlfs_train (Group) ''\n",
      "/sarlfs_train/axis0 (Array(18,)) ''\n",
      "/sarlfs_train/axis1 (Array(202,)) ''\n",
      "/sarlfs_train/block0_items (Array(18,)) ''\n",
      "/sarlfs_train/block0_values (Array(202, 18)) ''\n",
      "\n",
      "/home/xiaomeng/jupyter_base/AutoFS/data/history/ionosphere.hdf (File) ''\n",
      "Last modif.: '2022-12-01T10:33:30+00:00'\n",
      "Object Tree: \n",
      "/ (RootGroup) ''\n",
      "/kbest_test (Group) ''\n",
      "/kbest_test/axis0 (Array(15,)) ''\n",
      "/kbest_test/axis1 (Array(71,)) ''\n",
      "/kbest_test/block0_items (Array(15,)) ''\n",
      "/kbest_test/block0_values (Array(71, 15)) ''\n",
      "/kbest_train (Group) ''\n",
      "/kbest_train/axis0 (Array(15,)) ''\n",
      "/kbest_train/axis1 (Array(280,)) ''\n",
      "/kbest_train/block0_items (Array(15,)) ''\n",
      "/kbest_train/block0_values (Array(280, 15)) ''\n",
      "/lasso_test (Group) ''\n",
      "/lasso_test/axis0 (Array(15,)) ''\n",
      "/lasso_test/axis1 (Array(71,)) ''\n",
      "/lasso_test/block0_items (Array(15,)) ''\n",
      "/lasso_test/block0_values (Array(71, 15)) ''\n",
      "/lasso_train (Group) ''\n",
      "/lasso_train/axis0 (Array(15,)) ''\n",
      "/lasso_train/axis1 (Array(280,)) ''\n",
      "/lasso_train/block0_items (Array(15,)) ''\n",
      "/lasso_train/block0_values (Array(280, 15)) ''\n",
      "/lassonet_test (Group) ''\n",
      "/lassonet_test/axis0 (Array(15,)) ''\n",
      "/lassonet_test/axis1 (Array(71,)) ''\n",
      "/lassonet_test/block0_items (Array(15,)) ''\n",
      "/lassonet_test/block0_values (Array(71, 15)) ''\n",
      "/lassonet_train (Group) ''\n",
      "/lassonet_train/axis0 (Array(15,)) ''\n",
      "/lassonet_train/axis1 (Array(280,)) ''\n",
      "/lassonet_train/block0_items (Array(15,)) ''\n",
      "/lassonet_train/block0_values (Array(280, 15)) ''\n",
      "/marlfs_test (Group) ''\n",
      "/marlfs_test/axis0 (Array(15,)) ''\n",
      "/marlfs_test/axis1 (Array(71,)) ''\n",
      "/marlfs_test/block0_items (Array(15,)) ''\n",
      "/marlfs_test/block0_values (Array(71, 15)) ''\n",
      "/marlfs_train (Group) ''\n",
      "/marlfs_train/axis0 (Array(15,)) ''\n",
      "/marlfs_train/axis1 (Array(280,)) ''\n",
      "/marlfs_train/block0_items (Array(15,)) ''\n",
      "/marlfs_train/block0_values (Array(280, 15)) ''\n",
      "/mrmr_test (Group) ''\n",
      "/mrmr_test/axis0 (Array(15,)) ''\n",
      "/mrmr_test/axis1 (Array(71,)) ''\n",
      "/mrmr_test/block0_items (Array(15,)) ''\n",
      "/mrmr_test/block0_values (Array(71, 15)) ''\n",
      "/mrmr_train (Group) ''\n",
      "/mrmr_train/axis0 (Array(15,)) ''\n",
      "/mrmr_train/axis1 (Array(280,)) ''\n",
      "/mrmr_train/block0_items (Array(15,)) ''\n",
      "/mrmr_train/block0_values (Array(280, 15)) ''\n",
      "/our_test (Group) ''\n",
      "/our_test/axis0 (Array(15,)) ''\n",
      "/our_test/axis1 (Array(71,)) ''\n",
      "/our_test/block0_items (Array(15,)) ''\n",
      "/our_test/block0_values (Array(71, 15)) ''\n",
      "/our_train (Group) ''\n",
      "/our_train/axis0 (Array(15,)) ''\n",
      "/our_train/axis1 (Array(280,)) ''\n",
      "/our_train/block0_items (Array(15,)) ''\n",
      "/our_train/block0_values (Array(280, 15)) ''\n",
      "/raw_test (Group) ''\n",
      "/raw_test/axis0 (Array(35,)) ''\n",
      "/raw_test/axis1 (Array(71,)) ''\n",
      "/raw_test/block0_items (Array(32,)) ''\n",
      "/raw_test/block0_values (Array(71, 32)) ''\n",
      "/raw_test/block1_items (Array(3,)) ''\n",
      "/raw_test/block1_values (Array(71, 3)) ''\n",
      "/raw_train (Group) ''\n",
      "/raw_train/axis0 (Array(35,)) ''\n",
      "/raw_train/axis1 (Array(280,)) ''\n",
      "/raw_train/block0_items (Array(32,)) ''\n",
      "/raw_train/block0_values (Array(280, 32)) ''\n",
      "/raw_train/block1_items (Array(3,)) ''\n",
      "/raw_train/block1_values (Array(280, 3)) ''\n",
      "/rfe_test (Group) ''\n",
      "/rfe_test/axis0 (Array(15,)) ''\n",
      "/rfe_test/axis1 (Array(71,)) ''\n",
      "/rfe_test/block0_items (Array(15,)) ''\n",
      "/rfe_test/block0_values (Array(71, 15)) ''\n",
      "/rfe_train (Group) ''\n",
      "/rfe_train/axis0 (Array(15,)) ''\n",
      "/rfe_train/axis1 (Array(280,)) ''\n",
      "/rfe_train/block0_items (Array(15,)) ''\n",
      "/rfe_train/block0_values (Array(280, 15)) ''\n",
      "/sarlfs_test (Group) ''\n",
      "/sarlfs_test/axis0 (Array(20,)) ''\n",
      "/sarlfs_test/axis1 (Array(71,)) ''\n",
      "/sarlfs_test/block0_items (Array(20,)) ''\n",
      "/sarlfs_test/block0_values (Array(71, 20)) ''\n",
      "/sarlfs_train (Group) ''\n",
      "/sarlfs_train/axis0 (Array(20,)) ''\n",
      "/sarlfs_train/axis1 (Array(280,)) ''\n",
      "/sarlfs_train/block0_items (Array(20,)) ''\n",
      "/sarlfs_train/block0_values (Array(280, 20)) ''\n",
      "\n",
      "/home/xiaomeng/jupyter_base/AutoFS/data/history/openml_586.hdf (File) ''\n",
      "Last modif.: '2022-12-01T10:33:30+00:00'\n",
      "Object Tree: \n",
      "/ (RootGroup) ''\n",
      "/kbest_test (Group) ''\n",
      "/kbest_test/axis0 (Array(12,)) ''\n",
      "/kbest_test/axis1 (Array(200,)) ''\n",
      "/kbest_test/block0_items (Array(12,)) ''\n",
      "/kbest_test/block0_values (Array(200, 12)) ''\n",
      "/kbest_train (Group) ''\n",
      "/kbest_train/axis0 (Array(12,)) ''\n",
      "/kbest_train/axis1 (Array(800,)) ''\n",
      "/kbest_train/block0_items (Array(12,)) ''\n",
      "/kbest_train/block0_values (Array(800, 12)) ''\n",
      "/lasso_test (Group) ''\n",
      "/lasso_test/axis0 (Array(8,)) ''\n",
      "/lasso_test/axis1 (Array(200,)) ''\n",
      "/lasso_test/block0_items (Array(8,)) ''\n",
      "/lasso_test/block0_values (Array(200, 8)) ''\n",
      "/lasso_train (Group) ''\n",
      "/lasso_train/axis0 (Array(8,)) ''\n",
      "/lasso_train/axis1 (Array(800,)) ''\n",
      "/lasso_train/block0_items (Array(8,)) ''\n",
      "/lasso_train/block0_values (Array(800, 8)) ''\n",
      "/lassonet_test (Group) ''\n",
      "/lassonet_test/axis0 (Array(12,)) ''\n",
      "/lassonet_test/axis1 (Array(200,)) ''\n",
      "/lassonet_test/block0_items (Array(12,)) ''\n",
      "/lassonet_test/block0_values (Array(200, 12)) ''\n",
      "/lassonet_train (Group) ''\n",
      "/lassonet_train/axis0 (Array(12,)) ''\n",
      "/lassonet_train/axis1 (Array(800,)) ''\n",
      "/lassonet_train/block0_items (Array(12,)) ''\n",
      "/lassonet_train/block0_values (Array(800, 12)) ''\n",
      "/marlfs_test (Group) ''\n",
      "/marlfs_test/axis0 (Array(12,)) ''\n",
      "/marlfs_test/axis1 (Array(200,)) ''\n",
      "/marlfs_test/block0_items (Array(12,)) ''\n",
      "/marlfs_test/block0_values (Array(200, 12)) ''\n",
      "/marlfs_train (Group) ''\n",
      "/marlfs_train/axis0 (Array(12,)) ''\n",
      "/marlfs_train/axis1 (Array(800,)) ''\n",
      "/marlfs_train/block0_items (Array(12,)) ''\n",
      "/marlfs_train/block0_values (Array(800, 12)) ''\n",
      "/mrmr_test (Group) ''\n",
      "/mrmr_test/axis0 (Array(12,)) ''\n",
      "/mrmr_test/axis1 (Array(200,)) ''\n",
      "/mrmr_test/block0_items (Array(12,)) ''\n",
      "/mrmr_test/block0_values (Array(200, 12)) ''\n",
      "/mrmr_train (Group) ''\n",
      "/mrmr_train/axis0 (Array(12,)) ''\n",
      "/mrmr_train/axis1 (Array(800,)) ''\n",
      "/mrmr_train/block0_items (Array(12,)) ''\n",
      "/mrmr_train/block0_values (Array(800, 12)) ''\n",
      "/our_test (Group) ''\n",
      "/our_test/axis0 (Array(4,)) ''\n",
      "/our_test/axis1 (Array(200,)) ''\n",
      "/our_test/block0_items (Array(4,)) ''\n",
      "/our_test/block0_values (Array(200, 4)) ''\n",
      "/our_train (Group) ''\n",
      "/our_train/axis0 (Array(4,)) ''\n",
      "/our_train/axis1 (Array(800,)) ''\n",
      "/our_train/block0_items (Array(4,)) ''\n",
      "/our_train/block0_values (Array(800, 4)) ''\n",
      "/raw_test (Group) ''\n",
      "/raw_test/axis0 (Array(26,)) ''\n",
      "/raw_test/axis1 (Array(200,)) ''\n",
      "/raw_test/block0_items (Array(26,)) ''\n",
      "/raw_test/block0_values (Array(200, 26)) ''\n",
      "/raw_train (Group) ''\n",
      "/raw_train/axis0 (Array(26,)) ''\n",
      "/raw_train/axis1 (Array(800,)) ''\n",
      "/raw_train/block0_items (Array(26,)) ''\n",
      "/raw_train/block0_values (Array(800, 26)) ''\n",
      "/rfe_test (Group) ''\n",
      "/rfe_test/axis0 (Array(12,)) ''\n",
      "/rfe_test/axis1 (Array(200,)) ''\n",
      "/rfe_test/block0_items (Array(12,)) ''\n",
      "/rfe_test/block0_values (Array(200, 12)) ''\n",
      "/rfe_train (Group) ''\n",
      "/rfe_train/axis0 (Array(12,)) ''\n",
      "/rfe_train/axis1 (Array(800,)) ''\n",
      "/rfe_train/block0_items (Array(12,)) ''\n",
      "/rfe_train/block0_values (Array(800, 12)) ''\n",
      "/sarlfs_test (Group) ''\n",
      "/sarlfs_test/axis0 (Array(15,)) ''\n",
      "/sarlfs_test/axis1 (Array(200,)) ''\n",
      "/sarlfs_test/block0_items (Array(15,)) ''\n",
      "/sarlfs_test/block0_values (Array(200, 15)) ''\n",
      "/sarlfs_train (Group) ''\n",
      "/sarlfs_train/axis0 (Array(15,)) ''\n",
      "/sarlfs_train/axis1 (Array(800,)) ''\n",
      "/sarlfs_train/block0_items (Array(15,)) ''\n",
      "/sarlfs_train/block0_values (Array(800, 15)) ''\n",
      "\n",
      "/home/xiaomeng/jupyter_base/AutoFS/data/history/openml_589.hdf (File) ''\n",
      "Last modif.: '2022-12-01T10:33:30+00:00'\n",
      "Object Tree: \n",
      "/ (RootGroup) ''\n",
      "/kbest_test (Group) ''\n",
      "/kbest_test/axis0 (Array(16,)) ''\n",
      "/kbest_test/axis1 (Array(200,)) ''\n",
      "/kbest_test/block0_items (Array(16,)) ''\n",
      "/kbest_test/block0_values (Array(200, 16)) ''\n",
      "/kbest_train (Group) ''\n",
      "/kbest_train/axis0 (Array(16,)) ''\n",
      "/kbest_train/axis1 (Array(800,)) ''\n",
      "/kbest_train/block0_items (Array(16,)) ''\n",
      "/kbest_train/block0_values (Array(800, 16)) ''\n",
      "/lasso_test (Group) ''\n",
      "/lasso_test/axis0 (Array(7,)) ''\n",
      "/lasso_test/axis1 (Array(200,)) ''\n",
      "/lasso_test/block0_items (Array(7,)) ''\n",
      "/lasso_test/block0_values (Array(200, 7)) ''\n",
      "/lasso_train (Group) ''\n",
      "/lasso_train/axis0 (Array(7,)) ''\n",
      "/lasso_train/axis1 (Array(800,)) ''\n",
      "/lasso_train/block0_items (Array(7,)) ''\n",
      "/lasso_train/block0_values (Array(800, 7)) ''\n",
      "/lassonet_test (Group) ''\n",
      "/lassonet_test/axis0 (Array(16,)) ''\n",
      "/lassonet_test/axis1 (Array(200,)) ''\n",
      "/lassonet_test/block0_items (Array(16,)) ''\n",
      "/lassonet_test/block0_values (Array(200, 16)) ''\n",
      "/lassonet_train (Group) ''\n",
      "/lassonet_train/axis0 (Array(16,)) ''\n",
      "/lassonet_train/axis1 (Array(800,)) ''\n",
      "/lassonet_train/block0_items (Array(16,)) ''\n",
      "/lassonet_train/block0_values (Array(800, 16)) ''\n",
      "/marlfs_test (Group) ''\n",
      "/marlfs_test/axis0 (Array(16,)) ''\n",
      "/marlfs_test/axis1 (Array(200,)) ''\n",
      "/marlfs_test/block0_items (Array(16,)) ''\n",
      "/marlfs_test/block0_values (Array(200, 16)) ''\n",
      "/marlfs_train (Group) ''\n",
      "/marlfs_train/axis0 (Array(16,)) ''\n",
      "/marlfs_train/axis1 (Array(800,)) ''\n",
      "/marlfs_train/block0_items (Array(16,)) ''\n",
      "/marlfs_train/block0_values (Array(800, 16)) ''\n",
      "/mrmr_test (Group) ''\n",
      "/mrmr_test/axis0 (Array(16,)) ''\n",
      "/mrmr_test/axis1 (Array(200,)) ''\n",
      "/mrmr_test/block0_items (Array(16,)) ''\n",
      "/mrmr_test/block0_values (Array(200, 16)) ''\n",
      "/mrmr_train (Group) ''\n",
      "/mrmr_train/axis0 (Array(16,)) ''\n",
      "/mrmr_train/axis1 (Array(800,)) ''\n",
      "/mrmr_train/block0_items (Array(16,)) ''\n",
      "/mrmr_train/block0_values (Array(800, 16)) ''\n",
      "/our_test (Group) ''\n",
      "/our_test/axis0 (Array(5,)) ''\n",
      "/our_test/axis1 (Array(200,)) ''\n",
      "/our_test/block0_items (Array(5,)) ''\n",
      "/our_test/block0_values (Array(200, 5)) ''\n",
      "/our_train (Group) ''\n",
      "/our_train/axis0 (Array(5,)) ''\n",
      "/our_train/axis1 (Array(800,)) ''\n",
      "/our_train/block0_items (Array(5,)) ''\n",
      "/our_train/block0_values (Array(800, 5)) ''\n",
      "/raw_test (Group) ''\n",
      "/raw_test/axis0 (Array(26,)) ''\n",
      "/raw_test/axis1 (Array(200,)) ''\n",
      "/raw_test/block0_items (Array(26,)) ''\n",
      "/raw_test/block0_values (Array(200, 26)) ''\n",
      "/raw_train (Group) ''\n",
      "/raw_train/axis0 (Array(26,)) ''\n",
      "/raw_train/axis1 (Array(800,)) ''\n",
      "/raw_train/block0_items (Array(26,)) ''\n",
      "/raw_train/block0_values (Array(800, 26)) ''\n",
      "/rfe_test (Group) ''\n",
      "/rfe_test/axis0 (Array(16,)) ''\n",
      "/rfe_test/axis1 (Array(200,)) ''\n",
      "/rfe_test/block0_items (Array(16,)) ''\n",
      "/rfe_test/block0_values (Array(200, 16)) ''\n",
      "/rfe_train (Group) ''\n",
      "/rfe_train/axis0 (Array(16,)) ''\n",
      "/rfe_train/axis1 (Array(800,)) ''\n",
      "/rfe_train/block0_items (Array(16,)) ''\n",
      "/rfe_train/block0_values (Array(800, 16)) ''\n",
      "/sarlfs_test (Group) ''\n",
      "/sarlfs_test/axis0 (Array(11,)) ''\n",
      "/sarlfs_test/axis1 (Array(200,)) ''\n",
      "/sarlfs_test/block0_items (Array(11,)) ''\n",
      "/sarlfs_test/block0_values (Array(200, 11)) ''\n",
      "/sarlfs_train (Group) ''\n",
      "/sarlfs_train/axis0 (Array(11,)) ''\n",
      "/sarlfs_train/axis1 (Array(800,)) ''\n",
      "/sarlfs_train/block0_items (Array(11,)) ''\n",
      "/sarlfs_train/block0_values (Array(800, 11)) ''\n",
      "\n",
      "/home/xiaomeng/jupyter_base/AutoFS/data/history/openml_607.hdf (File) ''\n",
      "Last modif.: '2022-12-01T10:33:30+00:00'\n",
      "Object Tree: \n",
      "/ (RootGroup) ''\n",
      "/kbest_test (Group) ''\n",
      "/kbest_test/axis0 (Array(30,)) ''\n",
      "/kbest_test/axis1 (Array(200,)) ''\n",
      "/kbest_test/block0_items (Array(30,)) ''\n",
      "/kbest_test/block0_values (Array(200, 30)) ''\n",
      "/kbest_train (Group) ''\n",
      "/kbest_train/axis0 (Array(30,)) ''\n",
      "/kbest_train/axis1 (Array(800,)) ''\n",
      "/kbest_train/block0_items (Array(30,)) ''\n",
      "/kbest_train/block0_values (Array(800, 30)) ''\n",
      "/lasso_test (Group) ''\n",
      "/lasso_test/axis0 (Array(16,)) ''\n",
      "/lasso_test/axis1 (Array(200,)) ''\n",
      "/lasso_test/block0_items (Array(16,)) ''\n",
      "/lasso_test/block0_values (Array(200, 16)) ''\n",
      "/lasso_train (Group) ''\n",
      "/lasso_train/axis0 (Array(16,)) ''\n",
      "/lasso_train/axis1 (Array(800,)) ''\n",
      "/lasso_train/block0_items (Array(16,)) ''\n",
      "/lasso_train/block0_values (Array(800, 16)) ''\n",
      "/lassonet_test (Group) ''\n",
      "/lassonet_test/axis0 (Array(30,)) ''\n",
      "/lassonet_test/axis1 (Array(200,)) ''\n",
      "/lassonet_test/block0_items (Array(30,)) ''\n",
      "/lassonet_test/block0_values (Array(200, 30)) ''\n",
      "/lassonet_train (Group) ''\n",
      "/lassonet_train/axis0 (Array(30,)) ''\n",
      "/lassonet_train/axis1 (Array(800,)) ''\n",
      "/lassonet_train/block0_items (Array(30,)) ''\n",
      "/lassonet_train/block0_values (Array(800, 30)) ''\n",
      "/marlfs_test (Group) ''\n",
      "/marlfs_test/axis0 (Array(30,)) ''\n",
      "/marlfs_test/axis1 (Array(200,)) ''\n",
      "/marlfs_test/block0_items (Array(30,)) ''\n",
      "/marlfs_test/block0_values (Array(200, 30)) ''\n",
      "/marlfs_train (Group) ''\n",
      "/marlfs_train/axis0 (Array(30,)) ''\n",
      "/marlfs_train/axis1 (Array(800,)) ''\n",
      "/marlfs_train/block0_items (Array(30,)) ''\n",
      "/marlfs_train/block0_values (Array(800, 30)) ''\n",
      "/mrmr_test (Group) ''\n",
      "/mrmr_test/axis0 (Array(30,)) ''\n",
      "/mrmr_test/axis1 (Array(200,)) ''\n",
      "/mrmr_test/block0_items (Array(30,)) ''\n",
      "/mrmr_test/block0_values (Array(200, 30)) ''\n",
      "/mrmr_train (Group) ''\n",
      "/mrmr_train/axis0 (Array(30,)) ''\n",
      "/mrmr_train/axis1 (Array(800,)) ''\n",
      "/mrmr_train/block0_items (Array(30,)) ''\n",
      "/mrmr_train/block0_values (Array(800, 30)) ''\n",
      "/our_test (Group) ''\n",
      "/our_test/axis0 (Array(5,)) ''\n",
      "/our_test/axis1 (Array(200,)) ''\n",
      "/our_test/block0_items (Array(5,)) ''\n",
      "/our_test/block0_values (Array(200, 5)) ''\n",
      "/our_train (Group) ''\n",
      "/our_train/axis0 (Array(5,)) ''\n",
      "/our_train/axis1 (Array(800,)) ''\n",
      "/our_train/block0_items (Array(5,)) ''\n",
      "/our_train/block0_values (Array(800, 5)) ''\n",
      "/raw_test (Group) ''\n",
      "/raw_test/axis0 (Array(51,)) ''\n",
      "/raw_test/axis1 (Array(200,)) ''\n",
      "/raw_test/block0_items (Array(51,)) ''\n",
      "/raw_test/block0_values (Array(200, 51)) ''\n",
      "/raw_train (Group) ''\n",
      "/raw_train/axis0 (Array(51,)) ''\n",
      "/raw_train/axis1 (Array(800,)) ''\n",
      "/raw_train/block0_items (Array(51,)) ''\n",
      "/raw_train/block0_values (Array(800, 51)) ''\n",
      "/rfe_test (Group) ''\n",
      "/rfe_test/axis0 (Array(30,)) ''\n",
      "/rfe_test/axis1 (Array(200,)) ''\n",
      "/rfe_test/block0_items (Array(30,)) ''\n",
      "/rfe_test/block0_values (Array(200, 30)) ''\n",
      "/rfe_train (Group) ''\n",
      "/rfe_train/axis0 (Array(30,)) ''\n",
      "/rfe_train/axis1 (Array(800,)) ''\n",
      "/rfe_train/block0_items (Array(30,)) ''\n",
      "/rfe_train/block0_values (Array(800, 30)) ''\n",
      "/sarlfs_test (Group) ''\n",
      "/sarlfs_test/axis0 (Array(22,)) ''\n",
      "/sarlfs_test/axis1 (Array(200,)) ''\n",
      "/sarlfs_test/block0_items (Array(22,)) ''\n",
      "/sarlfs_test/block0_values (Array(200, 22)) ''\n",
      "/sarlfs_train (Group) ''\n",
      "/sarlfs_train/axis0 (Array(22,)) ''\n",
      "/sarlfs_train/axis1 (Array(800,)) ''\n",
      "/sarlfs_train/block0_items (Array(22,)) ''\n",
      "/sarlfs_train/block0_values (Array(800, 22)) ''\n",
      "\n",
      "/home/xiaomeng/jupyter_base/AutoFS/data/history/openml_616.hdf (File) ''\n",
      "Last modif.: '2022-12-01T10:33:30+00:00'\n",
      "Object Tree: \n",
      "/ (RootGroup) ''\n",
      "/kbest_test (Group) ''\n",
      "/kbest_test/axis0 (Array(23,)) ''\n",
      "/kbest_test/axis1 (Array(100,)) ''\n",
      "/kbest_test/block0_items (Array(23,)) ''\n",
      "/kbest_test/block0_values (Array(100, 23)) ''\n",
      "/kbest_train (Group) ''\n",
      "/kbest_train/axis0 (Array(23,)) ''\n",
      "/kbest_train/axis1 (Array(400,)) ''\n",
      "/kbest_train/block0_items (Array(23,)) ''\n",
      "/kbest_train/block0_values (Array(400, 23)) ''\n",
      "/lasso_test (Group) ''\n",
      "/lasso_test/axis0 (Array(18,)) ''\n",
      "/lasso_test/axis1 (Array(100,)) ''\n",
      "/lasso_test/block0_items (Array(18,)) ''\n",
      "/lasso_test/block0_values (Array(100, 18)) ''\n",
      "/lasso_train (Group) ''\n",
      "/lasso_train/axis0 (Array(18,)) ''\n",
      "/lasso_train/axis1 (Array(400,)) ''\n",
      "/lasso_train/block0_items (Array(18,)) ''\n",
      "/lasso_train/block0_values (Array(400, 18)) ''\n",
      "/lassonet_test (Group) ''\n",
      "/lassonet_test/axis0 (Array(23,)) ''\n",
      "/lassonet_test/axis1 (Array(100,)) ''\n",
      "/lassonet_test/block0_items (Array(23,)) ''\n",
      "/lassonet_test/block0_values (Array(100, 23)) ''\n",
      "/lassonet_train (Group) ''\n",
      "/lassonet_train/axis0 (Array(23,)) ''\n",
      "/lassonet_train/axis1 (Array(400,)) ''\n",
      "/lassonet_train/block0_items (Array(23,)) ''\n",
      "/lassonet_train/block0_values (Array(400, 23)) ''\n",
      "/marlfs_test (Group) ''\n",
      "/marlfs_test/axis0 (Array(23,)) ''\n",
      "/marlfs_test/axis1 (Array(100,)) ''\n",
      "/marlfs_test/block0_items (Array(23,)) ''\n",
      "/marlfs_test/block0_values (Array(100, 23)) ''\n",
      "/marlfs_train (Group) ''\n",
      "/marlfs_train/axis0 (Array(23,)) ''\n",
      "/marlfs_train/axis1 (Array(400,)) ''\n",
      "/marlfs_train/block0_items (Array(23,)) ''\n",
      "/marlfs_train/block0_values (Array(400, 23)) ''\n",
      "/mrmr_test (Group) ''\n",
      "/mrmr_test/axis0 (Array(23,)) ''\n",
      "/mrmr_test/axis1 (Array(100,)) ''\n",
      "/mrmr_test/block0_items (Array(23,)) ''\n",
      "/mrmr_test/block0_values (Array(100, 23)) ''\n",
      "/mrmr_train (Group) ''\n",
      "/mrmr_train/axis0 (Array(23,)) ''\n",
      "/mrmr_train/axis1 (Array(400,)) ''\n",
      "/mrmr_train/block0_items (Array(23,)) ''\n",
      "/mrmr_train/block0_values (Array(400, 23)) ''\n",
      "/our_test (Group) ''\n",
      "/our_test/axis0 (Array(7,)) ''\n",
      "/our_test/axis1 (Array(100,)) ''\n",
      "/our_test/block0_items (Array(7,)) ''\n",
      "/our_test/block0_values (Array(100, 7)) ''\n",
      "/our_train (Group) ''\n",
      "/our_train/axis0 (Array(7,)) ''\n",
      "/our_train/axis1 (Array(400,)) ''\n",
      "/our_train/block0_items (Array(7,)) ''\n",
      "/our_train/block0_values (Array(400, 7)) ''\n",
      "/raw_test (Group) ''\n",
      "/raw_test/axis0 (Array(51,)) ''\n",
      "/raw_test/axis1 (Array(100,)) ''\n",
      "/raw_test/block0_items (Array(51,)) ''\n",
      "/raw_test/block0_values (Array(100, 51)) ''\n",
      "/raw_train (Group) ''\n",
      "/raw_train/axis0 (Array(51,)) ''\n",
      "/raw_train/axis1 (Array(400,)) ''\n",
      "/raw_train/block0_items (Array(51,)) ''\n",
      "/raw_train/block0_values (Array(400, 51)) ''\n",
      "/rfe_test (Group) ''\n",
      "/rfe_test/axis0 (Array(23,)) ''\n",
      "/rfe_test/axis1 (Array(100,)) ''\n",
      "/rfe_test/block0_items (Array(23,)) ''\n",
      "/rfe_test/block0_values (Array(100, 23)) ''\n",
      "/rfe_train (Group) ''\n",
      "/rfe_train/axis0 (Array(23,)) ''\n",
      "/rfe_train/axis1 (Array(400,)) ''\n",
      "/rfe_train/block0_items (Array(23,)) ''\n",
      "/rfe_train/block0_values (Array(400, 23)) ''\n",
      "/sarlfs_test (Group) ''\n",
      "/sarlfs_test/axis0 (Array(28,)) ''\n",
      "/sarlfs_test/axis1 (Array(100,)) ''\n",
      "/sarlfs_test/block0_items (Array(28,)) ''\n",
      "/sarlfs_test/block0_values (Array(100, 28)) ''\n",
      "/sarlfs_train (Group) ''\n",
      "/sarlfs_train/axis0 (Array(28,)) ''\n",
      "/sarlfs_train/axis1 (Array(400,)) ''\n",
      "/sarlfs_train/block0_items (Array(28,)) ''\n",
      "/sarlfs_train/block0_values (Array(400, 28)) ''\n",
      "\n",
      "/home/xiaomeng/jupyter_base/AutoFS/data/history/openml_618.hdf (File) ''\n",
      "Last modif.: '2022-12-01T10:33:30+00:00'\n",
      "Object Tree: \n",
      "/ (RootGroup) ''\n",
      "/kbest_test (Group) ''\n",
      "/kbest_test/axis0 (Array(23,)) ''\n",
      "/kbest_test/axis1 (Array(200,)) ''\n",
      "/kbest_test/block0_items (Array(23,)) ''\n",
      "/kbest_test/block0_values (Array(200, 23)) ''\n",
      "/kbest_train (Group) ''\n",
      "/kbest_train/axis0 (Array(23,)) ''\n",
      "/kbest_train/axis1 (Array(800,)) ''\n",
      "/kbest_train/block0_items (Array(23,)) ''\n",
      "/kbest_train/block0_values (Array(800, 23)) ''\n",
      "/lasso_test (Group) ''\n",
      "/lasso_test/axis0 (Array(11,)) ''\n",
      "/lasso_test/axis1 (Array(200,)) ''\n",
      "/lasso_test/block0_items (Array(11,)) ''\n",
      "/lasso_test/block0_values (Array(200, 11)) ''\n",
      "/lasso_train (Group) ''\n",
      "/lasso_train/axis0 (Array(11,)) ''\n",
      "/lasso_train/axis1 (Array(800,)) ''\n",
      "/lasso_train/block0_items (Array(11,)) ''\n",
      "/lasso_train/block0_values (Array(800, 11)) ''\n",
      "/lassonet_test (Group) ''\n",
      "/lassonet_test/axis0 (Array(23,)) ''\n",
      "/lassonet_test/axis1 (Array(200,)) ''\n",
      "/lassonet_test/block0_items (Array(23,)) ''\n",
      "/lassonet_test/block0_values (Array(200, 23)) ''\n",
      "/lassonet_train (Group) ''\n",
      "/lassonet_train/axis0 (Array(23,)) ''\n",
      "/lassonet_train/axis1 (Array(800,)) ''\n",
      "/lassonet_train/block0_items (Array(23,)) ''\n",
      "/lassonet_train/block0_values (Array(800, 23)) ''\n",
      "/marlfs_test (Group) ''\n",
      "/marlfs_test/axis0 (Array(23,)) ''\n",
      "/marlfs_test/axis1 (Array(200,)) ''\n",
      "/marlfs_test/block0_items (Array(23,)) ''\n",
      "/marlfs_test/block0_values (Array(200, 23)) ''\n",
      "/marlfs_train (Group) ''\n",
      "/marlfs_train/axis0 (Array(23,)) ''\n",
      "/marlfs_train/axis1 (Array(800,)) ''\n",
      "/marlfs_train/block0_items (Array(23,)) ''\n",
      "/marlfs_train/block0_values (Array(800, 23)) ''\n",
      "/mrmr_test (Group) ''\n",
      "/mrmr_test/axis0 (Array(23,)) ''\n",
      "/mrmr_test/axis1 (Array(200,)) ''\n",
      "/mrmr_test/block0_items (Array(23,)) ''\n",
      "/mrmr_test/block0_values (Array(200, 23)) ''\n",
      "/mrmr_train (Group) ''\n",
      "/mrmr_train/axis0 (Array(23,)) ''\n",
      "/mrmr_train/axis1 (Array(800,)) ''\n",
      "/mrmr_train/block0_items (Array(23,)) ''\n",
      "/mrmr_train/block0_values (Array(800, 23)) ''\n",
      "/our_test (Group) ''\n",
      "/our_test/axis0 (Array(6,)) ''\n",
      "/our_test/axis1 (Array(200,)) ''\n",
      "/our_test/block0_items (Array(6,)) ''\n",
      "/our_test/block0_values (Array(200, 6)) ''\n",
      "/our_train (Group) ''\n",
      "/our_train/axis0 (Array(6,)) ''\n",
      "/our_train/axis1 (Array(800,)) ''\n",
      "/our_train/block0_items (Array(6,)) ''\n",
      "/our_train/block0_values (Array(800, 6)) ''\n",
      "/raw_test (Group) ''\n",
      "/raw_test/axis0 (Array(51,)) ''\n",
      "/raw_test/axis1 (Array(200,)) ''\n",
      "/raw_test/block0_items (Array(51,)) ''\n",
      "/raw_test/block0_values (Array(200, 51)) ''\n",
      "/raw_train (Group) ''\n",
      "/raw_train/axis0 (Array(51,)) ''\n",
      "/raw_train/axis1 (Array(800,)) ''\n",
      "/raw_train/block0_items (Array(51,)) ''\n",
      "/raw_train/block0_values (Array(800, 51)) ''\n",
      "/rfe_test (Group) ''\n",
      "/rfe_test/axis0 (Array(23,)) ''\n",
      "/rfe_test/axis1 (Array(200,)) ''\n",
      "/rfe_test/block0_items (Array(23,)) ''\n",
      "/rfe_test/block0_values (Array(200, 23)) ''\n",
      "/rfe_train (Group) ''\n",
      "/rfe_train/axis0 (Array(23,)) ''\n",
      "/rfe_train/axis1 (Array(800,)) ''\n",
      "/rfe_train/block0_items (Array(23,)) ''\n",
      "/rfe_train/block0_values (Array(800, 23)) ''\n",
      "/sarlfs_test (Group) ''\n",
      "/sarlfs_test/axis0 (Array(24,)) ''\n",
      "/sarlfs_test/axis1 (Array(200,)) ''\n",
      "/sarlfs_test/block0_items (Array(24,)) ''\n",
      "/sarlfs_test/block0_values (Array(200, 24)) ''\n",
      "/sarlfs_train (Group) ''\n",
      "/sarlfs_train/axis0 (Array(24,)) ''\n",
      "/sarlfs_train/axis1 (Array(800,)) ''\n",
      "/sarlfs_train/block0_items (Array(24,)) ''\n",
      "/sarlfs_train/block0_values (Array(800, 24)) ''\n",
      "\n",
      "/home/xiaomeng/jupyter_base/AutoFS/data/history/openml_620.hdf (File) ''\n",
      "Last modif.: '2022-12-01T10:33:30+00:00'\n",
      "Object Tree: \n",
      "/ (RootGroup) ''\n",
      "/kbest_test (Group) ''\n",
      "/kbest_test/axis0 (Array(17,)) ''\n",
      "/kbest_test/axis1 (Array(200,)) ''\n",
      "/kbest_test/block0_items (Array(17,)) ''\n",
      "/kbest_test/block0_values (Array(200, 17)) ''\n",
      "/kbest_train (Group) ''\n",
      "/kbest_train/axis0 (Array(17,)) ''\n",
      "/kbest_train/axis1 (Array(800,)) ''\n",
      "/kbest_train/block0_items (Array(17,)) ''\n",
      "/kbest_train/block0_values (Array(800, 17)) ''\n",
      "/lasso_test (Group) ''\n",
      "/lasso_test/axis0 (Array(8,)) ''\n",
      "/lasso_test/axis1 (Array(200,)) ''\n",
      "/lasso_test/block0_items (Array(8,)) ''\n",
      "/lasso_test/block0_values (Array(200, 8)) ''\n",
      "/lasso_train (Group) ''\n",
      "/lasso_train/axis0 (Array(8,)) ''\n",
      "/lasso_train/axis1 (Array(800,)) ''\n",
      "/lasso_train/block0_items (Array(8,)) ''\n",
      "/lasso_train/block0_values (Array(800, 8)) ''\n",
      "/lassonet_test (Group) ''\n",
      "/lassonet_test/axis0 (Array(17,)) ''\n",
      "/lassonet_test/axis1 (Array(200,)) ''\n",
      "/lassonet_test/block0_items (Array(17,)) ''\n",
      "/lassonet_test/block0_values (Array(200, 17)) ''\n",
      "/lassonet_train (Group) ''\n",
      "/lassonet_train/axis0 (Array(17,)) ''\n",
      "/lassonet_train/axis1 (Array(800,)) ''\n",
      "/lassonet_train/block0_items (Array(17,)) ''\n",
      "/lassonet_train/block0_values (Array(800, 17)) ''\n",
      "/marlfs_test (Group) ''\n",
      "/marlfs_test/axis0 (Array(17,)) ''\n",
      "/marlfs_test/axis1 (Array(200,)) ''\n",
      "/marlfs_test/block0_items (Array(17,)) ''\n",
      "/marlfs_test/block0_values (Array(200, 17)) ''\n",
      "/marlfs_train (Group) ''\n",
      "/marlfs_train/axis0 (Array(17,)) ''\n",
      "/marlfs_train/axis1 (Array(800,)) ''\n",
      "/marlfs_train/block0_items (Array(17,)) ''\n",
      "/marlfs_train/block0_values (Array(800, 17)) ''\n",
      "/mrmr_test (Group) ''\n",
      "/mrmr_test/axis0 (Array(17,)) ''\n",
      "/mrmr_test/axis1 (Array(200,)) ''\n",
      "/mrmr_test/block0_items (Array(17,)) ''\n",
      "/mrmr_test/block0_values (Array(200, 17)) ''\n",
      "/mrmr_train (Group) ''\n",
      "/mrmr_train/axis0 (Array(17,)) ''\n",
      "/mrmr_train/axis1 (Array(800,)) ''\n",
      "/mrmr_train/block0_items (Array(17,)) ''\n",
      "/mrmr_train/block0_values (Array(800, 17)) ''\n",
      "/our_test (Group) ''\n",
      "/our_test/axis0 (Array(5,)) ''\n",
      "/our_test/axis1 (Array(200,)) ''\n",
      "/our_test/block0_items (Array(5,)) ''\n",
      "/our_test/block0_values (Array(200, 5)) ''\n",
      "/our_train (Group) ''\n",
      "/our_train/axis0 (Array(5,)) ''\n",
      "/our_train/axis1 (Array(800,)) ''\n",
      "/our_train/block0_items (Array(5,)) ''\n",
      "/our_train/block0_values (Array(800, 5)) ''\n",
      "/raw_test (Group) ''\n",
      "/raw_test/axis0 (Array(26,)) ''\n",
      "/raw_test/axis1 (Array(200,)) ''\n",
      "/raw_test/block0_items (Array(26,)) ''\n",
      "/raw_test/block0_values (Array(200, 26)) ''\n",
      "/raw_train (Group) ''\n",
      "/raw_train/axis0 (Array(26,)) ''\n",
      "/raw_train/axis1 (Array(800,)) ''\n",
      "/raw_train/block0_items (Array(26,)) ''\n",
      "/raw_train/block0_values (Array(800, 26)) ''\n",
      "/rfe_test (Group) ''\n",
      "/rfe_test/axis0 (Array(17,)) ''\n",
      "/rfe_test/axis1 (Array(200,)) ''\n",
      "/rfe_test/block0_items (Array(17,)) ''\n",
      "/rfe_test/block0_values (Array(200, 17)) ''\n",
      "/rfe_train (Group) ''\n",
      "/rfe_train/axis0 (Array(17,)) ''\n",
      "/rfe_train/axis1 (Array(800,)) ''\n",
      "/rfe_train/block0_items (Array(17,)) ''\n",
      "/rfe_train/block0_values (Array(800, 17)) ''\n",
      "/sarlfs_test (Group) ''\n",
      "/sarlfs_test/axis0 (Array(14,)) ''\n",
      "/sarlfs_test/axis1 (Array(200,)) ''\n",
      "/sarlfs_test/block0_items (Array(14,)) ''\n",
      "/sarlfs_test/block0_values (Array(200, 14)) ''\n",
      "/sarlfs_train (Group) ''\n",
      "/sarlfs_train/axis0 (Array(14,)) ''\n",
      "/sarlfs_train/axis1 (Array(800,)) ''\n",
      "/sarlfs_train/block0_items (Array(14,)) ''\n",
      "/sarlfs_train/block0_values (Array(800, 14)) ''\n",
      "\n",
      "/home/xiaomeng/jupyter_base/AutoFS/data/history/openml_637.hdf (File) ''\n",
      "Last modif.: '2022-12-01T11:24:36+00:00'\n",
      "Object Tree: \n",
      "/ (RootGroup) ''\n",
      "/kbest_test (Group) ''\n",
      "/kbest_test/axis0 (Array(24,)) ''\n",
      "/kbest_test/axis1 (Array(100,)) ''\n",
      "/kbest_test/block0_items (Array(24,)) ''\n",
      "/kbest_test/block0_values (Array(100, 24)) ''\n",
      "/kbest_train (Group) ''\n",
      "/kbest_train/axis0 (Array(24,)) ''\n",
      "/kbest_train/axis1 (Array(400,)) ''\n",
      "/kbest_train/block0_items (Array(24,)) ''\n",
      "/kbest_train/block0_values (Array(400, 24)) ''\n",
      "/lasso_test (Group) ''\n",
      "/lasso_test/axis0 (Array(19,)) ''\n",
      "/lasso_test/axis1 (Array(100,)) ''\n",
      "/lasso_test/block0_items (Array(19,)) ''\n",
      "/lasso_test/block0_values (Array(100, 19)) ''\n",
      "/lasso_train (Group) ''\n",
      "/lasso_train/axis0 (Array(19,)) ''\n",
      "/lasso_train/axis1 (Array(400,)) ''\n",
      "/lasso_train/block0_items (Array(19,)) ''\n",
      "/lasso_train/block0_values (Array(400, 19)) ''\n",
      "/lassonet_test (Group) ''\n",
      "/lassonet_test/axis0 (Array(29,)) ''\n",
      "/lassonet_test/axis1 (Array(100,)) ''\n",
      "/lassonet_test/block0_items (Array(29,)) ''\n",
      "/lassonet_test/block0_values (Array(100, 29)) ''\n",
      "/lassonet_train (Group) ''\n",
      "/lassonet_train/axis0 (Array(29,)) ''\n",
      "/lassonet_train/axis1 (Array(400,)) ''\n",
      "/lassonet_train/block0_items (Array(29,)) ''\n",
      "/lassonet_train/block0_values (Array(400, 29)) ''\n",
      "/marlfs_test (Group) ''\n",
      "/marlfs_test/axis0 (Array(24,)) ''\n",
      "/marlfs_test/axis1 (Array(100,)) ''\n",
      "/marlfs_test/block0_items (Array(24,)) ''\n",
      "/marlfs_test/block0_values (Array(100, 24)) ''\n",
      "/marlfs_train (Group) ''\n",
      "/marlfs_train/axis0 (Array(24,)) ''\n",
      "/marlfs_train/axis1 (Array(400,)) ''\n",
      "/marlfs_train/block0_items (Array(24,)) ''\n",
      "/marlfs_train/block0_values (Array(400, 24)) ''\n",
      "/mrmr_test (Group) ''\n",
      "/mrmr_test/axis0 (Array(24,)) ''\n",
      "/mrmr_test/axis1 (Array(100,)) ''\n",
      "/mrmr_test/block0_items (Array(24,)) ''\n",
      "/mrmr_test/block0_values (Array(100, 24)) ''\n",
      "/mrmr_train (Group) ''\n",
      "/mrmr_train/axis0 (Array(24,)) ''\n",
      "/mrmr_train/axis1 (Array(400,)) ''\n",
      "/mrmr_train/block0_items (Array(24,)) ''\n",
      "/mrmr_train/block0_values (Array(400, 24)) ''\n",
      "/our_test (Group) ''\n",
      "/our_test/axis0 (Array(5,)) ''\n",
      "/our_test/axis1 (Array(100,)) ''\n",
      "/our_test/block0_items (Array(5,)) ''\n",
      "/our_test/block0_values (Array(100, 5)) ''\n",
      "/our_train (Group) ''\n",
      "/our_train/axis0 (Array(5,)) ''\n",
      "/our_train/axis1 (Array(400,)) ''\n",
      "/our_train/block0_items (Array(5,)) ''\n",
      "/our_train/block0_values (Array(400, 5)) ''\n",
      "/raw_test (Group) ''\n",
      "/raw_test/axis0 (Array(51,)) ''\n",
      "/raw_test/axis1 (Array(100,)) ''\n",
      "/raw_test/block0_items (Array(51,)) ''\n",
      "/raw_test/block0_values (Array(100, 51)) ''\n",
      "/raw_train (Group) ''\n",
      "/raw_train/axis0 (Array(51,)) ''\n",
      "/raw_train/axis1 (Array(400,)) ''\n",
      "/raw_train/block0_items (Array(51,)) ''\n",
      "/raw_train/block0_values (Array(400, 51)) ''\n",
      "/rfe_test (Group) ''\n",
      "/rfe_test/axis0 (Array(24,)) ''\n",
      "/rfe_test/axis1 (Array(100,)) ''\n",
      "/rfe_test/block0_items (Array(24,)) ''\n",
      "/rfe_test/block0_values (Array(100, 24)) ''\n",
      "/rfe_train (Group) ''\n",
      "/rfe_train/axis0 (Array(24,)) ''\n",
      "/rfe_train/axis1 (Array(400,)) ''\n",
      "/rfe_train/block0_items (Array(24,)) ''\n",
      "/rfe_train/block0_values (Array(400, 24)) ''\n",
      "/sarlfs_test (Group) ''\n",
      "/sarlfs_test/axis0 (Array(28,)) ''\n",
      "/sarlfs_test/axis1 (Array(100,)) ''\n",
      "/sarlfs_test/block0_items (Array(28,)) ''\n",
      "/sarlfs_test/block0_values (Array(100, 28)) ''\n",
      "/sarlfs_train (Group) ''\n",
      "/sarlfs_train/axis0 (Array(28,)) ''\n",
      "/sarlfs_train/axis1 (Array(400,)) ''\n",
      "/sarlfs_train/block0_items (Array(28,)) ''\n",
      "/sarlfs_train/block0_values (Array(400, 28)) ''\n",
      "\n",
      "/home/xiaomeng/jupyter_base/AutoFS/data/history/mice_protein.hdf (File) ''\n",
      "Last modif.: '2022-12-02T15:58:55+00:00'\n",
      "Object Tree: \n",
      "/ (RootGroup) ''\n",
      "/gfs_test (Group) ''\n",
      "/gfs_test/axis0 (Array(56,)) ''\n",
      "/gfs_test/axis1 (Array(216,)) ''\n",
      "/gfs_test/block0_items (Array(56,)) ''\n",
      "/gfs_test/block0_values (Array(216, 56)) ''\n",
      "/gfs_train (Group) ''\n",
      "/gfs_train/axis0 (Array(56,)) ''\n",
      "/gfs_train/axis1 (Array(864,)) ''\n",
      "/gfs_train/block0_items (Array(56,)) ''\n",
      "/gfs_train/block0_values (Array(864, 56)) ''\n",
      "/kbest_test (Group) ''\n",
      "/kbest_test/axis0 (Array(65,)) ''\n",
      "/kbest_test/axis1 (Array(216,)) ''\n",
      "/kbest_test/block0_items (Array(65,)) ''\n",
      "/kbest_test/block0_values (Array(216, 65)) ''\n",
      "/kbest_train (Group) ''\n",
      "/kbest_train/axis0 (Array(65,)) ''\n",
      "/kbest_train/axis1 (Array(864,)) ''\n",
      "/kbest_train/block0_items (Array(65,)) ''\n",
      "/kbest_train/block0_values (Array(864, 65)) ''\n",
      "/lasso_test (Group) ''\n",
      "/lasso_test/axis0 (Array(57,)) ''\n",
      "/lasso_test/axis1 (Array(216,)) ''\n",
      "/lasso_test/block0_items (Array(57,)) ''\n",
      "/lasso_test/block0_values (Array(216, 57)) ''\n",
      "/lasso_train (Group) ''\n",
      "/lasso_train/axis0 (Array(57,)) ''\n",
      "/lasso_train/axis1 (Array(864,)) ''\n",
      "/lasso_train/block0_items (Array(57,)) ''\n",
      "/lasso_train/block0_values (Array(864, 57)) ''\n",
      "/lassonet_test (Group) ''\n",
      "/lassonet_test/axis0 (Array(65,)) ''\n",
      "/lassonet_test/axis1 (Array(216,)) ''\n",
      "/lassonet_test/block0_items (Array(65,)) ''\n",
      "/lassonet_test/block0_values (Array(216, 65)) ''\n",
      "/lassonet_train (Group) ''\n",
      "/lassonet_train/axis0 (Array(65,)) ''\n",
      "/lassonet_train/axis1 (Array(864,)) ''\n",
      "/lassonet_train/block0_items (Array(65,)) ''\n",
      "/lassonet_train/block0_values (Array(864, 65)) ''\n",
      "/marlfs_test (Group) ''\n",
      "/marlfs_test/axis0 (Array(65,)) ''\n",
      "/marlfs_test/axis1 (Array(216,)) ''\n",
      "/marlfs_test/block0_items (Array(65,)) ''\n",
      "/marlfs_test/block0_values (Array(216, 65)) ''\n",
      "/marlfs_train (Group) ''\n",
      "/marlfs_train/axis0 (Array(65,)) ''\n",
      "/marlfs_train/axis1 (Array(864,)) ''\n",
      "/marlfs_train/block0_items (Array(65,)) ''\n",
      "/marlfs_train/block0_values (Array(864, 65)) ''\n",
      "/mrmr_test (Group) ''\n",
      "/mrmr_test/axis0 (Array(65,)) ''\n",
      "/mrmr_test/axis1 (Array(216,)) ''\n",
      "/mrmr_test/block0_items (Array(65,)) ''\n",
      "/mrmr_test/block0_values (Array(216, 65)) ''\n",
      "/mrmr_train (Group) ''\n",
      "/mrmr_train/axis0 (Array(65,)) ''\n",
      "/mrmr_train/axis1 (Array(864,)) ''\n",
      "/mrmr_train/block0_items (Array(65,)) ''\n",
      "/mrmr_train/block0_values (Array(864, 65)) ''\n",
      "/our_test (Group) ''\n",
      "/our_test/axis0 (Array(62,)) ''\n",
      "/our_test/axis1 (Array(216,)) ''\n",
      "/our_test/block0_items (Array(62,)) ''\n",
      "/our_test/block0_values (Array(216, 62)) ''\n",
      "/our_train (Group) ''\n",
      "/our_train/axis0 (Array(62,)) ''\n",
      "/our_train/axis1 (Array(864,)) ''\n",
      "/our_train/block0_items (Array(62,)) ''\n",
      "/our_train/block0_values (Array(864, 62)) ''\n",
      "/raw_test (Group) ''\n",
      "/raw_test/axis0 (Array(78,)) ''\n",
      "/raw_test/axis1 (Array(216,)) ''\n",
      "/raw_test/block0_items (Array(78,)) ''\n",
      "/raw_test/block0_values (Array(216, 78)) ''\n",
      "/raw_train (Group) ''\n",
      "/raw_train/axis0 (Array(78,)) ''\n",
      "/raw_train/axis1 (Array(864,)) ''\n",
      "/raw_train/block0_items (Array(78,)) ''\n",
      "/raw_train/block0_values (Array(864, 78)) ''\n",
      "/rfe_test (Group) ''\n",
      "/rfe_test/axis0 (Array(65,)) ''\n",
      "/rfe_test/axis1 (Array(216,)) ''\n",
      "/rfe_test/block0_items (Array(65,)) ''\n",
      "/rfe_test/block0_values (Array(216, 65)) ''\n",
      "/rfe_train (Group) ''\n",
      "/rfe_train/axis0 (Array(65,)) ''\n",
      "/rfe_train/axis1 (Array(864,)) ''\n",
      "/rfe_train/block0_items (Array(65,)) ''\n",
      "/rfe_train/block0_values (Array(864, 65)) ''\n",
      "/sarlfs_test (Group) ''\n",
      "/sarlfs_test/axis0 (Array(44,)) ''\n",
      "/sarlfs_test/axis1 (Array(216,)) ''\n",
      "/sarlfs_test/block0_items (Array(44,)) ''\n",
      "/sarlfs_test/block0_values (Array(216, 44)) ''\n",
      "/sarlfs_train (Group) ''\n",
      "/sarlfs_train/axis0 (Array(44,)) ''\n",
      "/sarlfs_train/axis1 (Array(864,)) ''\n",
      "/sarlfs_train/block0_items (Array(44,)) ''\n",
      "/sarlfs_train/block0_values (Array(864, 44)) ''\n",
      "\n"
     ]
    }
   ],
   "source": [
    "for name in names:\n",
    "    with tables.open_file(f'{base_path}/history/{name}.hdf') as store:\n",
    "        print(store)\n"
   ],
   "metadata": {
    "collapsed": false,
    "pycharm": {
     "name": "#%%\n"
    }
   }
  },
  {
   "cell_type": "code",
   "execution_count": 18,
   "outputs": [],
   "source": [
    "for name in names:\n",
    "    train_pd = pd.read_hdf(f'{base_path}/history/{name}/best-ours-test.hdf', key='train')\n",
    "    test_pd = pd.read_hdf(f'{base_path}/history/{name}/best-ours-test.hdf', key='test')\n",
    "    train_pd.to_hdf(f'{base_path}/history/{name}.hdf', key='our_train')\n",
    "    test_pd.to_hdf(f'{base_path}/history/{name}.hdf', key='our_test')"
   ],
   "metadata": {
    "collapsed": false,
    "pycharm": {
     "name": "#%%\n"
    }
   }
  },
  {
   "cell_type": "code",
   "execution_count": 12,
   "outputs": [
    {
     "name": "stdout",
     "output_type": "stream",
     "text": [
      "INFO:  initialize the train and test dataset\n",
      "INFO:  1-MAE on original is: 0.458, 1-MAE on generated is: 0.486\n",
      "INFO:  1-MSE on original is: 0.508, 1-MSE on generated is: 0.546\n",
      "INFO:  1-RAE on original is: 0.149, 1-RAE on generated is: 0.190\n",
      "INFO:  1-RMSE on original is: 0.307, 1-RMSE on generated is: 0.332\n"
     ]
    },
    {
     "data": {
      "text/plain": "0.1897323605262457"
     },
     "execution_count": 12,
     "metadata": {},
     "output_type": "execute_result"
    }
   ],
   "source": [
    "import numpy\n",
    "import torch\n",
    "choice = torch.tensor([1., 1., 1., 1., 1., 0., 0., 1., 1., 0., 0., 1., 1., 0., 1., 0., 0., 1.,\n",
    "        1., 0., 1., 0., 0., 0., 1., 1., 0., 1., 0., 1., 0., 0., 1., 1., 0., 0.,\n",
    "        0., 0., 1., 1., 1., 0., 1., 0., 1., 1., 1., 0., 1., 1.])\n",
    "fe = FeatureEvaluator('openml_637')\n",
    "fe.report_performance(choice, store=False, flag='test')"
   ],
   "metadata": {
    "collapsed": false,
    "pycharm": {
     "name": "#%%\n"
    }
   }
  },
  {
   "cell_type": "code",
   "execution_count": 32,
   "outputs": [],
   "source": [
    "state = dict()\n",
    "for name in names:\n",
    "    state[name] = dict()\n",
    "    state[name]['raw'] = pd.read_hdf(f'{base_path}/history/{name}.hdf', key=f'raw_test').shape[1]\n",
    "    for method in baseline_name:\n",
    "        state[name][method] = pd.read_hdf(f'{base_path}/history/{name}.hdf', key=f'{method}_test').shape[1]\n",
    "    state[name]['ours'] = pd.read_hdf(f'{base_path}/history/{name}.hdf', key=f'our_test').shape[1]"
   ],
   "metadata": {
    "collapsed": false,
    "pycharm": {
     "name": "#%%\n"
    }
   }
  },
  {
   "cell_type": "code",
   "execution_count": 33,
   "outputs": [
    {
     "data": {
      "text/plain": "{'spectf': {'raw': 45,\n  'kbest': 28,\n  'mrmr': 28,\n  'lasso': 28,\n  'rfe': 28,\n  'lassonet': 28,\n  'sarlfs': 18,\n  'marlfs': 28,\n  'ours': 8},\n 'svmguide3': {'raw': 22,\n  'kbest': 14,\n  'mrmr': 14,\n  'lasso': 14,\n  'rfe': 14,\n  'lassonet': 14,\n  'sarlfs': 9,\n  'marlfs': 14,\n  'ours': 10},\n 'german_credit': {'raw': 25,\n  'kbest': 14,\n  'mrmr': 14,\n  'lasso': 14,\n  'rfe': 14,\n  'lassonet': 14,\n  'sarlfs': 12,\n  'marlfs': 14,\n  'ours': 10},\n 'uci_credit_card': {'raw': 25,\n  'kbest': 17,\n  'mrmr': 17,\n  'lasso': 11,\n  'rfe': 17,\n  'lassonet': 17,\n  'sarlfs': 14,\n  'marlfs': 17,\n  'ours': 13},\n 'spam_base': {'raw': 58,\n  'kbest': 33,\n  'mrmr': 33,\n  'lasso': 33,\n  'rfe': 33,\n  'lassonet': 33,\n  'sarlfs': 36,\n  'marlfs': 33,\n  'ours': 29},\n 'megawatt1': {'raw': 38,\n  'kbest': 21,\n  'mrmr': 21,\n  'lasso': 21,\n  'rfe': 21,\n  'lassonet': 21,\n  'sarlfs': 18,\n  'marlfs': 21,\n  'ours': 7},\n 'ionosphere': {'raw': 35,\n  'kbest': 15,\n  'mrmr': 15,\n  'lasso': 15,\n  'rfe': 15,\n  'lassonet': 15,\n  'sarlfs': 20,\n  'marlfs': 15,\n  'ours': 15},\n 'openml_586': {'raw': 26,\n  'kbest': 12,\n  'mrmr': 12,\n  'lasso': 8,\n  'rfe': 12,\n  'lassonet': 12,\n  'sarlfs': 15,\n  'marlfs': 12,\n  'ours': 4},\n 'openml_589': {'raw': 26,\n  'kbest': 16,\n  'mrmr': 16,\n  'lasso': 7,\n  'rfe': 16,\n  'lassonet': 16,\n  'sarlfs': 11,\n  'marlfs': 16,\n  'ours': 5},\n 'openml_607': {'raw': 51,\n  'kbest': 30,\n  'mrmr': 30,\n  'lasso': 16,\n  'rfe': 30,\n  'lassonet': 30,\n  'sarlfs': 22,\n  'marlfs': 30,\n  'ours': 5},\n 'openml_616': {'raw': 51,\n  'kbest': 23,\n  'mrmr': 23,\n  'lasso': 18,\n  'rfe': 23,\n  'lassonet': 23,\n  'sarlfs': 28,\n  'marlfs': 23,\n  'ours': 7},\n 'openml_618': {'raw': 51,\n  'kbest': 23,\n  'mrmr': 23,\n  'lasso': 11,\n  'rfe': 23,\n  'lassonet': 23,\n  'sarlfs': 24,\n  'marlfs': 23,\n  'ours': 6},\n 'openml_620': {'raw': 26,\n  'kbest': 17,\n  'mrmr': 17,\n  'lasso': 8,\n  'rfe': 17,\n  'lassonet': 17,\n  'sarlfs': 14,\n  'marlfs': 17,\n  'ours': 5},\n 'openml_637': {'raw': 51,\n  'kbest': 24,\n  'mrmr': 24,\n  'lasso': 19,\n  'rfe': 24,\n  'lassonet': 29,\n  'sarlfs': 28,\n  'marlfs': 24,\n  'ours': 5},\n 'mice_protein': {'raw': 78,\n  'kbest': 65,\n  'mrmr': 65,\n  'lasso': 57,\n  'rfe': 65,\n  'lassonet': 65,\n  'sarlfs': 44,\n  'marlfs': 65,\n  'ours': 62}}"
     },
     "execution_count": 33,
     "metadata": {},
     "output_type": "execute_result"
    }
   ],
   "source": [
    "state"
   ],
   "metadata": {
    "collapsed": false,
    "pycharm": {
     "name": "#%%\n"
    }
   }
  },
  {
   "cell_type": "code",
   "execution_count": null,
   "outputs": [],
   "source": [],
   "metadata": {
    "collapsed": false,
    "pycharm": {
     "name": "#%%\n"
    }
   }
  },
  {
   "cell_type": "code",
   "execution_count": 27,
   "outputs": [],
   "source": [
    "train_pd = pd.read_hdf(f'{base_path}/history/mice_protein/best-ours-test.hdf', key='train')\n",
    "test_pd = pd.read_hdf(f'{base_path}/history/mice_protein/best-ours-test.hdf', key='test')\n",
    "train_pd.to_hdf(f'{base_path}/history/mice_protein.hdf', key='our_train')\n",
    "test_pd.to_hdf(f'{base_path}/history/mice_protein.hdf', key='our_test')"
   ],
   "metadata": {
    "collapsed": false,
    "pycharm": {
     "name": "#%%\n"
    }
   }
  },
  {
   "cell_type": "code",
   "execution_count": 28,
   "outputs": [
    {
     "data": {
      "text/plain": "62"
     },
     "execution_count": 28,
     "metadata": {},
     "output_type": "execute_result"
    }
   ],
   "source": [
    "train_pd.shape[1]"
   ],
   "metadata": {
    "collapsed": false,
    "pycharm": {
     "name": "#%%\n"
    }
   }
  },
  {
   "cell_type": "code",
   "execution_count": 11,
   "outputs": [],
   "source": [
    "test_pd = pd.read_hdf(f'{base_path}/history/coil-20.hdf', key='rfe_test')\n",
    "# pd.read_hdf(f'{base_path}/history/coil-20.hdf', key='rfs_train').to_hdf(f'{base_path}/history/coil-20.hdf', key='rfe_train')"
   ],
   "metadata": {
    "collapsed": false,
    "pycharm": {
     "name": "#%%\n"
    }
   }
  },
  {
   "cell_type": "code",
   "execution_count": 12,
   "outputs": [
    {
     "data": {
      "text/plain": "(0.9762142857142857, 0.9658333333333333, 0.965275257108288, 0.9642092352092353)"
     },
     "execution_count": 12,
     "metadata": {},
     "output_type": "execute_result"
    }
   ],
   "source": [
    "from utils.tools import test_task_new\n",
    "\n",
    "test_task_new(test_pd, 'mcls')"
   ],
   "metadata": {
    "collapsed": false,
    "pycharm": {
     "name": "#%%\n"
    }
   }
  },
  {
   "cell_type": "code",
   "execution_count": 18,
   "outputs": [
    {
     "name": "stdout",
     "output_type": "stream",
     "text": [
      "/home/xiaomeng/jupyter_base/AutoFS/data/history/coil-20.hdf (File) ''\n",
      "Last modif.: '2022-12-03T17:14:32+00:00'\n",
      "Object Tree: \n",
      "/ (RootGroup) ''\n",
      "/kbest_test (Group) ''\n",
      "/kbest_test/axis0 (Array(198,)) ''\n",
      "/kbest_test/axis1 (Array(288,)) ''\n",
      "/kbest_test/block0_items (Array(198,)) ''\n",
      "/kbest_test/block0_values (Array(288, 198)) ''\n",
      "/kbest_train (Group) ''\n",
      "/kbest_train/axis0 (Array(198,)) ''\n",
      "/kbest_train/axis1 (Array(1152,)) ''\n",
      "/kbest_train/block0_items (Array(198,)) ''\n",
      "/kbest_train/block0_values (Array(1152, 198)) ''\n",
      "/lasso_test (Group) ''\n",
      "/lasso_test/axis0 (Array(198,)) ''\n",
      "/lasso_test/axis1 (Array(288,)) ''\n",
      "/lasso_test/block0_items (Array(198,)) ''\n",
      "/lasso_test/block0_values (Array(288, 198)) ''\n",
      "/lasso_train (Group) ''\n",
      "/lasso_train/axis0 (Array(198,)) ''\n",
      "/lasso_train/axis1 (Array(1152,)) ''\n",
      "/lasso_train/block0_items (Array(198,)) ''\n",
      "/lasso_train/block0_values (Array(1152, 198)) ''\n",
      "/lassonet_test (Group) ''\n",
      "/lassonet_test/axis0 (Array(198,)) ''\n",
      "/lassonet_test/axis1 (Array(288,)) ''\n",
      "/lassonet_test/block0_items (Array(198,)) ''\n",
      "/lassonet_test/block0_values (Array(288, 198)) ''\n",
      "/lassonet_train (Group) ''\n",
      "/lassonet_train/axis0 (Array(198,)) ''\n",
      "/lassonet_train/axis1 (Array(1152,)) ''\n",
      "/lassonet_train/block0_items (Array(198,)) ''\n",
      "/lassonet_train/block0_values (Array(1152, 198)) ''\n",
      "/marlfs_test (Group) ''\n",
      "/marlfs_test/axis0 (Array(198,)) ''\n",
      "/marlfs_test/axis1 (Array(288,)) ''\n",
      "/marlfs_test/block0_items (Array(198,)) ''\n",
      "/marlfs_test/block0_values (Array(288, 198)) ''\n",
      "/marlfs_train (Group) ''\n",
      "/marlfs_train/axis0 (Array(198,)) ''\n",
      "/marlfs_train/axis1 (Array(1152,)) ''\n",
      "/marlfs_train/block0_items (Array(198,)) ''\n",
      "/marlfs_train/block0_values (Array(1152, 198)) ''\n",
      "/mrmr_test (Group) ''\n",
      "/mrmr_test/axis0 (Array(198,)) ''\n",
      "/mrmr_test/axis1 (Array(288,)) ''\n",
      "/mrmr_test/block0_items (Array(198,)) ''\n",
      "/mrmr_test/block0_values (Array(288, 198)) ''\n",
      "/mrmr_train (Group) ''\n",
      "/mrmr_train/axis0 (Array(198,)) ''\n",
      "/mrmr_train/axis1 (Array(1152,)) ''\n",
      "/mrmr_train/block0_items (Array(198,)) ''\n",
      "/mrmr_train/block0_values (Array(1152, 198)) ''\n",
      "/raw_test (Group) ''\n",
      "/raw_test/axis0 (Array(401,)) ''\n",
      "/raw_test/axis1 (Array(288,)) ''\n",
      "/raw_test/block0_items (Array(401,)) ''\n",
      "/raw_test/block0_values (Array(288, 401)) ''\n",
      "/raw_train (Group) ''\n",
      "/raw_train/axis0 (Array(401,)) ''\n",
      "/raw_train/axis1 (Array(1152,)) ''\n",
      "/raw_train/block0_items (Array(401,)) ''\n",
      "/raw_train/block0_values (Array(1152, 401)) ''\n",
      "/rfe_test (Group) ''\n",
      "/rfe_test/axis0 (Array(198,)) ''\n",
      "/rfe_test/axis1 (Array(288,)) ''\n",
      "/rfe_test/block0_items (Array(198,)) ''\n",
      "/rfe_test/block0_values (Array(288, 198)) ''\n",
      "/rfe_train (Group) ''\n",
      "/rfe_train/axis0 (Array(198,)) ''\n",
      "/rfe_train/axis1 (Array(1152,)) ''\n",
      "/rfe_train/block0_items (Array(198,)) ''\n",
      "/rfe_train/block0_values (Array(1152, 198)) ''\n",
      "/sarlfs_test (Group) ''\n",
      "/sarlfs_test/axis0 (Array(203,)) ''\n",
      "/sarlfs_test/axis1 (Array(288,)) ''\n",
      "/sarlfs_test/block0_items (Array(203,)) ''\n",
      "/sarlfs_test/block0_values (Array(288, 203)) ''\n",
      "/sarlfs_train (Group) ''\n",
      "/sarlfs_train/axis0 (Array(203,)) ''\n",
      "/sarlfs_train/axis1 (Array(1152,)) ''\n",
      "/sarlfs_train/block0_items (Array(203,)) ''\n",
      "/sarlfs_train/block0_values (Array(1152, 203)) ''\n",
      "\n"
     ]
    }
   ],
   "source": [
    "import tables\n",
    "with tables.open_file(f'{base_path}/history/coil-20.hdf', mode='a') as store:\n",
    "    store.remove_node(where='/gfs_train', recursive=True)\n",
    "    store.remove_node(where='/rfs_train', recursive=True)\n",
    "    print(store)"
   ],
   "metadata": {
    "collapsed": false,
    "pycharm": {
     "name": "#%%\n"
    }
   }
  },
  {
   "cell_type": "code",
   "execution_count": 23,
   "outputs": [],
   "source": [
    "import torch\n",
    "choice = torch.tensor([0, 0, 1, 1, 1, 0, 1, 0, 1, 0, 1, 1, 1, 0, 1, 1, 0, 0, 1, 1, 0, 0, 0, 1,\n",
    " 0, 1, 1, 0, 0, 1, 1, 1, 1, 1, 0, 1, 1, 1, 0, 1, 1, 0, 1, 1, 1, 1, 1, 0,\n",
    " 1, 1, 1, 1, 1, 0, 0, 0, 0, 1, 1, 1, 0, 1, 1, 1, 0, 0, 1, 1, 0, 0, 1, 1,\n",
    " 0, 1, 0, 0, 1, 1, 0, 0, 1, 1, 1, 0, 0, 1, 0, 0, 1, 1, 1, 1, 0, 1, 1, 1,\n",
    " 0, 1, 0, 0, 0, 0, 0, 1, 1, 0, 0, 0, 0, 0, 0, 1, 1, 1, 1, 1, 1, 0, 1, 0,\n",
    " 1, 0, 1, 1, 0, 0, 1, 0, 0, 0, 0, 1, 0, 0, 1, 0, 0, 1, 0, 0, 1, 0, 0, 0,\n",
    " 1, 0, 0, 0, 1, 1, 0, 0, 0, 0, 0, 0, 0, 0, 1, 1, 0, 1, 1, 1, 0, 0, 1, 1,\n",
    " 1, 1, 0, 1, 1, 1, 1, 1, 0, 1, 1, 0, 0, 0, 1, 0, 0, 1, 0, 1, 1, 1, 1, 0,\n",
    " 0, 0, 1, 0, 0, 1, 0, 0, 0, 1, 0, 1, 0, 0, 0, 0, 1, 1, 1, 0, 1, 0, 1, 1,\n",
    " 1, 0, 0, 0, 0, 0, 0, 1, 0, 1, 0, 0, 0, 0, 0, 1, 1, 0, 0, 1, 0, 1, 0, 0,\n",
    " 1, 0, 1, 0, 1, 0, 0, 1, 1, 0, 1, 0, 1, 0, 1, 1, 1, 1, 0, 0, 0, 1, 0, 0,\n",
    " 1, 1, 1, 0, 1, 1, 1, 0, 1, 1, 1, 0, 1, 1, 1, 1, 1, 1, 0, 0, 0, 0, 0, 0,\n",
    " 1, 0, 0, 1, 0, 1, 1, 1, 0, 0, 0, 0, 1, 1, 1, 0, 0, 1, 0, 0, 1, 1, 0, 1,\n",
    " 1, 0, 1, 0, 1, 1, 0, 1, 1, 1, 0, 1, 1, 1, 1, 0, 0, 1, 0, 1, 1, 1, 0, 1,\n",
    " 0, 0, 1, 0, 0, 1, 1, 0, 0, 1, 0, 1, 0, 0, 0, 1, 0, 0, 0, 0, 0, 0, 0, 0,\n",
    " 0, 0, 0, 0, 0, 0, 0, 0, 0, 0, 0, 0, 0, 0, 0, 0, 0, 0, 0, 0, 0, 0, 0, 0,\n",
    " 0, 0, 0, 0, 0, 0, 0, 0, 0, 0, 0, 0, 0, 0, 0, 0,])"
   ],
   "metadata": {
    "collapsed": false,
    "pycharm": {
     "name": "#%%\n"
    }
   }
  },
  {
   "cell_type": "code",
   "execution_count": 24,
   "outputs": [],
   "source": [
    "with open(f'{base_path}/history/coil-20/fe.pkl', 'rb') as f:\n",
    "    fe: FeatureEvaluator = pickle.load(f)"
   ],
   "metadata": {
    "collapsed": false,
    "pycharm": {
     "name": "#%%\n"
    }
   }
  },
  {
   "cell_type": "code",
   "execution_count": 26,
   "outputs": [],
   "source": [
    "fe.generate_data(choice, flag='test').to_hdf(f'{base_path}/history/coil-20.hdf', key='our_test')\n",
    "fe.generate_data(choice, flag='train').to_hdf(f'{base_path}/history/coil-20.hdf', key='our_train')"
   ],
   "metadata": {
    "collapsed": false,
    "pycharm": {
     "name": "#%%\n"
    }
   }
  },
  {
   "cell_type": "code",
   "execution_count": 27,
   "outputs": [
    {
     "name": "stdout",
     "output_type": "stream",
     "text": [
      "INFO:  Pre on original is: 0.9653, Pre on generated is: 0.9810\n",
      "INFO:  Rec on original is: 0.9653, Rec on generated is: 0.9708\n",
      "INFO:  Micro-F1 on original is: 0.9653, Micro-F1 on generated is: 0.9722\n",
      "INFO:  Macro-F1 on original is: 0.9650, Macro-F1 on generated is: 0.9696\n"
     ]
    },
    {
     "data": {
      "text/plain": "0.9722323049001815"
     },
     "execution_count": 27,
     "metadata": {},
     "output_type": "execute_result"
    }
   ],
   "source": [
    "fe.report_performance(choice=choice, flag='test', store=False)"
   ],
   "metadata": {
    "collapsed": false,
    "pycharm": {
     "name": "#%%\n"
    }
   }
  },
  {
   "cell_type": "code",
   "execution_count": 28,
   "outputs": [],
   "source": [
    "train_pd = pd.read_hdf(f'{base_path}/history/minist/best-ours-test.hdf', key='train')\n",
    "test_pd = pd.read_hdf(f'{base_path}/history/minist/best-ours-test.hdf', key='test')"
   ],
   "metadata": {
    "collapsed": false,
    "pycharm": {
     "name": "#%%\n"
    }
   }
  },
  {
   "cell_type": "code",
   "execution_count": 31,
   "outputs": [],
   "source": [
    "test_pd.to_hdf(f'{base_path}/history/minist.hdf', key='our_test')\n",
    "train_pd.to_hdf(f'{base_path}/history/minist.hdf', key='our_train')"
   ],
   "metadata": {
    "collapsed": false,
    "pycharm": {
     "name": "#%%\n"
    }
   }
  },
  {
   "cell_type": "code",
   "execution_count": 33,
   "outputs": [
    {
     "name": "stdout",
     "output_type": "stream",
     "text": [
      "/home/xiaomeng/jupyter_base/AutoFS/data/history/minist.hdf (File) ''\n",
      "Last modif.: '2022-12-03T17:34:37+00:00'\n",
      "Object Tree: \n",
      "/ (RootGroup) ''\n",
      "/kbest_test (Group) ''\n",
      "/kbest_test/axis0 (Array(529,)) ''\n",
      "/kbest_test/axis1 (Array(2000,)) ''\n",
      "/kbest_test/block0_items (Array(529,)) ''\n",
      "/kbest_test/block0_values (Array(2000, 529)) ''\n",
      "/kbest_train (Group) ''\n",
      "/kbest_train/axis0 (Array(529,)) ''\n",
      "/kbest_train/axis1 (Array(8000,)) ''\n",
      "/kbest_train/block0_items (Array(529,)) ''\n",
      "/kbest_train/block0_values (Array(8000, 529)) ''\n",
      "/lasso_test (Group) ''\n",
      "/lasso_test/axis0 (Array(529,)) ''\n",
      "/lasso_test/axis1 (Array(2000,)) ''\n",
      "/lasso_test/block0_items (Array(529,)) ''\n",
      "/lasso_test/block0_values (Array(2000, 529)) ''\n",
      "/lasso_train (Group) ''\n",
      "/lasso_train/axis0 (Array(529,)) ''\n",
      "/lasso_train/axis1 (Array(8000,)) ''\n",
      "/lasso_train/block0_items (Array(529,)) ''\n",
      "/lasso_train/block0_values (Array(8000, 529)) ''\n",
      "/lassonet_test (Group) ''\n",
      "/lassonet_test/axis0 (Array(529,)) ''\n",
      "/lassonet_test/axis1 (Array(2000,)) ''\n",
      "/lassonet_test/block0_items (Array(529,)) ''\n",
      "/lassonet_test/block0_values (Array(2000, 529)) ''\n",
      "/lassonet_train (Group) ''\n",
      "/lassonet_train/axis0 (Array(529,)) ''\n",
      "/lassonet_train/axis1 (Array(8000,)) ''\n",
      "/lassonet_train/block0_items (Array(529,)) ''\n",
      "/lassonet_train/block0_values (Array(8000, 529)) ''\n",
      "/marlfs_test (Group) ''\n",
      "/marlfs_test/axis0 (Array(529,)) ''\n",
      "/marlfs_test/axis1 (Array(2000,)) ''\n",
      "/marlfs_test/block0_items (Array(529,)) ''\n",
      "/marlfs_test/block0_values (Array(2000, 529)) ''\n",
      "/marlfs_train (Group) ''\n",
      "/marlfs_train/axis0 (Array(529,)) ''\n",
      "/marlfs_train/axis1 (Array(8000,)) ''\n",
      "/marlfs_train/block0_items (Array(529,)) ''\n",
      "/marlfs_train/block0_values (Array(8000, 529)) ''\n",
      "/mrmr_test (Group) ''\n",
      "/mrmr_test/axis0 (Array(529,)) ''\n",
      "/mrmr_test/axis1 (Array(2000,)) ''\n",
      "/mrmr_test/block0_items (Array(529,)) ''\n",
      "/mrmr_test/block0_values (Array(2000, 529)) ''\n",
      "/mrmr_train (Group) ''\n",
      "/mrmr_train/axis0 (Array(529,)) ''\n",
      "/mrmr_train/axis1 (Array(8000,)) ''\n",
      "/mrmr_train/block0_items (Array(529,)) ''\n",
      "/mrmr_train/block0_values (Array(8000, 529)) ''\n",
      "/our_test (Group) ''\n",
      "/our_test/axis0 (Array(447,)) ''\n",
      "/our_test/axis1 (Array(2000,)) ''\n",
      "/our_test/block0_items (Array(447,)) ''\n",
      "/our_test/block0_values (Array(2000, 447)) ''\n",
      "/our_train (Group) ''\n",
      "/our_train/axis0 (Array(447,)) ''\n",
      "/our_train/axis1 (Array(8000,)) ''\n",
      "/our_train/block0_items (Array(447,)) ''\n",
      "/our_train/block0_values (Array(8000, 447)) ''\n",
      "/raw_test (Group) ''\n",
      "/raw_test/axis0 (Array(785,)) ''\n",
      "/raw_test/axis1 (Array(2000,)) ''\n",
      "/raw_test/block0_items (Array(785,)) ''\n",
      "/raw_test/block0_values (Array(2000, 785)) ''\n",
      "/raw_train (Group) ''\n",
      "/raw_train/axis0 (Array(785,)) ''\n",
      "/raw_train/axis1 (Array(8000,)) ''\n",
      "/raw_train/block0_items (Array(785,)) ''\n",
      "/raw_train/block0_values (Array(8000, 785)) ''\n",
      "/rfe_test (Group) ''\n",
      "/rfe_test/axis0 (Array(529,)) ''\n",
      "/rfe_test/axis1 (Array(2000,)) ''\n",
      "/rfe_test/block0_items (Array(529,)) ''\n",
      "/rfe_test/block0_values (Array(2000, 529)) ''\n",
      "/rfe_train (Group) ''\n",
      "/rfe_train/axis0 (Array(529,)) ''\n",
      "/rfe_train/axis1 (Array(8000,)) ''\n",
      "/rfe_train/block0_items (Array(529,)) ''\n",
      "/rfe_train/block0_values (Array(8000, 529)) ''\n",
      "/sarlfs_test (Group) ''\n",
      "/sarlfs_test/axis0 (Array(407,)) ''\n",
      "/sarlfs_test/axis1 (Array(2000,)) ''\n",
      "/sarlfs_test/block0_items (Array(407,)) ''\n",
      "/sarlfs_test/block0_values (Array(2000, 407)) ''\n",
      "/sarlfs_train (Group) ''\n",
      "/sarlfs_train/axis0 (Array(407,)) ''\n",
      "/sarlfs_train/axis1 (Array(8000,)) ''\n",
      "/sarlfs_train/block0_items (Array(407,)) ''\n",
      "/sarlfs_train/block0_values (Array(8000, 407)) ''\n",
      "\n"
     ]
    }
   ],
   "source": [
    "with tables.open_file(f'{base_path}/history/minist.hdf', mode='a') as store:\n",
    "    store.remove_node(where='/gfs_train', recursive=True)\n",
    "    store.remove_node(where='/gfs_test', recursive=True)\n",
    "    print(store)"
   ],
   "metadata": {
    "collapsed": false,
    "pycharm": {
     "name": "#%%\n"
    }
   }
  },
  {
   "cell_type": "code",
   "execution_count": 36,
   "outputs": [
    {
     "name": "stdout",
     "output_type": "stream",
     "text": [
      "/home/xiaomeng/jupyter_base/AutoFS/data/history/activity.hdf (File) ''\n",
      "Last modif.: '2022-12-03T17:54:02+00:00'\n",
      "Object Tree: \n",
      "/ (RootGroup) ''\n",
      "/kbest_test (Group) ''\n",
      "/kbest_test/axis0 (Array(528,)) ''\n",
      "/kbest_test/axis1 (Array(2060,)) ''\n",
      "/kbest_test/block0_items (Array(528,)) ''\n",
      "/kbest_test/block0_values (Array(2060, 528)) ''\n",
      "/kbest_train (Group) ''\n",
      "/kbest_train/axis0 (Array(528,)) ''\n",
      "/kbest_train/axis1 (Array(8239,)) ''\n",
      "/kbest_train/block0_items (Array(528,)) ''\n",
      "/kbest_train/block0_values (Array(8239, 528)) ''\n",
      "/lasso_test (Group) ''\n",
      "/lasso_test/axis0 (Array(404,)) ''\n",
      "/lasso_test/axis1 (Array(2060,)) ''\n",
      "/lasso_test/block0_items (Array(404,)) ''\n",
      "/lasso_test/block0_values (Array(2060, 404)) ''\n",
      "/lasso_train (Group) ''\n",
      "/lasso_train/axis0 (Array(404,)) ''\n",
      "/lasso_train/axis1 (Array(8239,)) ''\n",
      "/lasso_train/block0_items (Array(404,)) ''\n",
      "/lasso_train/block0_values (Array(8239, 404)) ''\n",
      "/lassonet_test (Group) ''\n",
      "/lassonet_test/axis0 (Array(528,)) ''\n",
      "/lassonet_test/axis1 (Array(2060,)) ''\n",
      "/lassonet_test/block0_items (Array(528,)) ''\n",
      "/lassonet_test/block0_values (Array(2060, 528)) ''\n",
      "/lassonet_train (Group) ''\n",
      "/lassonet_train/axis0 (Array(528,)) ''\n",
      "/lassonet_train/axis1 (Array(8239,)) ''\n",
      "/lassonet_train/block0_items (Array(528,)) ''\n",
      "/lassonet_train/block0_values (Array(8239, 528)) ''\n",
      "/marlfs_test (Group) ''\n",
      "/marlfs_test/axis0 (Array(528,)) ''\n",
      "/marlfs_test/axis1 (Array(2060,)) ''\n",
      "/marlfs_test/block0_items (Array(528,)) ''\n",
      "/marlfs_test/block0_values (Array(2060, 528)) ''\n",
      "/marlfs_train (Group) ''\n",
      "/marlfs_train/axis0 (Array(528,)) ''\n",
      "/marlfs_train/axis1 (Array(8239,)) ''\n",
      "/marlfs_train/block0_items (Array(528,)) ''\n",
      "/marlfs_train/block0_values (Array(8239, 528)) ''\n",
      "/mrmr_test (Group) ''\n",
      "/mrmr_test/axis0 (Array(528,)) ''\n",
      "/mrmr_test/axis1 (Array(2060,)) ''\n",
      "/mrmr_test/block0_items (Array(528,)) ''\n",
      "/mrmr_test/block0_values (Array(2060, 528)) ''\n",
      "/mrmr_train (Group) ''\n",
      "/mrmr_train/axis0 (Array(528,)) ''\n",
      "/mrmr_train/axis1 (Array(8239,)) ''\n",
      "/mrmr_train/block0_items (Array(528,)) ''\n",
      "/mrmr_train/block0_values (Array(8239, 528)) ''\n",
      "/our_test (Group) ''\n",
      "/our_test/axis0 (Array(248,)) ''\n",
      "/our_test/axis1 (Array(2060,)) ''\n",
      "/our_test/block0_items (Array(248,)) ''\n",
      "/our_test/block0_values (Array(2060, 248)) ''\n",
      "/our_train (Group) ''\n",
      "/our_train/axis0 (Array(248,)) ''\n",
      "/our_train/axis1 (Array(8239,)) ''\n",
      "/our_train/block0_items (Array(248,)) ''\n",
      "/our_train/block0_values (Array(8239, 248)) ''\n",
      "/raw_test (Group) ''\n",
      "/raw_test/axis0 (Array(562,)) ''\n",
      "/raw_test/axis1 (Array(2060,)) ''\n",
      "/raw_test/block0_items (Array(562,)) ''\n",
      "/raw_test/block0_values (Array(2060, 562)) ''\n",
      "/raw_train (Group) ''\n",
      "/raw_train/axis0 (Array(562,)) ''\n",
      "/raw_train/axis1 (Array(8239,)) ''\n",
      "/raw_train/block0_items (Array(562,)) ''\n",
      "/raw_train/block0_values (Array(8239, 562)) ''\n",
      "/rfe_test (Group) ''\n",
      "/rfe_test/axis0 (Array(528,)) ''\n",
      "/rfe_test/axis1 (Array(2060,)) ''\n",
      "/rfe_test/block0_items (Array(528,)) ''\n",
      "/rfe_test/block0_values (Array(2060, 528)) ''\n",
      "/rfe_train (Group) ''\n",
      "/rfe_train/axis0 (Array(528,)) ''\n",
      "/rfe_train/axis1 (Array(8239,)) ''\n",
      "/rfe_train/block0_items (Array(528,)) ''\n",
      "/rfe_train/block0_values (Array(8239, 528)) ''\n",
      "/sarlfs_test (Group) ''\n",
      "/sarlfs_test/axis0 (Array(289,)) ''\n",
      "/sarlfs_test/axis1 (Array(2060,)) ''\n",
      "/sarlfs_test/block0_items (Array(289,)) ''\n",
      "/sarlfs_test/block0_values (Array(2060, 289)) ''\n",
      "/sarlfs_train (Group) ''\n",
      "/sarlfs_train/axis0 (Array(289,)) ''\n",
      "/sarlfs_train/axis1 (Array(8239,)) ''\n",
      "/sarlfs_train/block0_items (Array(289,)) ''\n",
      "/sarlfs_train/block0_values (Array(8239, 289)) ''\n",
      "\n"
     ]
    }
   ],
   "source": [
    "train_pd = pd.read_hdf(f'{base_path}/history/activity/best-ours-test.hdf', key='train')\n",
    "test_pd = pd.read_hdf(f'{base_path}/history/activity/best-ours-test.hdf', key='test')\n",
    "test_pd.to_hdf(f'{base_path}/history/activity.hdf', key='our_test')\n",
    "train_pd.to_hdf(f'{base_path}/history/activity.hdf', key='our_train')\n",
    "with tables.open_file(f'{base_path}/history/activity.hdf', mode='a') as store:\n",
    "    # store.remove_node(where='/gfs_train', recursive=True)\n",
    "    # store.remove_node(where='/gfs_test', recursive=True)\n",
    "    print(store)\n"
   ],
   "metadata": {
    "collapsed": false,
    "pycharm": {
     "name": "#%%\n"
    }
   }
  },
  {
   "cell_type": "code",
   "execution_count": 37,
   "outputs": [],
   "source": [
    "check_names = ['spectf', 'svmguide3', 'german_credit', 'uci_credit_card', 'spam_base',\n",
    "                   'megawatt1','ionosphere','openml_586', 'openml_589', 'openml_607', 'openml_616',\n",
    "                    'openml_618', 'openml_620',\n",
    "                  'openml_637']"
   ],
   "metadata": {
    "collapsed": false,
    "pycharm": {
     "name": "#%%\n"
    }
   }
  },
  {
   "cell_type": "code",
   "execution_count": 43,
   "outputs": [
    {
     "name": "stdout",
     "output_type": "stream",
     "text": [
      "INFO:  initialize the train and test dataset\n",
      "spectf 87.38\n",
      "INFO:  initialize the train and test dataset\n",
      "svmguide3 83.68\n",
      "INFO:  initialize the train and test dataset\n",
      "german_credit 75.34\n",
      "INFO:  initialize the train and test dataset\n",
      "uci_credit_card 80.61\n",
      "INFO:  initialize the train and test dataset\n",
      "spam_base 92.93\n",
      "INFO:  initialize the train and test dataset\n",
      "megawatt1 90.42\n",
      "INFO:  initialize the train and test dataset\n",
      "ionosphere 97.10\n",
      "INFO:  initialize the train and test dataset\n",
      "openml_586 64.00\n",
      "INFO:  initialize the train and test dataset\n",
      "openml_589 59.76\n",
      "INFO:  initialize the train and test dataset\n",
      "openml_607 66.01\n",
      "INFO:  initialize the train and test dataset\n",
      "openml_616 47.39\n",
      "INFO:  initialize the train and test dataset\n",
      "openml_618 59.13\n",
      "INFO:  initialize the train and test dataset\n",
      "openml_620 62.58\n",
      "INFO:  initialize the train and test dataset\n",
      "openml_637 42.12\n"
     ]
    }
   ],
   "source": [
    "for name in check_names:\n",
    "    fe = FeatureEvaluator(name)\n",
    "    raw_test = pd.read_hdf(f'{base_path}/history/{name}.hdf', key='our_test')\n",
    "    print(name, '{:.2f}'.format(fe.get_performance(raw_test) * 100))"
   ],
   "metadata": {
    "collapsed": false,
    "pycharm": {
     "name": "#%%\n"
    }
   }
  },
  {
   "cell_type": "code",
   "execution_count": 40,
   "outputs": [
    {
     "name": "stdout",
     "output_type": "stream",
     "text": [
      "INFO:  initialize the train and test dataset\n",
      "activity 96.17\n"
     ]
    }
   ],
   "source": [
    "fe = FeatureEvaluator('activity')\n",
    "raw_test = pd.read_hdf(f'{base_path}/history/activity.hdf', key='raw_test')\n",
    "print('activity', '{:.2f}'.format(fe.get_performance(raw_test) * 100))"
   ],
   "metadata": {
    "collapsed": false,
    "pycharm": {
     "name": "#%%\n"
    }
   }
  },
  {
   "cell_type": "code",
   "execution_count": 41,
   "outputs": [
    {
     "name": "stdout",
     "output_type": "stream",
     "text": [
      "INFO:  initialize the train and test dataset\n",
      "mice_protein 74.99\n"
     ]
    }
   ],
   "source": [
    "fe = FeatureEvaluator('mice_protein')\n",
    "raw_test = pd.read_hdf(f'{base_path}/history/mice_protein.hdf', key='raw_test')\n",
    "print('mice_protein', '{:.2f}'.format(fe.get_performance(raw_test) * 100))"
   ],
   "metadata": {
    "collapsed": false,
    "pycharm": {
     "name": "#%%\n"
    }
   }
  },
  {
   "cell_type": "code",
   "execution_count": 42,
   "outputs": [
    {
     "name": "stdout",
     "output_type": "stream",
     "text": [
      "INFO:  initialize the train and test dataset\n",
      "activity 89.51\n"
     ]
    }
   ],
   "source": [
    "fe = FeatureEvaluator('openml_607')\n",
    "raw_test = pd.read_hdf(f'{base_path}/history/activity.hdf', key='our_test')\n",
    "print('activity', '{:.2f}'.format(fe.get_performance(raw_test) * 100))"
   ],
   "metadata": {
    "collapsed": false,
    "pycharm": {
     "name": "#%%\n"
    }
   }
  },
  {
   "cell_type": "code",
   "execution_count": 44,
   "outputs": [
    {
     "data": {
      "text/plain": "           0         1         2         3         50\n993 -1.517400 -1.692510 -1.690030  1.423942  0.571583\n859  0.590625  1.436773 -0.030468 -0.273418 -1.573463\n298 -0.378895 -0.705465 -0.701018  0.102093  0.981108\n553 -1.006232 -0.113759 -0.156025 -0.873359  0.389448\n672  0.605608  0.932731 -0.441642 -1.643250 -2.301627\n..        ...       ...       ...       ...       ...\n679 -0.294134 -0.713677 -0.352650  0.788648  1.426504\n722 -0.916039 -1.264736  0.494033  1.129426  0.452470\n215  1.073964  0.984338 -1.358774 -1.618447 -1.539029\n653 -0.823115 -1.405374 -1.348450 -0.129775  0.199805\n150 -0.251721  0.635193 -0.081737 -0.078228 -0.335429\n\n[200 rows x 5 columns]",
      "text/html": "<div>\n<style scoped>\n    .dataframe tbody tr th:only-of-type {\n        vertical-align: middle;\n    }\n\n    .dataframe tbody tr th {\n        vertical-align: top;\n    }\n\n    .dataframe thead th {\n        text-align: right;\n    }\n</style>\n<table border=\"1\" class=\"dataframe\">\n  <thead>\n    <tr style=\"text-align: right;\">\n      <th></th>\n      <th>0</th>\n      <th>1</th>\n      <th>2</th>\n      <th>3</th>\n      <th>50</th>\n    </tr>\n  </thead>\n  <tbody>\n    <tr>\n      <th>993</th>\n      <td>-1.517400</td>\n      <td>-1.692510</td>\n      <td>-1.690030</td>\n      <td>1.423942</td>\n      <td>0.571583</td>\n    </tr>\n    <tr>\n      <th>859</th>\n      <td>0.590625</td>\n      <td>1.436773</td>\n      <td>-0.030468</td>\n      <td>-0.273418</td>\n      <td>-1.573463</td>\n    </tr>\n    <tr>\n      <th>298</th>\n      <td>-0.378895</td>\n      <td>-0.705465</td>\n      <td>-0.701018</td>\n      <td>0.102093</td>\n      <td>0.981108</td>\n    </tr>\n    <tr>\n      <th>553</th>\n      <td>-1.006232</td>\n      <td>-0.113759</td>\n      <td>-0.156025</td>\n      <td>-0.873359</td>\n      <td>0.389448</td>\n    </tr>\n    <tr>\n      <th>672</th>\n      <td>0.605608</td>\n      <td>0.932731</td>\n      <td>-0.441642</td>\n      <td>-1.643250</td>\n      <td>-2.301627</td>\n    </tr>\n    <tr>\n      <th>...</th>\n      <td>...</td>\n      <td>...</td>\n      <td>...</td>\n      <td>...</td>\n      <td>...</td>\n    </tr>\n    <tr>\n      <th>679</th>\n      <td>-0.294134</td>\n      <td>-0.713677</td>\n      <td>-0.352650</td>\n      <td>0.788648</td>\n      <td>1.426504</td>\n    </tr>\n    <tr>\n      <th>722</th>\n      <td>-0.916039</td>\n      <td>-1.264736</td>\n      <td>0.494033</td>\n      <td>1.129426</td>\n      <td>0.452470</td>\n    </tr>\n    <tr>\n      <th>215</th>\n      <td>1.073964</td>\n      <td>0.984338</td>\n      <td>-1.358774</td>\n      <td>-1.618447</td>\n      <td>-1.539029</td>\n    </tr>\n    <tr>\n      <th>653</th>\n      <td>-0.823115</td>\n      <td>-1.405374</td>\n      <td>-1.348450</td>\n      <td>-0.129775</td>\n      <td>0.199805</td>\n    </tr>\n    <tr>\n      <th>150</th>\n      <td>-0.251721</td>\n      <td>0.635193</td>\n      <td>-0.081737</td>\n      <td>-0.078228</td>\n      <td>-0.335429</td>\n    </tr>\n  </tbody>\n</table>\n<p>200 rows × 5 columns</p>\n</div>"
     },
     "execution_count": 44,
     "metadata": {},
     "output_type": "execute_result"
    }
   ],
   "source": [
    "pd.read_hdf(f'{base_path}/history/openml_607.hdf', key='our_test')"
   ],
   "metadata": {
    "collapsed": false,
    "pycharm": {
     "name": "#%%\n"
    }
   }
  },
  {
   "cell_type": "code",
   "execution_count": 45,
   "outputs": [
    {
     "data": {
      "text/plain": "           0         1         2         3         50\n993 -1.517400 -1.692510 -1.690030  1.423942  0.571583\n859  0.590625  1.436773 -0.030468 -0.273418 -1.573463\n298 -0.378895 -0.705465 -0.701018  0.102093  0.981108\n553 -1.006232 -0.113759 -0.156025 -0.873359  0.389448\n672  0.605608  0.932731 -0.441642 -1.643250 -2.301627\n..        ...       ...       ...       ...       ...\n679 -0.294134 -0.713677 -0.352650  0.788648  1.426504\n722 -0.916039 -1.264736  0.494033  1.129426  0.452470\n215  1.073964  0.984338 -1.358774 -1.618447 -1.539029\n653 -0.823115 -1.405374 -1.348450 -0.129775  0.199805\n150 -0.251721  0.635193 -0.081737 -0.078228 -0.335429\n\n[200 rows x 5 columns]",
      "text/html": "<div>\n<style scoped>\n    .dataframe tbody tr th:only-of-type {\n        vertical-align: middle;\n    }\n\n    .dataframe tbody tr th {\n        vertical-align: top;\n    }\n\n    .dataframe thead th {\n        text-align: right;\n    }\n</style>\n<table border=\"1\" class=\"dataframe\">\n  <thead>\n    <tr style=\"text-align: right;\">\n      <th></th>\n      <th>0</th>\n      <th>1</th>\n      <th>2</th>\n      <th>3</th>\n      <th>50</th>\n    </tr>\n  </thead>\n  <tbody>\n    <tr>\n      <th>993</th>\n      <td>-1.517400</td>\n      <td>-1.692510</td>\n      <td>-1.690030</td>\n      <td>1.423942</td>\n      <td>0.571583</td>\n    </tr>\n    <tr>\n      <th>859</th>\n      <td>0.590625</td>\n      <td>1.436773</td>\n      <td>-0.030468</td>\n      <td>-0.273418</td>\n      <td>-1.573463</td>\n    </tr>\n    <tr>\n      <th>298</th>\n      <td>-0.378895</td>\n      <td>-0.705465</td>\n      <td>-0.701018</td>\n      <td>0.102093</td>\n      <td>0.981108</td>\n    </tr>\n    <tr>\n      <th>553</th>\n      <td>-1.006232</td>\n      <td>-0.113759</td>\n      <td>-0.156025</td>\n      <td>-0.873359</td>\n      <td>0.389448</td>\n    </tr>\n    <tr>\n      <th>672</th>\n      <td>0.605608</td>\n      <td>0.932731</td>\n      <td>-0.441642</td>\n      <td>-1.643250</td>\n      <td>-2.301627</td>\n    </tr>\n    <tr>\n      <th>...</th>\n      <td>...</td>\n      <td>...</td>\n      <td>...</td>\n      <td>...</td>\n      <td>...</td>\n    </tr>\n    <tr>\n      <th>679</th>\n      <td>-0.294134</td>\n      <td>-0.713677</td>\n      <td>-0.352650</td>\n      <td>0.788648</td>\n      <td>1.426504</td>\n    </tr>\n    <tr>\n      <th>722</th>\n      <td>-0.916039</td>\n      <td>-1.264736</td>\n      <td>0.494033</td>\n      <td>1.129426</td>\n      <td>0.452470</td>\n    </tr>\n    <tr>\n      <th>215</th>\n      <td>1.073964</td>\n      <td>0.984338</td>\n      <td>-1.358774</td>\n      <td>-1.618447</td>\n      <td>-1.539029</td>\n    </tr>\n    <tr>\n      <th>653</th>\n      <td>-0.823115</td>\n      <td>-1.405374</td>\n      <td>-1.348450</td>\n      <td>-0.129775</td>\n      <td>0.199805</td>\n    </tr>\n    <tr>\n      <th>150</th>\n      <td>-0.251721</td>\n      <td>0.635193</td>\n      <td>-0.081737</td>\n      <td>-0.078228</td>\n      <td>-0.335429</td>\n    </tr>\n  </tbody>\n</table>\n<p>200 rows × 5 columns</p>\n</div>"
     },
     "execution_count": 45,
     "metadata": {},
     "output_type": "execute_result"
    }
   ],
   "source": [
    "pd.read_hdf(f'{base_path}/history/openml_607.hdf', key='gfs_test')"
   ],
   "metadata": {
    "collapsed": false,
    "pycharm": {
     "name": "#%%\n"
    }
   }
  },
  {
   "cell_type": "code",
   "execution_count": null,
   "outputs": [],
   "source": [
    "gfs_p = [('spectf', 0.7501435406698564), ('svmguide3', 0.8312091643663735), ('german_credit', 0.6754404887965069), ('uci_credit_card', 0.7996020440144689), ('spam_base', 0.9225496484407063), ('megawatt1', 0.7741626794258374), ('ionosphere', 0.9133689839572193), ('activity', 0.9611650485436893), ('mice_protein', 0.8007399577167019), ('coil-20', 0.9376890502117362), ('minist', 0.916), ('minist_fashion', 0.806), ('openml_586', 0.6327456399454919), ('openml_589', 0.611347312655667), ('openml_607', 0.6601204954669946), ('openml_616', 0.5293457347180893), ('openml_618', 0.6161966881072478), ('openml_620', 0.619962328301719), ('openml_637', 0.4011904784198162)]\n"
   ],
   "metadata": {
    "collapsed": false,
    "pycharm": {
     "name": "#%%\n"
    }
   }
  },
  {
   "cell_type": "code",
   "execution_count": 1,
   "outputs": [],
   "source": [
    "import  torch"
   ],
   "metadata": {
    "collapsed": false,
    "pycharm": {
     "name": "#%%\n"
    }
   }
  },
  {
   "cell_type": "code",
   "execution_count": 7,
   "outputs": [],
   "source": [
    "mask = torch.load('/home/xiaomeng/jupyter_base/AutoFS/data/history/minist_fashion/generated_choice.-..pt')"
   ],
   "metadata": {
    "collapsed": false,
    "pycharm": {
     "name": "#%%\n"
    }
   }
  },
  {
   "cell_type": "code",
   "execution_count": 9,
   "outputs": [
    {
     "data": {
      "text/plain": "tensor([ 25.,  25.,  98.,  26.,  26.,  26.,  26.,  26.,  23.,  27.,  24.,  26.,\n         26., 100.,  25., 100., 101.,  99., 102., 103., 102.,  98.])"
     },
     "execution_count": 9,
     "metadata": {},
     "output_type": "execute_result"
    }
   ],
   "source": [
    "mask.sum(1)"
   ],
   "metadata": {
    "collapsed": false,
    "pycharm": {
     "name": "#%%\n"
    }
   }
  },
  {
   "cell_type": "code",
   "execution_count": null,
   "outputs": [],
   "source": [],
   "metadata": {
    "collapsed": false,
    "pycharm": {
     "name": "#%%\n"
    }
   }
  }
 ],
 "metadata": {
  "kernelspec": {
   "display_name": "Python 3",
   "language": "python",
   "name": "python3"
  },
  "language_info": {
   "codemirror_mode": {
    "name": "ipython",
    "version": 2
   },
   "file_extension": ".py",
   "mimetype": "text/x-python",
   "name": "python",
   "nbconvert_exporter": "python",
   "pygments_lexer": "ipython2",
   "version": "2.7.6"
  }
 },
 "nbformat": 4,
 "nbformat_minor": 0
}