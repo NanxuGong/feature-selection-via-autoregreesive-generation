{
 "cells": [
  {
   "cell_type": "markdown",
   "source": [
    "This experiment shows the model performance with different downstream model."
   ],
   "metadata": {
    "collapsed": false,
    "pycharm": {
     "name": "#%% md\n"
    }
   }
  },
  {
   "cell_type": "code",
   "execution_count": 1,
   "outputs": [
    {
     "name": "stdout",
     "output_type": "stream",
     "text": [
      "['/home/xiaomeng/jupyter_base', '/home/xiaomeng/miniconda3/envs/shaow/lib/python39.zip', '/home/xiaomeng/miniconda3/envs/shaow/lib/python3.9', '/home/xiaomeng/miniconda3/envs/shaow/lib/python3.9/lib-dynload', '', '/home/xiaomeng/.local/lib/python3.9/site-packages', '/home/xiaomeng/miniconda3/envs/shaow/lib/python3.9/site-packages', '/home/xiaomeng/jupyter_base/AutoFS/code']\n"
     ]
    }
   ],
   "source": [
    "import os\n",
    "import sys\n",
    "\n",
    "sys.path.append('/home/xiaomeng/jupyter_base/AutoFS/code')\n",
    "print(sys.path)\n",
    "\n",
    "import pandas as pd"
   ],
   "metadata": {
    "collapsed": false,
    "pycharm": {
     "name": "#%%\n"
    }
   }
  },
  {
   "cell_type": "code",
   "execution_count": 4,
   "outputs": [],
   "source": [
    "from utils.tools import downstream_task_by_method\n",
    "from feature_env import FeatureEvaluator\n",
    "\n",
    "MEASUREMENT = {\n",
    "    'cls': ['Precision', 'Recall', 'F1score', 'ROC/AUC'],\n",
    "    'reg': ['MAE', 'MSE', 'RAE', 'RMSE'],\n",
    "    'det': ['MAP', 'F1score', 'RAS', 'Recall']\n",
    "}\n",
    "cols = [\n",
    "\t'RF', 'XGB', 'SVM', 'KNN', 'Ridge', 'LASSO', 'DT'\n",
    "]\n",
    "base_path = '/home/xiaomeng/jupyter_base/AutoFS/data'\n",
    "\n",
    "def report_performance(name, method):\n",
    "\tfe = FeatureEvaluator(name)\n",
    "\tfile_ours = f'{base_path}/history/{fe.task_name}/best-ours.hdf'\n",
    "\tfile_origin = f'{base_path}/{fe.task_name}.hdf'\n",
    "\tassert os.path.exists(file_ours) and os.path.exists(file_origin)\n",
    "\tds_ours = pd.read_hdf(file_ours)\n",
    "\tds_ori = pd.read_hdf(file_origin)\n",
    "\tours_p = downstream_task_by_method(ds_ours, fe.task_type, method)\n",
    "\tran_p = downstream_task_by_method(ds_ori, fe.task_type, method)\n",
    "\treturn ours_p, ran_p, fe.task_type\n",
    "\n",
    "def show_and_out(name, id):\n",
    "\tours_p, ori_p = [], []\n",
    "\tfor method in cols:\n",
    "\t\tours, ori, type = report_performance(name, method)\n",
    "\t\tours_p.append(ours)\n",
    "\t\tori_p.append(ori)\n",
    "\tprint(name)\n",
    "\tp = pd.DataFrame(zip(ours_p, ori_p, [id] * 7))\n",
    "\tp.columns = ['Ours', 'Original', 'id']\n",
    "\tp.index = cols\n",
    "\tprint(p)\n",
    "\tp.to_csv(f'/home/xiaomeng/jupyter_base/AutoFS/code/ours/exps/RQ4:Other_Downstream/out/{name}.csv')"
   ],
   "metadata": {
    "collapsed": false,
    "pycharm": {
     "name": "#%%\n"
    }
   }
  },
  {
   "cell_type": "code",
   "execution_count": 5,
   "outputs": [
    {
     "name": "stdout",
     "output_type": "stream",
     "text": [
      "spectf\n",
      "           Ours  Original  id\n",
      "RF     0.828462  0.760605   0\n",
      "XGB    0.771979  0.795870   0\n",
      "SVM    0.625423  0.718671   0\n",
      "KNN    0.833506  0.731495   0\n",
      "Ridge  0.702815  0.702524   0\n",
      "LASSO  0.702815  0.702524   0\n",
      "DT     0.763333  0.720658   0\n",
      "svmguide3\n",
      "           Ours  Original  id\n",
      "RF     0.840154  0.818456   1\n",
      "XGB    0.853668  0.854509   1\n",
      "SVM    0.747108  0.779775   1\n",
      "KNN    0.811765  0.796678   1\n",
      "Ridge  0.722106  0.767775   1\n",
      "LASSO  0.722106  0.767775   1\n",
      "DT     0.791067  0.783411   1\n",
      "german_credit\n",
      "           Ours  Original  id\n",
      "RF     0.764595  0.741986   2\n",
      "XGB    0.732785  0.750671   2\n",
      "SVM    0.682791  0.663775   2\n",
      "KNN    0.681579  0.679714   2\n",
      "Ridge  0.745434  0.756884   2\n",
      "LASSO  0.745434  0.756884   2\n",
      "DT     0.689058  0.683794   2\n",
      "spam_base\n",
      "           Ours  Original  id\n",
      "RF     0.952951  0.952058   3\n",
      "XGB    0.951043  0.953650   3\n",
      "SVM    0.889796  0.787514   3\n",
      "KNN    0.888507  0.804745   3\n",
      "Ridge  0.868119  0.886261   3\n",
      "LASSO  0.868119  0.886261   3\n",
      "DT     0.916069  0.910690   3\n",
      "ionosphere\n",
      "           Ours  Original  id\n",
      "RF     0.953995  0.933671   4\n",
      "XGB    0.936566  0.933909   4\n",
      "SVM    0.807813  0.873870   4\n",
      "KNN    0.847973  0.829248   4\n",
      "Ridge  0.824575  0.857457   4\n",
      "LASSO  0.824575  0.857457   4\n",
      "DT     0.914790  0.883313   4\n",
      "megawatt1\n",
      "           Ours  Original  id\n",
      "RF     0.890596  0.859110   5\n",
      "XGB    0.886358  0.875358   5\n",
      "SVM    0.848676  0.794812   5\n",
      "KNN    0.874031  0.844687   5\n",
      "Ridge  0.854179  0.851425   5\n",
      "LASSO  0.854179  0.851425   5\n",
      "DT     0.839176  0.831534   5\n",
      "uci_credit_card\n",
      "           Ours  Original  id\n",
      "RF     0.798994  0.797203   6\n",
      "XGB    0.796291  0.796844   6\n",
      "SVM    0.419163  0.581962   6\n",
      "KNN    0.710462  0.713969   6\n",
      "Ridge  0.742209  0.742320   6\n",
      "LASSO  0.742209  0.742320   6\n",
      "DT     0.729500  0.730060   6\n",
      "openml_618\n",
      "           Ours  Original  id\n",
      "RF     0.733393  0.665328   7\n",
      "XGB    0.737243  0.694911   7\n",
      "SVM    0.100942  0.086924   7\n",
      "KNN    0.650219  0.084038   7\n",
      "Ridge  0.097153  0.111396   7\n",
      "LASSO  0.097153  0.111396   7\n",
      "DT     0.596363  0.492514   7\n",
      "openml_589\n",
      "           Ours  Original  id\n",
      "RF     0.728475  0.673048   8\n",
      "XGB    0.747386  0.716786   8\n",
      "SVM    0.165053  0.137459   8\n",
      "KNN    0.663776  0.173671   8\n",
      "Ridge  0.160404  0.147119   8\n",
      "LASSO  0.160404  0.147119   8\n",
      "DT     0.602639  0.517766   8\n",
      "openml_616\n",
      "           Ours  Original  id\n",
      "RF     0.684142  0.588208   9\n",
      "XGB    0.704171  0.629534   9\n",
      "SVM    0.072739 -0.011579   9\n",
      "KNN    0.675385  0.007987   9\n",
      "Ridge  0.074051  0.015578   9\n",
      "LASSO  0.074051  0.015578   9\n",
      "DT     0.551518  0.416478   9\n",
      "openml_607\n",
      "           Ours  Original  id\n",
      "RF     0.709309  0.659022  10\n",
      "XGB    0.709667  0.706611  10\n",
      "SVM    0.096199  0.077063  10\n",
      "KNN    0.724372  0.056848  10\n",
      "Ridge  0.094310  0.073139  10\n",
      "LASSO  0.094310  0.073139  10\n",
      "DT     0.600288  0.497949  10\n",
      "openml_620\n",
      "           Ours  Original  id\n",
      "RF     0.701426  0.650661  11\n",
      "XGB    0.729804  0.692794  11\n",
      "SVM    0.094220  0.085269  11\n",
      "KNN    0.550978  0.075842  11\n",
      "Ridge  0.100722  0.105304  11\n",
      "LASSO  0.100722  0.105304  11\n",
      "DT     0.550851  0.482250  11\n",
      "openml_637\n",
      "           Ours  Original  id\n",
      "RF     0.662908  0.559344  12\n",
      "XGB    0.676071  0.603591  12\n",
      "SVM    0.066187 -0.046111  12\n",
      "KNN    0.592981 -0.017207  12\n",
      "Ridge  0.068704  0.004569  12\n",
      "LASSO  0.068704  0.004569  12\n",
      "DT     0.522604  0.332287  12\n",
      "openml_586\n",
      "           Ours  Original  id\n",
      "RF     0.718526  0.686708  13\n",
      "XGB    0.718312  0.717231  13\n",
      "SVM    0.121667  0.099492  13\n",
      "KNN    0.740248  0.144885  13\n",
      "Ridge  0.122782  0.110652  13\n",
      "LASSO  0.122782  0.110652  13\n",
      "DT     0.595605  0.521879  13\n",
      "higgs\n",
      "           Ours  Original  id\n",
      "RF     0.715382  0.711600  14\n",
      "XGB    0.710682  0.709525  14\n",
      "SVM    0.631049  0.633346  14\n",
      "KNN    0.604543  0.577816  14\n",
      "Ridge  0.630041  0.632855  14\n",
      "LASSO  0.630041  0.632855  14\n",
      "DT     0.627418  0.622466  14\n"
     ]
    }
   ],
   "source": [
    "import warnings\n",
    "warnings.filterwarnings(\"ignore\")\n",
    "for id, i in enumerate(['spectf', 'svmguide3', 'german_credit', 'spam_base',\n",
    "              'ionosphere', 'megawatt1', 'uci_credit_card',\n",
    "                                         'openml_618', 'openml_589', 'openml_616', 'openml_607', 'openml_620',\n",
    "              'openml_637',\n",
    "              'openml_586', 'higgs']):\n",
    "    show_and_out(i, id)"
   ],
   "metadata": {
    "collapsed": false,
    "pycharm": {
     "name": "#%%\n"
    }
   }
  },
  {
   "cell_type": "code",
   "execution_count": null,
   "outputs": [],
   "source": [],
   "metadata": {
    "collapsed": false,
    "pycharm": {
     "name": "#%%\n"
    }
   }
  }
 ],
 "metadata": {
  "kernelspec": {
   "display_name": "Python 3",
   "language": "python",
   "name": "python3"
  },
  "language_info": {
   "codemirror_mode": {
    "name": "ipython",
    "version": 2
   },
   "file_extension": ".py",
   "mimetype": "text/x-python",
   "name": "python",
   "nbconvert_exporter": "python",
   "pygments_lexer": "ipython2",
   "version": "2.7.6"
  }
 },
 "nbformat": 4,
 "nbformat_minor": 0
}